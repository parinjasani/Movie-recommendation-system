{
  "cells": [
    {
      "cell_type": "markdown",
      "metadata": {
        "id": "SL3EEogw1cyZ"
      },
      "source": [
        "# **Movie Recommendation System**"
      ]
    },
    {
      "cell_type": "markdown",
      "metadata": {
        "id": "r805Ctn71cyb"
      },
      "source": [
        "**Recommender System** is a system that seeks to predict or filter preferences according to the user's choices. Recommender systems are utilized in a variety of areas including movies, music, news, books, research articles, search queries, social tags, and products in general. Recommender systems produce a list of recommendations in any of the two ways -\n",
        "\n",
        "**Collaborative filtering:** Collaborative filtering approaches build a model from the user's past behavior (i.e. items purchased or searched by the user) as well as similar decisions made by other users. This model is then used to predict items(or ratings for items) that users may have an interest in.\n",
        "\n",
        "**Content-based filtering:** Content-base filtering approaches uses a series of discrete characteristics of an item in order to recommend additional items with similar properties. Content-based filtering methods are totally based on a description of the item and a profile of the user's preferences. It recommends items based on the user's past preferences. Let's develop a basic recommendation system using Python and Pandas.\n",
        "\n",
        "Let's develop a basic recommendation system by suggesting items that are most similar to a particular item, in this case, movies. It just tells what movies/items are most similar to the user's movie choice.************"
      ]
    },
    {
      "cell_type": "markdown",
      "metadata": {
        "id": "CzwYevZB1cyc"
      },
      "source": [
        "# **Import Library**"
      ]
    },
    {
      "cell_type": "code",
      "execution_count": 1,
      "metadata": {
        "execution": {
          "iopub.execute_input": "2023-05-17T19:24:36.085212Z",
          "iopub.status.busy": "2023-05-17T19:24:36.084784Z",
          "iopub.status.idle": "2023-05-17T19:24:36.091535Z",
          "shell.execute_reply": "2023-05-17T19:24:36.090333Z",
          "shell.execute_reply.started": "2023-05-17T19:24:36.085165Z"
        },
        "id": "XX2YDdll1cyd",
        "trusted": true
      },
      "outputs": [],
      "source": [
        "import pandas as pd"
      ]
    },
    {
      "cell_type": "code",
      "execution_count": 2,
      "metadata": {
        "execution": {
          "iopub.execute_input": "2023-05-17T19:24:36.094713Z",
          "iopub.status.busy": "2023-05-17T19:24:36.094216Z",
          "iopub.status.idle": "2023-05-17T19:24:36.112196Z",
          "shell.execute_reply": "2023-05-17T19:24:36.111024Z",
          "shell.execute_reply.started": "2023-05-17T19:24:36.094667Z"
        },
        "id": "RABV1ajM1cyd",
        "trusted": true
      },
      "outputs": [],
      "source": [
        "import numpy as np"
      ]
    },
    {
      "cell_type": "markdown",
      "metadata": {
        "id": "_Y3_hme91cye"
      },
      "source": [
        "# **Import Dataset**"
      ]
    },
    {
      "cell_type": "code",
      "execution_count": null,
      "metadata": {
        "execution": {
          "iopub.execute_input": "2023-05-17T19:24:36.114517Z",
          "iopub.status.busy": "2023-05-17T19:24:36.113578Z",
          "iopub.status.idle": "2023-05-17T19:24:36.741845Z",
          "shell.execute_reply": "2023-05-17T19:24:36.740496Z",
          "shell.execute_reply.started": "2023-05-17T19:24:36.114477Z"
        },
        "id": "_ID-SeTY1cye",
        "trusted": true
      },
      "outputs": [],
      "source": [
        "ms=pd.read_csv('https://github.com/parinjasani/Movie-recommendation-system/blob/main/IMDB-Movie-Dataset(2024-1951).csv')"
      ]
    },
    {
      "cell_type": "code",
      "execution_count": 5,
      "metadata": {
        "colab": {
          "base_uri": "https://localhost:8080/",
          "height": 206
        },
        "execution": {
          "iopub.execute_input": "2023-05-17T19:24:36.743930Z",
          "iopub.status.busy": "2023-05-17T19:24:36.743494Z",
          "iopub.status.idle": "2023-05-17T19:24:36.776485Z",
          "shell.execute_reply": "2023-05-17T19:24:36.775085Z",
          "shell.execute_reply.started": "2023-05-17T19:24:36.743879Z"
        },
        "id": "VHnWAKce1cye",
        "outputId": "7051a299-b57f-42a1-f09f-113c999d7f84",
        "trusted": true
      },
      "outputs": [
        {
          "data": {
            "application/vnd.google.colaboratory.intrinsic+json": {
              "summary": "{\n  \"name\": \"ms\",\n  \"rows\": 2199,\n  \"fields\": [\n    {\n      \"column\": \"id\",\n      \"properties\": {\n        \"dtype\": \"number\",\n        \"std\": 635,\n        \"min\": 0,\n        \"max\": 2199,\n        \"num_unique_values\": 2199,\n        \"samples\": [\n          427,\n          1128,\n          367\n        ],\n        \"semantic_type\": \"\",\n        \"description\": \"\"\n      }\n    },\n    {\n      \"column\": \"movie_id\",\n      \"properties\": {\n        \"dtype\": \"number\",\n        \"std\": 7313062,\n        \"min\": 43306,\n        \"max\": 29169633,\n        \"num_unique_values\": 2199,\n        \"samples\": [\n          15163652,\n          27613132,\n          920464\n        ],\n        \"semantic_type\": \"\",\n        \"description\": \"\"\n      }\n    },\n    {\n      \"column\": \"movie_name\",\n      \"properties\": {\n        \"dtype\": \"string\",\n        \"num_unique_values\": 2161,\n        \"samples\": [\n          \"The Xpose\",\n          \"Suraj Pe Mangal Bhari\",\n          \"Refugee\"\n        ],\n        \"semantic_type\": \"\",\n        \"description\": \"\"\n      }\n    },\n    {\n      \"column\": \"year\",\n      \"properties\": {\n        \"dtype\": \"category\",\n        \"num_unique_values\": 84,\n        \"samples\": [\n          \"1932\",\n          \"2023\",\n          \"1966\"\n        ],\n        \"semantic_type\": \"\",\n        \"description\": \"\"\n      }\n    },\n    {\n      \"column\": \"genre\",\n      \"properties\": {\n        \"dtype\": \"category\",\n        \"num_unique_values\": 225,\n        \"samples\": [\n          \"Action, Drama, History\",\n          \"Adventure, Drama, Musical\",\n          \"Comedy, Crime, Mystery\"\n        ],\n        \"semantic_type\": \"\",\n        \"description\": \"\"\n      }\n    },\n    {\n      \"column\": \"overview\",\n      \"properties\": {\n        \"dtype\": \"string\",\n        \"num_unique_values\": 2120,\n        \"samples\": [\n          \"When a young man from a small town decides to make it big in a city, he faces several challenges.\",\n          \"The film which is based on the life on an Indian scientist Shivkar Bapuji Talpade, who is credited to have constructed India's first unmanned plane is the tale of the hardships that he went...                See full summary\\u00a0\\u00bb\",\n          \"An NRI and his wife decide to stay in his ancestral home, paying no heed to the warnings about ghosts. Soon, inexplicable occurrences cause him to call a psychiatrist to help solve the mystery.\"\n        ],\n        \"semantic_type\": \"\",\n        \"description\": \"\"\n      }\n    },\n    {\n      \"column\": \"director\",\n      \"properties\": {\n        \"dtype\": \"category\",\n        \"num_unique_values\": 1064,\n        \"samples\": [\n          \"Maneesh Sharma\",\n          \"Latif Faiziyev, Umesh Mehra\",\n          \"Robert Lieberman\"\n        ],\n        \"semantic_type\": \"\",\n        \"description\": \"\"\n      }\n    },\n    {\n      \"column\": \"cast\",\n      \"properties\": {\n        \"dtype\": \"string\",\n        \"num_unique_values\": 2178,\n        \"samples\": [\n          \"Rajinikanth, Akshay Kumar, Amy Jackson, Adil Hussain\",\n          \"Aamir Khan, Urmila Matondkar, Jackie Shroff, Gulshan Grover\",\n          \"Shammi Kapoor, Nanda Karnataki, Tanuja Samarth, Vijayendra Ghatge\"\n        ],\n        \"semantic_type\": \"\",\n        \"description\": \"\"\n      }\n    }\n  ]\n}",
              "type": "dataframe",
              "variable_name": "ms"
            },
            "text/html": [
              "\n",
              "  <div id=\"df-29649f04-246d-4148-a3a2-1b49171bb98a\" class=\"colab-df-container\">\n",
              "    <div>\n",
              "<style scoped>\n",
              "    .dataframe tbody tr th:only-of-type {\n",
              "        vertical-align: middle;\n",
              "    }\n",
              "\n",
              "    .dataframe tbody tr th {\n",
              "        vertical-align: top;\n",
              "    }\n",
              "\n",
              "    .dataframe thead th {\n",
              "        text-align: right;\n",
              "    }\n",
              "</style>\n",
              "<table border=\"1\" class=\"dataframe\">\n",
              "  <thead>\n",
              "    <tr style=\"text-align: right;\">\n",
              "      <th></th>\n",
              "      <th>id</th>\n",
              "      <th>movie_id</th>\n",
              "      <th>movie_name</th>\n",
              "      <th>year</th>\n",
              "      <th>genre</th>\n",
              "      <th>overview</th>\n",
              "      <th>director</th>\n",
              "      <th>cast</th>\n",
              "    </tr>\n",
              "  </thead>\n",
              "  <tbody>\n",
              "    <tr>\n",
              "      <th>0</th>\n",
              "      <td>0</td>\n",
              "      <td>15354916</td>\n",
              "      <td>Jawan</td>\n",
              "      <td>2023</td>\n",
              "      <td>Action, Thriller</td>\n",
              "      <td>A high-octane action thriller which outlines t...</td>\n",
              "      <td>Atlee</td>\n",
              "      <td>Shah Rukh Khan, Nayanthara, Vijay Sethupathi, ...</td>\n",
              "    </tr>\n",
              "    <tr>\n",
              "      <th>1</th>\n",
              "      <td>1</td>\n",
              "      <td>15748830</td>\n",
              "      <td>Jaane Jaan</td>\n",
              "      <td>2023</td>\n",
              "      <td>Crime, Drama, Mystery</td>\n",
              "      <td>A single mother and her daughter who commit a ...</td>\n",
              "      <td>Sujoy Ghosh</td>\n",
              "      <td>Kareena Kapoor, Jaideep Ahlawat, Vijay Varma, ...</td>\n",
              "    </tr>\n",
              "    <tr>\n",
              "      <th>2</th>\n",
              "      <td>2</td>\n",
              "      <td>11663228</td>\n",
              "      <td>Jailer</td>\n",
              "      <td>2023</td>\n",
              "      <td>Action, Comedy, Crime</td>\n",
              "      <td>A retired jailer goes on a manhunt to find his...</td>\n",
              "      <td>Nelson Dilipkumar</td>\n",
              "      <td>Rajinikanth, Mohanlal, Shivarajkumar, Jackie S...</td>\n",
              "    </tr>\n",
              "    <tr>\n",
              "      <th>3</th>\n",
              "      <td>3</td>\n",
              "      <td>14993250</td>\n",
              "      <td>Rocky Aur Rani Kii Prem Kahaani</td>\n",
              "      <td>2023</td>\n",
              "      <td>Comedy, Drama, Family</td>\n",
              "      <td>Flamboyant Punjabi Rocky and intellectual Beng...</td>\n",
              "      <td>Karan Johar</td>\n",
              "      <td>Ranveer Singh, Alia Bha0, Dharmendra, Shabana ...</td>\n",
              "    </tr>\n",
              "    <tr>\n",
              "      <th>4</th>\n",
              "      <td>4</td>\n",
              "      <td>15732324</td>\n",
              "      <td>OMG 2</td>\n",
              "      <td>2023</td>\n",
              "      <td>Comedy, Drama</td>\n",
              "      <td>An unhappy civilian asks the court to mandate ...</td>\n",
              "      <td>Amit Rai</td>\n",
              "      <td>Pankaj Tripathi, Akshay Kumar, Yami Gautam, Pa...</td>\n",
              "    </tr>\n",
              "  </tbody>\n",
              "</table>\n",
              "</div>\n",
              "    <div class=\"colab-df-buttons\">\n",
              "\n",
              "  <div class=\"colab-df-container\">\n",
              "    <button class=\"colab-df-convert\" onclick=\"convertToInteractive('df-29649f04-246d-4148-a3a2-1b49171bb98a')\"\n",
              "            title=\"Convert this dataframe to an interactive table.\"\n",
              "            style=\"display:none;\">\n",
              "\n",
              "  <svg xmlns=\"http://www.w3.org/2000/svg\" height=\"24px\" viewBox=\"0 -960 960 960\">\n",
              "    <path d=\"M120-120v-720h720v720H120Zm60-500h600v-160H180v160Zm220 220h160v-160H400v160Zm0 220h160v-160H400v160ZM180-400h160v-160H180v160Zm440 0h160v-160H620v160ZM180-180h160v-160H180v160Zm440 0h160v-160H620v160Z\"/>\n",
              "  </svg>\n",
              "    </button>\n",
              "\n",
              "  <style>\n",
              "    .colab-df-container {\n",
              "      display:flex;\n",
              "      gap: 12px;\n",
              "    }\n",
              "\n",
              "    .colab-df-convert {\n",
              "      background-color: #E8F0FE;\n",
              "      border: none;\n",
              "      border-radius: 50%;\n",
              "      cursor: pointer;\n",
              "      display: none;\n",
              "      fill: #1967D2;\n",
              "      height: 32px;\n",
              "      padding: 0 0 0 0;\n",
              "      width: 32px;\n",
              "    }\n",
              "\n",
              "    .colab-df-convert:hover {\n",
              "      background-color: #E2EBFA;\n",
              "      box-shadow: 0px 1px 2px rgba(60, 64, 67, 0.3), 0px 1px 3px 1px rgba(60, 64, 67, 0.15);\n",
              "      fill: #174EA6;\n",
              "    }\n",
              "\n",
              "    .colab-df-buttons div {\n",
              "      margin-bottom: 4px;\n",
              "    }\n",
              "\n",
              "    [theme=dark] .colab-df-convert {\n",
              "      background-color: #3B4455;\n",
              "      fill: #D2E3FC;\n",
              "    }\n",
              "\n",
              "    [theme=dark] .colab-df-convert:hover {\n",
              "      background-color: #434B5C;\n",
              "      box-shadow: 0px 1px 3px 1px rgba(0, 0, 0, 0.15);\n",
              "      filter: drop-shadow(0px 1px 2px rgba(0, 0, 0, 0.3));\n",
              "      fill: #FFFFFF;\n",
              "    }\n",
              "  </style>\n",
              "\n",
              "    <script>\n",
              "      const buttonEl =\n",
              "        document.querySelector('#df-29649f04-246d-4148-a3a2-1b49171bb98a button.colab-df-convert');\n",
              "      buttonEl.style.display =\n",
              "        google.colab.kernel.accessAllowed ? 'block' : 'none';\n",
              "\n",
              "      async function convertToInteractive(key) {\n",
              "        const element = document.querySelector('#df-29649f04-246d-4148-a3a2-1b49171bb98a');\n",
              "        const dataTable =\n",
              "          await google.colab.kernel.invokeFunction('convertToInteractive',\n",
              "                                                    [key], {});\n",
              "        if (!dataTable) return;\n",
              "\n",
              "        const docLinkHtml = 'Like what you see? Visit the ' +\n",
              "          '<a target=\"_blank\" href=https://colab.research.google.com/notebooks/data_table.ipynb>data table notebook</a>'\n",
              "          + ' to learn more about interactive tables.';\n",
              "        element.innerHTML = '';\n",
              "        dataTable['output_type'] = 'display_data';\n",
              "        await google.colab.output.renderOutput(dataTable, element);\n",
              "        const docLink = document.createElement('div');\n",
              "        docLink.innerHTML = docLinkHtml;\n",
              "        element.appendChild(docLink);\n",
              "      }\n",
              "    </script>\n",
              "  </div>\n",
              "\n",
              "\n",
              "<div id=\"df-b9f13aed-6f9c-4283-a0b4-244249dd8b14\">\n",
              "  <button class=\"colab-df-quickchart\" onclick=\"quickchart('df-b9f13aed-6f9c-4283-a0b4-244249dd8b14')\"\n",
              "            title=\"Suggest charts\"\n",
              "            style=\"display:none;\">\n",
              "\n",
              "<svg xmlns=\"http://www.w3.org/2000/svg\" height=\"24px\"viewBox=\"0 0 24 24\"\n",
              "     width=\"24px\">\n",
              "    <g>\n",
              "        <path d=\"M19 3H5c-1.1 0-2 .9-2 2v14c0 1.1.9 2 2 2h14c1.1 0 2-.9 2-2V5c0-1.1-.9-2-2-2zM9 17H7v-7h2v7zm4 0h-2V7h2v10zm4 0h-2v-4h2v4z\"/>\n",
              "    </g>\n",
              "</svg>\n",
              "  </button>\n",
              "\n",
              "<style>\n",
              "  .colab-df-quickchart {\n",
              "      --bg-color: #E8F0FE;\n",
              "      --fill-color: #1967D2;\n",
              "      --hover-bg-color: #E2EBFA;\n",
              "      --hover-fill-color: #174EA6;\n",
              "      --disabled-fill-color: #AAA;\n",
              "      --disabled-bg-color: #DDD;\n",
              "  }\n",
              "\n",
              "  [theme=dark] .colab-df-quickchart {\n",
              "      --bg-color: #3B4455;\n",
              "      --fill-color: #D2E3FC;\n",
              "      --hover-bg-color: #434B5C;\n",
              "      --hover-fill-color: #FFFFFF;\n",
              "      --disabled-bg-color: #3B4455;\n",
              "      --disabled-fill-color: #666;\n",
              "  }\n",
              "\n",
              "  .colab-df-quickchart {\n",
              "    background-color: var(--bg-color);\n",
              "    border: none;\n",
              "    border-radius: 50%;\n",
              "    cursor: pointer;\n",
              "    display: none;\n",
              "    fill: var(--fill-color);\n",
              "    height: 32px;\n",
              "    padding: 0;\n",
              "    width: 32px;\n",
              "  }\n",
              "\n",
              "  .colab-df-quickchart:hover {\n",
              "    background-color: var(--hover-bg-color);\n",
              "    box-shadow: 0 1px 2px rgba(60, 64, 67, 0.3), 0 1px 3px 1px rgba(60, 64, 67, 0.15);\n",
              "    fill: var(--button-hover-fill-color);\n",
              "  }\n",
              "\n",
              "  .colab-df-quickchart-complete:disabled,\n",
              "  .colab-df-quickchart-complete:disabled:hover {\n",
              "    background-color: var(--disabled-bg-color);\n",
              "    fill: var(--disabled-fill-color);\n",
              "    box-shadow: none;\n",
              "  }\n",
              "\n",
              "  .colab-df-spinner {\n",
              "    border: 2px solid var(--fill-color);\n",
              "    border-color: transparent;\n",
              "    border-bottom-color: var(--fill-color);\n",
              "    animation:\n",
              "      spin 1s steps(1) infinite;\n",
              "  }\n",
              "\n",
              "  @keyframes spin {\n",
              "    0% {\n",
              "      border-color: transparent;\n",
              "      border-bottom-color: var(--fill-color);\n",
              "      border-left-color: var(--fill-color);\n",
              "    }\n",
              "    20% {\n",
              "      border-color: transparent;\n",
              "      border-left-color: var(--fill-color);\n",
              "      border-top-color: var(--fill-color);\n",
              "    }\n",
              "    30% {\n",
              "      border-color: transparent;\n",
              "      border-left-color: var(--fill-color);\n",
              "      border-top-color: var(--fill-color);\n",
              "      border-right-color: var(--fill-color);\n",
              "    }\n",
              "    40% {\n",
              "      border-color: transparent;\n",
              "      border-right-color: var(--fill-color);\n",
              "      border-top-color: var(--fill-color);\n",
              "    }\n",
              "    60% {\n",
              "      border-color: transparent;\n",
              "      border-right-color: var(--fill-color);\n",
              "    }\n",
              "    80% {\n",
              "      border-color: transparent;\n",
              "      border-right-color: var(--fill-color);\n",
              "      border-bottom-color: var(--fill-color);\n",
              "    }\n",
              "    90% {\n",
              "      border-color: transparent;\n",
              "      border-bottom-color: var(--fill-color);\n",
              "    }\n",
              "  }\n",
              "</style>\n",
              "\n",
              "  <script>\n",
              "    async function quickchart(key) {\n",
              "      const quickchartButtonEl =\n",
              "        document.querySelector('#' + key + ' button');\n",
              "      quickchartButtonEl.disabled = true;  // To prevent multiple clicks.\n",
              "      quickchartButtonEl.classList.add('colab-df-spinner');\n",
              "      try {\n",
              "        const charts = await google.colab.kernel.invokeFunction(\n",
              "            'suggestCharts', [key], {});\n",
              "      } catch (error) {\n",
              "        console.error('Error during call to suggestCharts:', error);\n",
              "      }\n",
              "      quickchartButtonEl.classList.remove('colab-df-spinner');\n",
              "      quickchartButtonEl.classList.add('colab-df-quickchart-complete');\n",
              "    }\n",
              "    (() => {\n",
              "      let quickchartButtonEl =\n",
              "        document.querySelector('#df-b9f13aed-6f9c-4283-a0b4-244249dd8b14 button');\n",
              "      quickchartButtonEl.style.display =\n",
              "        google.colab.kernel.accessAllowed ? 'block' : 'none';\n",
              "    })();\n",
              "  </script>\n",
              "</div>\n",
              "\n",
              "    </div>\n",
              "  </div>\n"
            ],
            "text/plain": [
              "   id  movie_id                       movie_name  year                  genre  \\\n",
              "0   0  15354916                            Jawan  2023       Action, Thriller   \n",
              "1   1  15748830                       Jaane Jaan  2023  Crime, Drama, Mystery   \n",
              "2   2  11663228                           Jailer  2023  Action, Comedy, Crime   \n",
              "3   3  14993250  Rocky Aur Rani Kii Prem Kahaani  2023  Comedy, Drama, Family   \n",
              "4   4  15732324                            OMG 2  2023          Comedy, Drama   \n",
              "\n",
              "                                            overview           director  \\\n",
              "0  A high-octane action thriller which outlines t...              Atlee   \n",
              "1  A single mother and her daughter who commit a ...        Sujoy Ghosh   \n",
              "2  A retired jailer goes on a manhunt to find his...  Nelson Dilipkumar   \n",
              "3  Flamboyant Punjabi Rocky and intellectual Beng...        Karan Johar   \n",
              "4  An unhappy civilian asks the court to mandate ...           Amit Rai   \n",
              "\n",
              "                                                cast  \n",
              "0  Shah Rukh Khan, Nayanthara, Vijay Sethupathi, ...  \n",
              "1  Kareena Kapoor, Jaideep Ahlawat, Vijay Varma, ...  \n",
              "2  Rajinikanth, Mohanlal, Shivarajkumar, Jackie S...  \n",
              "3  Ranveer Singh, Alia Bha0, Dharmendra, Shabana ...  \n",
              "4  Pankaj Tripathi, Akshay Kumar, Yami Gautam, Pa...  "
            ]
          },
          "execution_count": 5,
          "metadata": {},
          "output_type": "execute_result"
        }
      ],
      "source": [
        "ms.head()"
      ]
    },
    {
      "cell_type": "code",
      "execution_count": 6,
      "metadata": {
        "colab": {
          "base_uri": "https://localhost:8080/"
        },
        "execution": {
          "iopub.execute_input": "2023-05-17T19:24:36.779739Z",
          "iopub.status.busy": "2023-05-17T19:24:36.779355Z",
          "iopub.status.idle": "2023-05-17T19:24:36.821637Z",
          "shell.execute_reply": "2023-05-17T19:24:36.819649Z",
          "shell.execute_reply.started": "2023-05-17T19:24:36.779704Z"
        },
        "id": "ZPHtyg3k1cyf",
        "outputId": "3cd62dbb-381e-434d-891d-3dc490003e3b",
        "trusted": true
      },
      "outputs": [
        {
          "name": "stdout",
          "output_type": "stream",
          "text": [
            "<class 'pandas.core.frame.DataFrame'>\n",
            "RangeIndex: 2199 entries, 0 to 2198\n",
            "Data columns (total 8 columns):\n",
            " #   Column      Non-Null Count  Dtype \n",
            "---  ------      --------------  ----- \n",
            " 0   id          2199 non-null   int64 \n",
            " 1   movie_id    2199 non-null   int64 \n",
            " 2   movie_name  2199 non-null   object\n",
            " 3   year        2134 non-null   object\n",
            " 4   genre       2199 non-null   object\n",
            " 5   overview    2199 non-null   object\n",
            " 6   director    2199 non-null   object\n",
            " 7   cast        2199 non-null   object\n",
            "dtypes: int64(2), object(6)\n",
            "memory usage: 137.6+ KB\n"
          ]
        }
      ],
      "source": [
        "ms.info()"
      ]
    },
    {
      "cell_type": "code",
      "execution_count": 7,
      "metadata": {
        "colab": {
          "base_uri": "https://localhost:8080/"
        },
        "execution": {
          "iopub.execute_input": "2023-05-17T19:24:36.826370Z",
          "iopub.status.busy": "2023-05-17T19:24:36.824257Z",
          "iopub.status.idle": "2023-05-17T19:24:36.833676Z",
          "shell.execute_reply": "2023-05-17T19:24:36.832486Z",
          "shell.execute_reply.started": "2023-05-17T19:24:36.826318Z"
        },
        "id": "7A6yX1It1cyf",
        "outputId": "083319cf-f3c2-428d-a0b0-864f037b3375",
        "trusted": true
      },
      "outputs": [
        {
          "data": {
            "text/plain": [
              "(2199, 8)"
            ]
          },
          "execution_count": 7,
          "metadata": {},
          "output_type": "execute_result"
        }
      ],
      "source": [
        "ms.shape"
      ]
    },
    {
      "cell_type": "code",
      "execution_count": 8,
      "metadata": {
        "colab": {
          "base_uri": "https://localhost:8080/"
        },
        "execution": {
          "iopub.execute_input": "2023-05-17T19:24:36.835537Z",
          "iopub.status.busy": "2023-05-17T19:24:36.835185Z",
          "iopub.status.idle": "2023-05-17T19:24:36.887997Z",
          "shell.execute_reply": "2023-05-17T19:24:36.886785Z",
          "shell.execute_reply.started": "2023-05-17T19:24:36.835505Z"
        },
        "id": "mMY5P8Ua1cyf",
        "outputId": "073a0983-2d84-414c-c25d-1cf7a50b9cf4",
        "trusted": true
      },
      "outputs": [
        {
          "data": {
            "text/plain": [
              "Index(['id', 'movie_id', 'movie_name', 'year', 'genre', 'overview', 'director',\n",
              "       'cast'],\n",
              "      dtype='object')"
            ]
          },
          "execution_count": 8,
          "metadata": {},
          "output_type": "execute_result"
        }
      ],
      "source": [
        "ms.columns"
      ]
    },
    {
      "cell_type": "markdown",
      "metadata": {
        "id": "JjHjSgTx1cyf"
      },
      "source": [
        "# **Get Feature Selection**"
      ]
    },
    {
      "cell_type": "code",
      "execution_count": null,
      "metadata": {
        "execution": {
          "iopub.execute_input": "2023-05-17T19:24:36.890208Z",
          "iopub.status.busy": "2023-05-17T19:24:36.889832Z",
          "iopub.status.idle": "2023-05-17T19:24:36.913877Z",
          "shell.execute_reply": "2023-05-17T19:24:36.912891Z",
          "shell.execute_reply.started": "2023-05-17T19:24:36.890158Z"
        },
        "id": "D1z1Uwo61cyg",
        "trusted": true
      },
      "outputs": [],
      "source": [
        "movie_features = ms[[ 'genre', 'overview','director', 'cast']].fillna('')"
      ]
    },
    {
      "cell_type": "markdown",
      "metadata": {
        "id": "SJbg7-zp1cyg"
      },
      "source": [
        "Selected five existing features to recommend movies. It may vary from one project to another. Like one can add vote counts, budget, language, etc."
      ]
    },
    {
      "cell_type": "code",
      "execution_count": null,
      "metadata": {
        "colab": {
          "base_uri": "https://localhost:8080/"
        },
        "execution": {
          "iopub.execute_input": "2023-05-17T19:24:36.915756Z",
          "iopub.status.busy": "2023-05-17T19:24:36.915366Z",
          "iopub.status.idle": "2023-05-17T19:24:36.928685Z",
          "shell.execute_reply": "2023-05-17T19:24:36.926687Z",
          "shell.execute_reply.started": "2023-05-17T19:24:36.915721Z"
        },
        "id": "VRkWXwDX1cyg",
        "outputId": "5e37be84-2cb2-402a-df98-8dbbcfedc9de",
        "trusted": true
      },
      "outputs": [
        {
          "data": {
            "text/plain": [
              "(2199, 4)"
            ]
          },
          "execution_count": 9,
          "metadata": {},
          "output_type": "execute_result"
        }
      ],
      "source": [
        "movie_features.shape"
      ]
    },
    {
      "cell_type": "code",
      "execution_count": null,
      "metadata": {
        "colab": {
          "base_uri": "https://localhost:8080/",
          "height": 423
        },
        "execution": {
          "iopub.execute_input": "2023-05-17T19:24:36.932303Z",
          "iopub.status.busy": "2023-05-17T19:24:36.931198Z",
          "iopub.status.idle": "2023-05-17T19:24:36.960993Z",
          "shell.execute_reply": "2023-05-17T19:24:36.959208Z",
          "shell.execute_reply.started": "2023-05-17T19:24:36.932188Z"
        },
        "id": "X6c_mJ811cyh",
        "outputId": "836a9b0b-e8ea-455e-fa98-ec9e362aa400",
        "trusted": true
      },
      "outputs": [
        {
          "data": {
            "application/vnd.google.colaboratory.intrinsic+json": {
              "summary": "{\n  \"name\": \"movie_features\",\n  \"rows\": 2199,\n  \"fields\": [\n    {\n      \"column\": \"genre\",\n      \"properties\": {\n        \"dtype\": \"category\",\n        \"num_unique_values\": 225,\n        \"samples\": [\n          \"Action, Drama, History\",\n          \"Adventure, Drama, Musical\",\n          \"Comedy, Crime, Mystery\"\n        ],\n        \"semantic_type\": \"\",\n        \"description\": \"\"\n      }\n    },\n    {\n      \"column\": \"overview\",\n      \"properties\": {\n        \"dtype\": \"string\",\n        \"num_unique_values\": 2120,\n        \"samples\": [\n          \"When a young man from a small town decides to make it big in a city, he faces several challenges.\",\n          \"The film which is based on the life on an Indian scientist Shivkar Bapuji Talpade, who is credited to have constructed India's first unmanned plane is the tale of the hardships that he went...                See full summary\\u00a0\\u00bb\",\n          \"An NRI and his wife decide to stay in his ancestral home, paying no heed to the warnings about ghosts. Soon, inexplicable occurrences cause him to call a psychiatrist to help solve the mystery.\"\n        ],\n        \"semantic_type\": \"\",\n        \"description\": \"\"\n      }\n    },\n    {\n      \"column\": \"director\",\n      \"properties\": {\n        \"dtype\": \"category\",\n        \"num_unique_values\": 1064,\n        \"samples\": [\n          \"Maneesh Sharma\",\n          \"Latif Faiziyev, Umesh Mehra\",\n          \"Robert Lieberman\"\n        ],\n        \"semantic_type\": \"\",\n        \"description\": \"\"\n      }\n    },\n    {\n      \"column\": \"cast\",\n      \"properties\": {\n        \"dtype\": \"string\",\n        \"num_unique_values\": 2178,\n        \"samples\": [\n          \"Rajinikanth, Akshay Kumar, Amy Jackson, Adil Hussain\",\n          \"Aamir Khan, Urmila Matondkar, Jackie Shroff, Gulshan Grover\",\n          \"Shammi Kapoor, Nanda Karnataki, Tanuja Samarth, Vijayendra Ghatge\"\n        ],\n        \"semantic_type\": \"\",\n        \"description\": \"\"\n      }\n    }\n  ]\n}",
              "type": "dataframe",
              "variable_name": "movie_features"
            },
            "text/html": [
              "\n",
              "  <div id=\"df-989f4d8d-894d-4cd1-84ac-859a6ce1e9c8\" class=\"colab-df-container\">\n",
              "    <div>\n",
              "<style scoped>\n",
              "    .dataframe tbody tr th:only-of-type {\n",
              "        vertical-align: middle;\n",
              "    }\n",
              "\n",
              "    .dataframe tbody tr th {\n",
              "        vertical-align: top;\n",
              "    }\n",
              "\n",
              "    .dataframe thead th {\n",
              "        text-align: right;\n",
              "    }\n",
              "</style>\n",
              "<table border=\"1\" class=\"dataframe\">\n",
              "  <thead>\n",
              "    <tr style=\"text-align: right;\">\n",
              "      <th></th>\n",
              "      <th>genre</th>\n",
              "      <th>overview</th>\n",
              "      <th>director</th>\n",
              "      <th>cast</th>\n",
              "    </tr>\n",
              "  </thead>\n",
              "  <tbody>\n",
              "    <tr>\n",
              "      <th>0</th>\n",
              "      <td>Action, Thriller</td>\n",
              "      <td>A high-octane action thriller which outlines t...</td>\n",
              "      <td>Atlee</td>\n",
              "      <td>Shah Rukh Khan, Nayanthara, Vijay Sethupathi, ...</td>\n",
              "    </tr>\n",
              "    <tr>\n",
              "      <th>1</th>\n",
              "      <td>Crime, Drama, Mystery</td>\n",
              "      <td>A single mother and her daughter who commit a ...</td>\n",
              "      <td>Sujoy Ghosh</td>\n",
              "      <td>Kareena Kapoor, Jaideep Ahlawat, Vijay Varma, ...</td>\n",
              "    </tr>\n",
              "    <tr>\n",
              "      <th>2</th>\n",
              "      <td>Action, Comedy, Crime</td>\n",
              "      <td>A retired jailer goes on a manhunt to find his...</td>\n",
              "      <td>Nelson Dilipkumar</td>\n",
              "      <td>Rajinikanth, Mohanlal, Shivarajkumar, Jackie S...</td>\n",
              "    </tr>\n",
              "    <tr>\n",
              "      <th>3</th>\n",
              "      <td>Comedy, Drama, Family</td>\n",
              "      <td>Flamboyant Punjabi Rocky and intellectual Beng...</td>\n",
              "      <td>Karan Johar</td>\n",
              "      <td>Ranveer Singh, Alia Bha0, Dharmendra, Shabana ...</td>\n",
              "    </tr>\n",
              "    <tr>\n",
              "      <th>4</th>\n",
              "      <td>Comedy, Drama</td>\n",
              "      <td>An unhappy civilian asks the court to mandate ...</td>\n",
              "      <td>Amit Rai</td>\n",
              "      <td>Pankaj Tripathi, Akshay Kumar, Yami Gautam, Pa...</td>\n",
              "    </tr>\n",
              "    <tr>\n",
              "      <th>...</th>\n",
              "      <td>...</td>\n",
              "      <td>...</td>\n",
              "      <td>...</td>\n",
              "      <td>...</td>\n",
              "    </tr>\n",
              "    <tr>\n",
              "      <th>2194</th>\n",
              "      <td>Thriller</td>\n",
              "      <td>Add a Plot</td>\n",
              "      <td>Subhash Ghai</td>\n",
              "      <td>Shatrughan Sinha, Reena Roy, Ajit Khan, Premna...</td>\n",
              "    </tr>\n",
              "    <tr>\n",
              "      <th>2195</th>\n",
              "      <td>Drama, Musical, Romance</td>\n",
              "      <td>A renowned music teacher mentors a promising y...</td>\n",
              "      <td>Tanuja Chandra</td>\n",
              "      <td>Lucky Ali, Simone Singh, Achint Kaur, Ehsan Khan</td>\n",
              "    </tr>\n",
              "    <tr>\n",
              "      <th>2196</th>\n",
              "      <td>Musical, Romance</td>\n",
              "      <td>When a ballroom dancer's shot at a crucial tou...</td>\n",
              "      <td>Stanley D'Costa</td>\n",
              "      <td>Sooraj Pancholi, Isabelle Kaif, Waluscha D'Sou...</td>\n",
              "    </tr>\n",
              "    <tr>\n",
              "      <th>2197</th>\n",
              "      <td>Drama, Family, Fantasy</td>\n",
              "      <td>After the tragic deaths of his son Ajit and da...</td>\n",
              "      <td>Harmesh Malhotra</td>\n",
              "      <td>Sunny Deol, Sridevi, Anupam Kher, Gulshan Grover</td>\n",
              "    </tr>\n",
              "    <tr>\n",
              "      <th>2198</th>\n",
              "      <td>Action, Comedy, Drama</td>\n",
              "      <td>Raj is a successful lawyer due to constant che...</td>\n",
              "      <td>David Dhawan</td>\n",
              "      <td>Govinda, Sushmita Sen, Rambha, Anupam Kher</td>\n",
              "    </tr>\n",
              "  </tbody>\n",
              "</table>\n",
              "<p>2199 rows × 4 columns</p>\n",
              "</div>\n",
              "    <div class=\"colab-df-buttons\">\n",
              "\n",
              "  <div class=\"colab-df-container\">\n",
              "    <button class=\"colab-df-convert\" onclick=\"convertToInteractive('df-989f4d8d-894d-4cd1-84ac-859a6ce1e9c8')\"\n",
              "            title=\"Convert this dataframe to an interactive table.\"\n",
              "            style=\"display:none;\">\n",
              "\n",
              "  <svg xmlns=\"http://www.w3.org/2000/svg\" height=\"24px\" viewBox=\"0 -960 960 960\">\n",
              "    <path d=\"M120-120v-720h720v720H120Zm60-500h600v-160H180v160Zm220 220h160v-160H400v160Zm0 220h160v-160H400v160ZM180-400h160v-160H180v160Zm440 0h160v-160H620v160ZM180-180h160v-160H180v160Zm440 0h160v-160H620v160Z\"/>\n",
              "  </svg>\n",
              "    </button>\n",
              "\n",
              "  <style>\n",
              "    .colab-df-container {\n",
              "      display:flex;\n",
              "      gap: 12px;\n",
              "    }\n",
              "\n",
              "    .colab-df-convert {\n",
              "      background-color: #E8F0FE;\n",
              "      border: none;\n",
              "      border-radius: 50%;\n",
              "      cursor: pointer;\n",
              "      display: none;\n",
              "      fill: #1967D2;\n",
              "      height: 32px;\n",
              "      padding: 0 0 0 0;\n",
              "      width: 32px;\n",
              "    }\n",
              "\n",
              "    .colab-df-convert:hover {\n",
              "      background-color: #E2EBFA;\n",
              "      box-shadow: 0px 1px 2px rgba(60, 64, 67, 0.3), 0px 1px 3px 1px rgba(60, 64, 67, 0.15);\n",
              "      fill: #174EA6;\n",
              "    }\n",
              "\n",
              "    .colab-df-buttons div {\n",
              "      margin-bottom: 4px;\n",
              "    }\n",
              "\n",
              "    [theme=dark] .colab-df-convert {\n",
              "      background-color: #3B4455;\n",
              "      fill: #D2E3FC;\n",
              "    }\n",
              "\n",
              "    [theme=dark] .colab-df-convert:hover {\n",
              "      background-color: #434B5C;\n",
              "      box-shadow: 0px 1px 3px 1px rgba(0, 0, 0, 0.15);\n",
              "      filter: drop-shadow(0px 1px 2px rgba(0, 0, 0, 0.3));\n",
              "      fill: #FFFFFF;\n",
              "    }\n",
              "  </style>\n",
              "\n",
              "    <script>\n",
              "      const buttonEl =\n",
              "        document.querySelector('#df-989f4d8d-894d-4cd1-84ac-859a6ce1e9c8 button.colab-df-convert');\n",
              "      buttonEl.style.display =\n",
              "        google.colab.kernel.accessAllowed ? 'block' : 'none';\n",
              "\n",
              "      async function convertToInteractive(key) {\n",
              "        const element = document.querySelector('#df-989f4d8d-894d-4cd1-84ac-859a6ce1e9c8');\n",
              "        const dataTable =\n",
              "          await google.colab.kernel.invokeFunction('convertToInteractive',\n",
              "                                                    [key], {});\n",
              "        if (!dataTable) return;\n",
              "\n",
              "        const docLinkHtml = 'Like what you see? Visit the ' +\n",
              "          '<a target=\"_blank\" href=https://colab.research.google.com/notebooks/data_table.ipynb>data table notebook</a>'\n",
              "          + ' to learn more about interactive tables.';\n",
              "        element.innerHTML = '';\n",
              "        dataTable['output_type'] = 'display_data';\n",
              "        await google.colab.output.renderOutput(dataTable, element);\n",
              "        const docLink = document.createElement('div');\n",
              "        docLink.innerHTML = docLinkHtml;\n",
              "        element.appendChild(docLink);\n",
              "      }\n",
              "    </script>\n",
              "  </div>\n",
              "\n",
              "\n",
              "<div id=\"df-846c4335-957d-48d6-9b10-a902faa4279d\">\n",
              "  <button class=\"colab-df-quickchart\" onclick=\"quickchart('df-846c4335-957d-48d6-9b10-a902faa4279d')\"\n",
              "            title=\"Suggest charts\"\n",
              "            style=\"display:none;\">\n",
              "\n",
              "<svg xmlns=\"http://www.w3.org/2000/svg\" height=\"24px\"viewBox=\"0 0 24 24\"\n",
              "     width=\"24px\">\n",
              "    <g>\n",
              "        <path d=\"M19 3H5c-1.1 0-2 .9-2 2v14c0 1.1.9 2 2 2h14c1.1 0 2-.9 2-2V5c0-1.1-.9-2-2-2zM9 17H7v-7h2v7zm4 0h-2V7h2v10zm4 0h-2v-4h2v4z\"/>\n",
              "    </g>\n",
              "</svg>\n",
              "  </button>\n",
              "\n",
              "<style>\n",
              "  .colab-df-quickchart {\n",
              "      --bg-color: #E8F0FE;\n",
              "      --fill-color: #1967D2;\n",
              "      --hover-bg-color: #E2EBFA;\n",
              "      --hover-fill-color: #174EA6;\n",
              "      --disabled-fill-color: #AAA;\n",
              "      --disabled-bg-color: #DDD;\n",
              "  }\n",
              "\n",
              "  [theme=dark] .colab-df-quickchart {\n",
              "      --bg-color: #3B4455;\n",
              "      --fill-color: #D2E3FC;\n",
              "      --hover-bg-color: #434B5C;\n",
              "      --hover-fill-color: #FFFFFF;\n",
              "      --disabled-bg-color: #3B4455;\n",
              "      --disabled-fill-color: #666;\n",
              "  }\n",
              "\n",
              "  .colab-df-quickchart {\n",
              "    background-color: var(--bg-color);\n",
              "    border: none;\n",
              "    border-radius: 50%;\n",
              "    cursor: pointer;\n",
              "    display: none;\n",
              "    fill: var(--fill-color);\n",
              "    height: 32px;\n",
              "    padding: 0;\n",
              "    width: 32px;\n",
              "  }\n",
              "\n",
              "  .colab-df-quickchart:hover {\n",
              "    background-color: var(--hover-bg-color);\n",
              "    box-shadow: 0 1px 2px rgba(60, 64, 67, 0.3), 0 1px 3px 1px rgba(60, 64, 67, 0.15);\n",
              "    fill: var(--button-hover-fill-color);\n",
              "  }\n",
              "\n",
              "  .colab-df-quickchart-complete:disabled,\n",
              "  .colab-df-quickchart-complete:disabled:hover {\n",
              "    background-color: var(--disabled-bg-color);\n",
              "    fill: var(--disabled-fill-color);\n",
              "    box-shadow: none;\n",
              "  }\n",
              "\n",
              "  .colab-df-spinner {\n",
              "    border: 2px solid var(--fill-color);\n",
              "    border-color: transparent;\n",
              "    border-bottom-color: var(--fill-color);\n",
              "    animation:\n",
              "      spin 1s steps(1) infinite;\n",
              "  }\n",
              "\n",
              "  @keyframes spin {\n",
              "    0% {\n",
              "      border-color: transparent;\n",
              "      border-bottom-color: var(--fill-color);\n",
              "      border-left-color: var(--fill-color);\n",
              "    }\n",
              "    20% {\n",
              "      border-color: transparent;\n",
              "      border-left-color: var(--fill-color);\n",
              "      border-top-color: var(--fill-color);\n",
              "    }\n",
              "    30% {\n",
              "      border-color: transparent;\n",
              "      border-left-color: var(--fill-color);\n",
              "      border-top-color: var(--fill-color);\n",
              "      border-right-color: var(--fill-color);\n",
              "    }\n",
              "    40% {\n",
              "      border-color: transparent;\n",
              "      border-right-color: var(--fill-color);\n",
              "      border-top-color: var(--fill-color);\n",
              "    }\n",
              "    60% {\n",
              "      border-color: transparent;\n",
              "      border-right-color: var(--fill-color);\n",
              "    }\n",
              "    80% {\n",
              "      border-color: transparent;\n",
              "      border-right-color: var(--fill-color);\n",
              "      border-bottom-color: var(--fill-color);\n",
              "    }\n",
              "    90% {\n",
              "      border-color: transparent;\n",
              "      border-bottom-color: var(--fill-color);\n",
              "    }\n",
              "  }\n",
              "</style>\n",
              "\n",
              "  <script>\n",
              "    async function quickchart(key) {\n",
              "      const quickchartButtonEl =\n",
              "        document.querySelector('#' + key + ' button');\n",
              "      quickchartButtonEl.disabled = true;  // To prevent multiple clicks.\n",
              "      quickchartButtonEl.classList.add('colab-df-spinner');\n",
              "      try {\n",
              "        const charts = await google.colab.kernel.invokeFunction(\n",
              "            'suggestCharts', [key], {});\n",
              "      } catch (error) {\n",
              "        console.error('Error during call to suggestCharts:', error);\n",
              "      }\n",
              "      quickchartButtonEl.classList.remove('colab-df-spinner');\n",
              "      quickchartButtonEl.classList.add('colab-df-quickchart-complete');\n",
              "    }\n",
              "    (() => {\n",
              "      let quickchartButtonEl =\n",
              "        document.querySelector('#df-846c4335-957d-48d6-9b10-a902faa4279d button');\n",
              "      quickchartButtonEl.style.display =\n",
              "        google.colab.kernel.accessAllowed ? 'block' : 'none';\n",
              "    })();\n",
              "  </script>\n",
              "</div>\n",
              "\n",
              "  <div id=\"id_9908b415-ac11-4339-a89e-ff3649dcd38e\">\n",
              "    <style>\n",
              "      .colab-df-generate {\n",
              "        background-color: #E8F0FE;\n",
              "        border: none;\n",
              "        border-radius: 50%;\n",
              "        cursor: pointer;\n",
              "        display: none;\n",
              "        fill: #1967D2;\n",
              "        height: 32px;\n",
              "        padding: 0 0 0 0;\n",
              "        width: 32px;\n",
              "      }\n",
              "\n",
              "      .colab-df-generate:hover {\n",
              "        background-color: #E2EBFA;\n",
              "        box-shadow: 0px 1px 2px rgba(60, 64, 67, 0.3), 0px 1px 3px 1px rgba(60, 64, 67, 0.15);\n",
              "        fill: #174EA6;\n",
              "      }\n",
              "\n",
              "      [theme=dark] .colab-df-generate {\n",
              "        background-color: #3B4455;\n",
              "        fill: #D2E3FC;\n",
              "      }\n",
              "\n",
              "      [theme=dark] .colab-df-generate:hover {\n",
              "        background-color: #434B5C;\n",
              "        box-shadow: 0px 1px 3px 1px rgba(0, 0, 0, 0.15);\n",
              "        filter: drop-shadow(0px 1px 2px rgba(0, 0, 0, 0.3));\n",
              "        fill: #FFFFFF;\n",
              "      }\n",
              "    </style>\n",
              "    <button class=\"colab-df-generate\" onclick=\"generateWithVariable('movie_features')\"\n",
              "            title=\"Generate code using this dataframe.\"\n",
              "            style=\"display:none;\">\n",
              "\n",
              "  <svg xmlns=\"http://www.w3.org/2000/svg\" height=\"24px\"viewBox=\"0 0 24 24\"\n",
              "       width=\"24px\">\n",
              "    <path d=\"M7,19H8.4L18.45,9,17,7.55,7,17.6ZM5,21V16.75L18.45,3.32a2,2,0,0,1,2.83,0l1.4,1.43a1.91,1.91,0,0,1,.58,1.4,1.91,1.91,0,0,1-.58,1.4L9.25,21ZM18.45,9,17,7.55Zm-12,3A5.31,5.31,0,0,0,4.9,8.1,5.31,5.31,0,0,0,1,6.5,5.31,5.31,0,0,0,4.9,4.9,5.31,5.31,0,0,0,6.5,1,5.31,5.31,0,0,0,8.1,4.9,5.31,5.31,0,0,0,12,6.5,5.46,5.46,0,0,0,6.5,12Z\"/>\n",
              "  </svg>\n",
              "    </button>\n",
              "    <script>\n",
              "      (() => {\n",
              "      const buttonEl =\n",
              "        document.querySelector('#id_9908b415-ac11-4339-a89e-ff3649dcd38e button.colab-df-generate');\n",
              "      buttonEl.style.display =\n",
              "        google.colab.kernel.accessAllowed ? 'block' : 'none';\n",
              "\n",
              "      buttonEl.onclick = () => {\n",
              "        google.colab.notebook.generateWithVariable('movie_features');\n",
              "      }\n",
              "      })();\n",
              "    </script>\n",
              "  </div>\n",
              "\n",
              "    </div>\n",
              "  </div>\n"
            ],
            "text/plain": [
              "                        genre  \\\n",
              "0            Action, Thriller   \n",
              "1       Crime, Drama, Mystery   \n",
              "2       Action, Comedy, Crime   \n",
              "3       Comedy, Drama, Family   \n",
              "4               Comedy, Drama   \n",
              "...                       ...   \n",
              "2194                 Thriller   \n",
              "2195  Drama, Musical, Romance   \n",
              "2196         Musical, Romance   \n",
              "2197   Drama, Family, Fantasy   \n",
              "2198    Action, Comedy, Drama   \n",
              "\n",
              "                                               overview           director  \\\n",
              "0     A high-octane action thriller which outlines t...              Atlee   \n",
              "1     A single mother and her daughter who commit a ...        Sujoy Ghosh   \n",
              "2     A retired jailer goes on a manhunt to find his...  Nelson Dilipkumar   \n",
              "3     Flamboyant Punjabi Rocky and intellectual Beng...        Karan Johar   \n",
              "4     An unhappy civilian asks the court to mandate ...           Amit Rai   \n",
              "...                                                 ...                ...   \n",
              "2194                                         Add a Plot       Subhash Ghai   \n",
              "2195  A renowned music teacher mentors a promising y...     Tanuja Chandra   \n",
              "2196  When a ballroom dancer's shot at a crucial tou...    Stanley D'Costa   \n",
              "2197  After the tragic deaths of his son Ajit and da...   Harmesh Malhotra   \n",
              "2198  Raj is a successful lawyer due to constant che...       David Dhawan   \n",
              "\n",
              "                                                   cast  \n",
              "0     Shah Rukh Khan, Nayanthara, Vijay Sethupathi, ...  \n",
              "1     Kareena Kapoor, Jaideep Ahlawat, Vijay Varma, ...  \n",
              "2     Rajinikanth, Mohanlal, Shivarajkumar, Jackie S...  \n",
              "3     Ranveer Singh, Alia Bha0, Dharmendra, Shabana ...  \n",
              "4     Pankaj Tripathi, Akshay Kumar, Yami Gautam, Pa...  \n",
              "...                                                 ...  \n",
              "2194  Shatrughan Sinha, Reena Roy, Ajit Khan, Premna...  \n",
              "2195   Lucky Ali, Simone Singh, Achint Kaur, Ehsan Khan  \n",
              "2196  Sooraj Pancholi, Isabelle Kaif, Waluscha D'Sou...  \n",
              "2197   Sunny Deol, Sridevi, Anupam Kher, Gulshan Grover  \n",
              "2198         Govinda, Sushmita Sen, Rambha, Anupam Kher  \n",
              "\n",
              "[2199 rows x 4 columns]"
            ]
          },
          "execution_count": 10,
          "metadata": {},
          "output_type": "execute_result"
        }
      ],
      "source": [
        "movie_features"
      ]
    },
    {
      "cell_type": "code",
      "execution_count": null,
      "metadata": {
        "execution": {
          "iopub.execute_input": "2023-05-17T19:24:36.963802Z",
          "iopub.status.busy": "2023-05-17T19:24:36.962935Z",
          "iopub.status.idle": "2023-05-17T19:24:36.992504Z",
          "shell.execute_reply": "2023-05-17T19:24:36.991052Z",
          "shell.execute_reply.started": "2023-05-17T19:24:36.963427Z"
        },
        "id": "74WOVhoy1cyh",
        "trusted": true
      },
      "outputs": [],
      "source": [
        "x=movie_features['genre'] + ' ' + movie_features['overview'] + ' ' + movie_features['director'] + ' ' + movie_features['cast']"
      ]
    },
    {
      "cell_type": "code",
      "execution_count": null,
      "metadata": {
        "colab": {
          "base_uri": "https://localhost:8080/"
        },
        "execution": {
          "iopub.execute_input": "2023-05-17T19:24:36.995351Z",
          "iopub.status.busy": "2023-05-17T19:24:36.994863Z",
          "iopub.status.idle": "2023-05-17T19:24:37.008460Z",
          "shell.execute_reply": "2023-05-17T19:24:37.006081Z",
          "shell.execute_reply.started": "2023-05-17T19:24:36.995306Z"
        },
        "id": "D-Cf8QGS1cyh",
        "outputId": "33469384-8a87-400a-b342-ba38c37cc0b4",
        "trusted": true
      },
      "outputs": [
        {
          "data": {
            "text/plain": [
              "0       Action, Thriller A high-octane action thriller...\n",
              "1       Crime, Drama, Mystery A single mother and her ...\n",
              "2       Action, Comedy, Crime A retired jailer goes on...\n",
              "3       Comedy, Drama, Family Flamboyant Punjabi Rocky...\n",
              "4       Comedy, Drama An unhappy civilian asks the cou...\n",
              "                              ...                        \n",
              "2194    Thriller Add a Plot Subhash Ghai Shatrughan Si...\n",
              "2195    Drama, Musical, Romance A renowned music teach...\n",
              "2196    Musical, Romance When a ballroom dancer's shot...\n",
              "2197    Drama, Family, Fantasy After the tragic deaths...\n",
              "2198    Action, Comedy, Drama Raj is a successful lawy...\n",
              "Length: 2199, dtype: object"
            ]
          },
          "execution_count": 12,
          "metadata": {},
          "output_type": "execute_result"
        }
      ],
      "source": [
        "x"
      ]
    },
    {
      "cell_type": "code",
      "execution_count": null,
      "metadata": {
        "colab": {
          "base_uri": "https://localhost:8080/"
        },
        "execution": {
          "iopub.execute_input": "2023-05-17T19:24:37.015399Z",
          "iopub.status.busy": "2023-05-17T19:24:37.014882Z",
          "iopub.status.idle": "2023-05-17T19:24:37.024397Z",
          "shell.execute_reply": "2023-05-17T19:24:37.022971Z",
          "shell.execute_reply.started": "2023-05-17T19:24:37.015347Z"
        },
        "id": "2GFltpc91cyh",
        "outputId": "4c7ffc8e-8ef9-435d-dc34-724683329a7d",
        "trusted": true
      },
      "outputs": [
        {
          "data": {
            "text/plain": [
              "(2199,)"
            ]
          },
          "execution_count": 15,
          "metadata": {},
          "output_type": "execute_result"
        }
      ],
      "source": [
        "x.shape"
      ]
    },
    {
      "cell_type": "markdown",
      "metadata": {
        "id": "jeB1a3Tu1cyi"
      },
      "source": [
        "# **Get Feature Text Conversions to Tokens**"
      ]
    },
    {
      "cell_type": "code",
      "execution_count": null,
      "metadata": {
        "colab": {
          "base_uri": "https://localhost:8080/"
        },
        "execution": {
          "iopub.execute_input": "2023-05-17T19:24:37.025888Z",
          "iopub.status.busy": "2023-05-17T19:24:37.025503Z",
          "iopub.status.idle": "2023-05-17T19:24:51.046383Z",
          "shell.execute_reply": "2023-05-17T19:24:51.044533Z",
          "shell.execute_reply.started": "2023-05-17T19:24:37.025848Z"
        },
        "id": "6w7Nm6as1cyi",
        "outputId": "948430d0-ddba-43d8-f133-cb5ac3311a18",
        "trusted": true
      },
      "outputs": [
        {
          "name": "stdout",
          "output_type": "stream",
          "text": [
            "Requirement already satisfied: numpy==1.21.2 in /usr/local/lib/python3.10/dist-packages (1.21.2)\n"
          ]
        }
      ],
      "source": [
        "!pip install numpy==1.21.2"
      ]
    },
    {
      "cell_type": "code",
      "execution_count": null,
      "metadata": {
        "colab": {
          "base_uri": "https://localhost:8080/"
        },
        "execution": {
          "iopub.execute_input": "2023-05-17T19:24:51.049000Z",
          "iopub.status.busy": "2023-05-17T19:24:51.048556Z",
          "iopub.status.idle": "2023-05-17T19:24:51.056258Z",
          "shell.execute_reply": "2023-05-17T19:24:51.054488Z",
          "shell.execute_reply.started": "2023-05-17T19:24:51.048959Z"
        },
        "id": "anzXEo391cyi",
        "outputId": "c4b45975-3dfb-41c2-f26c-57cc3de58e95",
        "trusted": true
      },
      "outputs": [
        {
          "name": "stderr",
          "output_type": "stream",
          "text": [
            "/usr/local/lib/python3.10/dist-packages/scipy/__init__.py:132: UserWarning: A NumPy version >=1.21.6 and <1.28.0 is required for this version of SciPy (detected version 1.21.2)\n",
            "  warnings.warn(f\"A NumPy version >={np_minversion} and <{np_maxversion}\"\n"
          ]
        }
      ],
      "source": [
        "from sklearn.feature_extraction.text import TfidfVectorizer"
      ]
    },
    {
      "cell_type": "code",
      "execution_count": null,
      "metadata": {
        "execution": {
          "iopub.execute_input": "2023-05-17T19:24:51.058763Z",
          "iopub.status.busy": "2023-05-17T19:24:51.058255Z",
          "iopub.status.idle": "2023-05-17T19:24:51.080842Z",
          "shell.execute_reply": "2023-05-17T19:24:51.079201Z",
          "shell.execute_reply.started": "2023-05-17T19:24:51.058716Z"
        },
        "id": "yXoRCrnO1cyi",
        "trusted": true
      },
      "outputs": [],
      "source": [
        "tfidf = TfidfVectorizer()"
      ]
    },
    {
      "cell_type": "code",
      "execution_count": null,
      "metadata": {
        "execution": {
          "iopub.execute_input": "2023-05-17T19:24:51.083273Z",
          "iopub.status.busy": "2023-05-17T19:24:51.082806Z",
          "iopub.status.idle": "2023-05-17T19:24:51.368054Z",
          "shell.execute_reply": "2023-05-17T19:24:51.366470Z",
          "shell.execute_reply.started": "2023-05-17T19:24:51.083236Z"
        },
        "id": "YYsAOuv61cyj",
        "trusted": true
      },
      "outputs": [],
      "source": [
        "X = tfidf.fit_transform(x)"
      ]
    },
    {
      "cell_type": "code",
      "execution_count": null,
      "metadata": {
        "colab": {
          "base_uri": "https://localhost:8080/"
        },
        "execution": {
          "iopub.execute_input": "2023-05-17T19:24:51.370142Z",
          "iopub.status.busy": "2023-05-17T19:24:51.369665Z",
          "iopub.status.idle": "2023-05-17T19:24:51.382676Z",
          "shell.execute_reply": "2023-05-17T19:24:51.381627Z",
          "shell.execute_reply.started": "2023-05-17T19:24:51.370087Z"
        },
        "id": "YZbGH_PD1cyj",
        "outputId": "daa18e19-a224-48d2-fb30-97bba15d9b9c",
        "trusted": true
      },
      "outputs": [
        {
          "data": {
            "text/plain": [
              "(2199, 11441)"
            ]
          },
          "execution_count": 19,
          "metadata": {},
          "output_type": "execute_result"
        }
      ],
      "source": [
        "X.shape"
      ]
    },
    {
      "cell_type": "code",
      "execution_count": null,
      "metadata": {
        "colab": {
          "base_uri": "https://localhost:8080/"
        },
        "execution": {
          "iopub.execute_input": "2023-05-17T19:24:51.385533Z",
          "iopub.status.busy": "2023-05-17T19:24:51.385158Z",
          "iopub.status.idle": "2023-05-17T19:24:51.393589Z",
          "shell.execute_reply": "2023-05-17T19:24:51.392528Z",
          "shell.execute_reply.started": "2023-05-17T19:24:51.385483Z"
        },
        "id": "ZJQTbcsa1cyj",
        "outputId": "f93986c1-8a24-434c-c7e5-77721860c385",
        "trusted": true
      },
      "outputs": [
        {
          "name": "stdout",
          "output_type": "stream",
          "text": [
            "  (0, 7222)\t0.18732057124632678\n",
            "  (0, 2670)\t0.18524953584832649\n",
            "  (0, 9108)\t0.244585433104368\n",
            "  (0, 11002)\t0.14681069131570232\n",
            "  (0, 6842)\t0.23547949327798678\n",
            "  (0, 5452)\t0.09405767855896913\n",
            "  (0, 8640)\t0.16167663050581524\n",
            "  (0, 9142)\t0.12673362239821723\n",
            "  (0, 946)\t0.2899771135019883\n",
            "  (0, 9564)\t0.19994085660291214\n",
            "  (0, 4720)\t0.06557063346769715\n",
            "  (0, 11340)\t0.2752857927474026\n",
            "  (0, 8247)\t0.2752857927474026\n",
            "  (0, 10449)\t0.05703667866328602\n",
            "  (0, 9103)\t0.16274239131621018\n",
            "  (0, 4934)\t0.07772512631378324\n",
            "  (0, 11232)\t0.09357348531476826\n",
            "  (0, 6122)\t0.1153226211878715\n",
            "  (0, 7057)\t0.06059844123803038\n",
            "  (0, 5191)\t0.15817552570488105\n",
            "  (0, 3278)\t0.22820854074933225\n",
            "  (0, 10329)\t0.16251068864342313\n",
            "  (0, 7169)\t0.2899771135019883\n",
            "  (0, 11225)\t0.1520493398826944\n",
            "  (0, 7051)\t0.2899771135019883\n",
            "  :\t:\n",
            "  (2198, 9059)\t0.13024414506375684\n",
            "  (2198, 1228)\t0.14243780146433394\n",
            "  (2198, 5817)\t0.20550079070454394\n",
            "  (2198, 5543)\t0.16124853363237318\n",
            "  (2198, 5741)\t0.16253753641693003\n",
            "  (2198, 5467)\t0.1273625631411186\n",
            "  (2198, 2856)\t0.13544463528175407\n",
            "  (2198, 10681)\t0.18263727136952612\n",
            "  (2198, 3128)\t0.16124853363237318\n",
            "  (2198, 233)\t0.11534490032915796\n",
            "  (2198, 3596)\t0.11457839434615077\n",
            "  (2198, 9242)\t0.10706755615135151\n",
            "  (2198, 10328)\t0.08961507044266466\n",
            "  (2198, 11218)\t0.08164848148110164\n",
            "  (2198, 10365)\t0.11457839434615077\n",
            "  (2198, 4468)\t0.10126624764425088\n",
            "  (2198, 9605)\t0.11777404163398952\n",
            "  (2198, 4495)\t0.1809590242792375\n",
            "  (2198, 2189)\t0.0634310228110466\n",
            "  (2198, 641)\t0.04534427851020208\n",
            "  (2198, 3084)\t0.03909681321726306\n",
            "  (2198, 10449)\t0.18258779140935388\n",
            "  (2198, 4934)\t0.06220409166190535\n",
            "  (2198, 7057)\t0.04849745728455091\n",
            "  (2198, 289)\t0.0585502797285616\n"
          ]
        }
      ],
      "source": [
        "print(X)"
      ]
    },
    {
      "cell_type": "markdown",
      "metadata": {
        "id": "gPUWzjMB1cyj"
      },
      "source": [
        "# **Get Similarity Score using Cosine Similarity**"
      ]
    },
    {
      "cell_type": "markdown",
      "metadata": {
        "id": "S7-kJzRM1cyj"
      },
      "source": [
        "cosine_similarity computes the L2-normalized dot product of vectors. Euclidean(L2) normalization projects the vectors onto the unit sphere, and their dot product is then the cosine the angle between the points denoted by the vectors."
      ]
    },
    {
      "cell_type": "code",
      "execution_count": null,
      "metadata": {
        "execution": {
          "iopub.execute_input": "2023-05-17T19:24:51.395786Z",
          "iopub.status.busy": "2023-05-17T19:24:51.395398Z",
          "iopub.status.idle": "2023-05-17T19:24:51.405142Z",
          "shell.execute_reply": "2023-05-17T19:24:51.403746Z",
          "shell.execute_reply.started": "2023-05-17T19:24:51.395753Z"
        },
        "id": "dLC_cXdB1cyk",
        "trusted": true
      },
      "outputs": [],
      "source": [
        "from sklearn.metrics.pairwise import cosine_similarity"
      ]
    },
    {
      "cell_type": "code",
      "execution_count": null,
      "metadata": {
        "execution": {
          "iopub.execute_input": "2023-05-17T19:24:51.407753Z",
          "iopub.status.busy": "2023-05-17T19:24:51.407286Z",
          "iopub.status.idle": "2023-05-17T19:24:52.377729Z",
          "shell.execute_reply": "2023-05-17T19:24:52.376350Z",
          "shell.execute_reply.started": "2023-05-17T19:24:51.407693Z"
        },
        "id": "jBRTxi-T1cyk",
        "trusted": true
      },
      "outputs": [],
      "source": [
        "Similarity_Score = cosine_similarity(X)"
      ]
    },
    {
      "cell_type": "code",
      "execution_count": null,
      "metadata": {
        "colab": {
          "base_uri": "https://localhost:8080/"
        },
        "execution": {
          "iopub.execute_input": "2023-05-17T19:24:52.379510Z",
          "iopub.status.busy": "2023-05-17T19:24:52.379108Z",
          "iopub.status.idle": "2023-05-17T19:24:52.388497Z",
          "shell.execute_reply": "2023-05-17T19:24:52.387170Z",
          "shell.execute_reply.started": "2023-05-17T19:24:52.379467Z"
        },
        "id": "NC8r-Dae1cyk",
        "outputId": "a18c30b7-a1cd-456d-c4d1-e3fac18bb5d1",
        "trusted": true
      },
      "outputs": [
        {
          "data": {
            "text/plain": [
              "array([[1.        , 0.03873457, 0.02088166, ..., 0.00456613, 0.02713392,\n",
              "        0.02675493],\n",
              "       [0.03873457, 1.        , 0.01286975, ..., 0.02609631, 0.04579643,\n",
              "        0.00698856],\n",
              "       [0.02088166, 0.01286975, 1.        , ..., 0.00344653, 0.02984156,\n",
              "        0.072506  ],\n",
              "       ...,\n",
              "       [0.00456613, 0.02609631, 0.00344653, ..., 1.        , 0.02268653,\n",
              "        0.02220094],\n",
              "       [0.02713392, 0.04579643, 0.02984156, ..., 0.02268653, 1.        ,\n",
              "        0.08833593],\n",
              "       [0.02675493, 0.00698856, 0.072506  , ..., 0.02220094, 0.08833593,\n",
              "        1.        ]])"
            ]
          },
          "execution_count": 23,
          "metadata": {},
          "output_type": "execute_result"
        }
      ],
      "source": [
        "Similarity_Score"
      ]
    },
    {
      "cell_type": "code",
      "execution_count": null,
      "metadata": {
        "colab": {
          "base_uri": "https://localhost:8080/"
        },
        "execution": {
          "iopub.execute_input": "2023-05-17T19:24:52.390761Z",
          "iopub.status.busy": "2023-05-17T19:24:52.390301Z",
          "iopub.status.idle": "2023-05-17T19:24:52.401792Z",
          "shell.execute_reply": "2023-05-17T19:24:52.400453Z",
          "shell.execute_reply.started": "2023-05-17T19:24:52.390726Z"
        },
        "id": "IjLoXZPG1cyk",
        "outputId": "53c6f3ad-033a-44cd-92f2-264cd7135ac7",
        "trusted": true
      },
      "outputs": [
        {
          "data": {
            "text/plain": [
              "(2199, 2199)"
            ]
          },
          "execution_count": 24,
          "metadata": {},
          "output_type": "execute_result"
        }
      ],
      "source": [
        "Similarity_Score.shape"
      ]
    },
    {
      "cell_type": "markdown",
      "metadata": {
        "id": "D5P8DUAC1cyk"
      },
      "source": [
        "# **Get Movie Name as Input from User and Validate for Closest Spelling**"
      ]
    },
    {
      "cell_type": "code",
      "execution_count": null,
      "metadata": {
        "colab": {
          "base_uri": "https://localhost:8080/"
        },
        "execution": {
          "iopub.execute_input": "2023-05-17T19:24:52.403972Z",
          "iopub.status.busy": "2023-05-17T19:24:52.403528Z",
          "iopub.status.idle": "2023-05-17T19:25:01.980425Z",
          "shell.execute_reply": "2023-05-17T19:25:01.978698Z",
          "shell.execute_reply.started": "2023-05-17T19:24:52.403938Z"
        },
        "id": "rjfS6-IL1cyl",
        "outputId": "c2541ccd-89d9-4d17-d99b-8dd186682efe",
        "trusted": true
      },
      "outputs": [
        {
          "name": "stdout",
          "output_type": "stream",
          "text": [
            " Enter your favorite movie name : ram setu\n"
          ]
        }
      ],
      "source": [
        "Favorite_Movie_Name = input(' Enter your favorite movie name : ')"
      ]
    },
    {
      "cell_type": "code",
      "execution_count": null,
      "metadata": {
        "execution": {
          "iopub.execute_input": "2023-05-17T19:25:01.983152Z",
          "iopub.status.busy": "2023-05-17T19:25:01.982483Z",
          "iopub.status.idle": "2023-05-17T19:25:01.992027Z",
          "shell.execute_reply": "2023-05-17T19:25:01.989703Z",
          "shell.execute_reply.started": "2023-05-17T19:25:01.983084Z"
        },
        "id": "pMaPWIkx1cyl",
        "trusted": true
      },
      "outputs": [],
      "source": [
        "All_Movies_Title_List = ms['movie_name'].tolist()"
      ]
    },
    {
      "cell_type": "code",
      "execution_count": null,
      "metadata": {
        "execution": {
          "iopub.execute_input": "2023-05-17T19:25:01.995346Z",
          "iopub.status.busy": "2023-05-17T19:25:01.993910Z",
          "iopub.status.idle": "2023-05-17T19:25:02.010941Z",
          "shell.execute_reply": "2023-05-17T19:25:02.009299Z",
          "shell.execute_reply.started": "2023-05-17T19:25:01.995253Z"
        },
        "id": "Gkvky9MU1cyl",
        "trusted": true
      },
      "outputs": [],
      "source": [
        "import difflib"
      ]
    },
    {
      "cell_type": "code",
      "execution_count": null,
      "metadata": {
        "colab": {
          "base_uri": "https://localhost:8080/"
        },
        "execution": {
          "iopub.execute_input": "2023-05-17T19:25:02.013451Z",
          "iopub.status.busy": "2023-05-17T19:25:02.012916Z",
          "iopub.status.idle": "2023-05-17T19:25:02.052492Z",
          "shell.execute_reply": "2023-05-17T19:25:02.051233Z",
          "shell.execute_reply.started": "2023-05-17T19:25:02.013403Z"
        },
        "id": "Y6banE7w1cyl",
        "outputId": "f14d1ac4-97e9-4812-ae40-78cf671ca3ba",
        "trusted": true
      },
      "outputs": [
        {
          "name": "stdout",
          "output_type": "stream",
          "text": [
            "['Ram Setu']\n"
          ]
        }
      ],
      "source": [
        "Movie_Recommendation = difflib.get_close_matches(Favorite_Movie_Name, All_Movies_Title_List)\n",
        "print(Movie_Recommendation)"
      ]
    },
    {
      "cell_type": "code",
      "execution_count": null,
      "metadata": {
        "colab": {
          "base_uri": "https://localhost:8080/"
        },
        "execution": {
          "iopub.execute_input": "2023-05-17T19:25:02.054512Z",
          "iopub.status.busy": "2023-05-17T19:25:02.054147Z",
          "iopub.status.idle": "2023-05-17T19:25:02.061724Z",
          "shell.execute_reply": "2023-05-17T19:25:02.060518Z",
          "shell.execute_reply.started": "2023-05-17T19:25:02.054479Z"
        },
        "id": "qEiPwFhM1cyl",
        "outputId": "d8cc80c1-4872-48c0-e676-15a94170a0af",
        "trusted": true
      },
      "outputs": [
        {
          "name": "stdout",
          "output_type": "stream",
          "text": [
            "Ram Setu\n"
          ]
        }
      ],
      "source": [
        "Close_Match = Movie_Recommendation[0]\n",
        "print(Close_Match)"
      ]
    },
    {
      "cell_type": "code",
      "execution_count": null,
      "metadata": {
        "colab": {
          "base_uri": "https://localhost:8080/"
        },
        "execution": {
          "iopub.execute_input": "2023-05-17T19:25:02.064261Z",
          "iopub.status.busy": "2023-05-17T19:25:02.063169Z",
          "iopub.status.idle": "2023-05-17T19:25:02.081106Z",
          "shell.execute_reply": "2023-05-17T19:25:02.079550Z",
          "shell.execute_reply.started": "2023-05-17T19:25:02.064200Z"
        },
        "id": "WLrolFQp1cym",
        "outputId": "4feeb30e-4572-494c-a8fc-c9e1b51c1587",
        "trusted": true
      },
      "outputs": [
        {
          "name": "stdout",
          "output_type": "stream",
          "text": [
            "374\n"
          ]
        }
      ],
      "source": [
        "Index_of_Close_Match_Movie = ms[ms.movie_name == Close_Match]['id'].values[0]\n",
        "print(Index_of_Close_Match_Movie)"
      ]
    },
    {
      "cell_type": "markdown",
      "metadata": {
        "id": "pGdh2QeX1cys"
      },
      "source": []
    },
    {
      "cell_type": "code",
      "execution_count": null,
      "metadata": {
        "colab": {
          "base_uri": "https://localhost:8080/"
        },
        "execution": {
          "iopub.execute_input": "2023-05-17T19:25:02.084217Z",
          "iopub.status.busy": "2023-05-17T19:25:02.083677Z"
        },
        "id": "dK9Gw-2U1cys",
        "outputId": "2ece3ca0-436e-49ca-a3f6-53d06c4e8309",
        "trusted": true
      },
      "outputs": [
        {
          "name": "stdout",
          "output_type": "stream",
          "text": [
            "[(0, 0.040190435166782446), (1, 0.0), (2, 0.013970773221096593), (3, 0.02746597398821934), (4, 0.039541376686281465), (5, 0.015211594719745349), (6, 0.013614627636999364), (7, 0.03038557522489396), (8, 0.06976726291748218), (9, 0.01883649650694396), (10, 0.028760560859570523), (11, 0.005383226286674362), (12, 0.012512265751948363), (13, 0.007424201798612333), (14, 0.021616602815139656), (15, 0.045788338728601545), (16, 0.04485811141669578), (17, 0.05280430034032697), (18, 0.014345406784050305), (19, 0.051378590710753985), (20, 0.02048578817625222), (21, 0.03598817238731216), (22, 0.01984912277146899), (23, 0.01651494817118996), (24, 0.02240935021315525), (25, 0.01651806467412219), (26, 0.018451962466923405), (27, 0.02571441485864527), (28, 0.034574514036101574), (29, 0.025536214642831092), (30, 0.013157611109620021), (31, 0.060383000792029885), (32, 0.03014930631392418), (33, 0.060035557357533284), (34, 0.017636149194255015), (35, 0.057980978062726896), (36, 0.05962742423680381), (37, 0.04073664706781191), (38, 0.04139337539016173), (39, 0.007319596856191712), (40, 0.00719521335781749), (41, 0.0466626942067926), (42, 0.06216462591364408), (43, 0.006094522089899329), (44, 0.08702473817784871), (45, 0.025509651165693235), (46, 0.030370745745197773), (47, 0.023068557826022594), (48, 0.010508677135804846), (49, 0.00777681899489978), (50, 0.03818248177342326), (51, 0.039552956307071854), (52, 0.053035426964257844), (53, 0.04908992551389764), (54, 0.013005907507570282), (55, 0.04492723474666437), (56, 0.014373956212108846), (57, 0.020336453650999856), (58, 0.03138882815174461), (59, 0.03352652939995921), (60, 0.022701573220104212), (61, 0.02824676224292985), (62, 0.09215751141140288), (63, 0.040894784727350725), (64, 0.043779259664117505), (65, 0.01168886235786688), (66, 0.024329455775561344), (67, 0.00900278301654715), (68, 0.09082828338756778), (69, 0.0022563380612125182), (70, 0.0409258756075674), (71, 0.04481141355143163), (72, 0.0121113405374135), (73, 0.005993061668464487), (74, 0.00808700118367844), (75, 0.007644200846859125), (76, 0.03620055724744977), (77, 0.023270918521956608), (78, 0.01475154849499562), (79, 0.037736322484106036), (80, 0.021734003890682783), (81, 0.013325850844548168), (82, 0.007657347547888902), (83, 0.019515447122931826), (84, 0.08012690839103837), (85, 0.009904928697069472), (86, 0.02280431706441175), (87, 0.027732372110771043), (88, 0.023401799371643807), (89, 0.03817392285170615), (90, 0.051555334873461776), (91, 0.009605643292011046), (92, 0.041188398941231635), (93, 0.006773469756878565), (94, 0.03581799382957574), (95, 0.012727105253495075), (96, 0.0400094725217777), (97, 0.010904774156699291), (98, 0.029398849223187484), (99, 0.08257988641255981), (100, 0.014475815575342317), (101, 0.04873769095962202), (102, 0.0), (103, 0.037221480301848325), (104, 0.027337672997170975), (105, 0.014053548741609315), (106, 0.03166411745604235), (107, 0.04983134520899115), (108, 0.01623188220369369), (109, 0.044889488962261095), (110, 0.008861619857308566), (111, 0.021525540298505116), (112, 0.05726896976021099), (113, 0.024845080318713637), (114, 0.02837390260671838), (115, 0.053014601682859916), (116, 0.0), (117, 0.03058447175949118), (118, 0.019344045283388272), (119, 0.006878870711796175), (120, 0.031112333535525283), (121, 0.04587597983491219), (122, 0.019183854827177882), (123, 0.01400964667641435), (124, 0.005642631064412909), (125, 0.025181446242732226), (126, 0.03983431712452789), (127, 0.014995940589968603), (128, 0.03015920195637462), (129, 0.022876741804299373), (130, 0.0338831915795757), (131, 0.02723616042687348), (132, 0.0), (133, 0.03441552662352393), (134, 0.007993926621396353), (135, 0.02224215007334776), (136, 0.014757529111404075), (137, 0.024933621080291596), (138, 0.013005091546606756), (139, 0.02087771372614957), (140, 0.028092907202004136), (141, 0.005891106111208653), (142, 0.057924833402205854), (143, 0.06709256125985258), (144, 0.09130562757657314), (145, 0.0315915094276597), (146, 0.00987690982429483), (147, 0.03523486966901945), (148, 0.018979873270386947), (149, 0.04272220454454849), (150, 0.03193462094037704), (151, 0.03378910251940083), (152, 0.0), (153, 0.022688797126399773), (154, 0.013949343381321342), (155, 0.026760409525017792), (156, 0.0373390951319119), (157, 0.05335694709116332), (158, 0.022386662187156244), (159, 0.032314101543687065), (160, 0.05183637837773364), (161, 0.0395641804408805), (162, 0.03320433629856343), (163, 0.021336159313420883), (164, 0.03541655239706204), (165, 0.02672994479774706), (166, 0.10722655639692862), (167, 0.012365320444324823), (168, 0.05499586724994364), (169, 0.05685083124937798), (170, 0.013996189649320236), (171, 0.02515215667580041), (172, 0.007688706324935551), (173, 0.0), (174, 0.01573386046271589), (175, 0.019532410754962586), (176, 0.030086706699507207), (177, 0.06749283678324212), (178, 0.033460038618186846), (179, 0.009797109913892082), (180, 0.04084197788472817), (181, 0.014636856533161954), (182, 0.05616948152774063), (183, 0.0), (184, 0.029654601954773797), (185, 0.037354866834872005), (186, 0.031674440481638415), (187, 0.08794968371666383), (188, 0.014379724350237207), (189, 0.027269702371155384), (190, 0.07175165472684494), (191, 0.035915139672976215), (192, 0.015673490753489467), (193, 0.017833997583517835), (194, 0.03544367249564582), (195, 0.029788985316470895), (196, 0.011250707552719544), (197, 0.0186755832465833), (198, 0.035867875543090164), (199, 0.045046870820563786), (200, 0.08377356488404006), (201, 0.021232211546439783), (202, 0.028871354943769207), (203, 0.03933510630123968), (204, 0.018530311745493216), (205, 0.03259810549205772), (206, 0.01951414791099869), (207, 0.04518106579320144), (208, 0.0241867538292196), (209, 0.029527083885366224), (210, 0.016866779630365914), (211, 0.015005479823463685), (212, 0.0024723744884821365), (213, 0.009827299649958682), (214, 0.05268784940048198), (215, 0.015345714041404933), (216, 0.01065558382609586), (217, 0.016151480217599972), (218, 0.002169348613232405), (219, 0.0052957666196371675), (220, 0.007739318743952569), (221, 0.05187086808440106), (222, 0.03182080098605346), (223, 0.04771624281651778), (224, 0.00243740244739366), (225, 0.016890059269807065), (226, 0.012978553639222285), (227, 0.02950808521858688), (228, 0.04545560387825946), (229, 0.06732849251285028), (230, 0.042916197243234054), (231, 0.017368868965953407), (232, 0.0), (233, 0.03979176406106028), (234, 0.059585834301371904), (235, 0.024923343199499234), (236, 0.07473453949785851), (237, 0.030371075187896925), (238, 0.05327116339417664), (239, 0.01808998990675518), (240, 0.014181020699005748), (241, 0.02783697508334479), (242, 0.03232704212593744), (243, 0.012235756907516302), (244, 0.015594705442794572), (245, 0.03928350409082391), (246, 0.05316057321292765), (247, 0.06046959841904297), (248, 0.058599893697444935), (249, 0.0024064867700852926), (250, 0.007700230707475303), (251, 0.008875083317926408), (252, 0.016410975914922687), (253, 0.024338128844187307), (254, 0.05552772910447591), (255, 0.014195089304792371), (256, 0.04684983891749591), (257, 0.005519704718332092), (258, 0.037248312400380734), (259, 0.032254346547669385), (260, 0.021993698356336563), (261, 0.025694740538637118), (262, 0.033347315507061485), (263, 0.04768564861996365), (264, 0.013929443001388549), (265, 0.01566927212387505), (266, 0.01970178698128104), (267, 0.0051357814733814676), (268, 0.024875301445753045), (269, 0.01923880279446354), (270, 0.03740136584571509), (271, 0.02456930626715852), (272, 0.016868277508462013), (273, 0.047687402829806096), (274, 0.025416878432808255), (275, 0.0), (276, 0.004732758001621513), (277, 0.031510010592059684), (278, 0.059011088037160805), (279, 0.06368815645204719), (280, 0.008427567237175415), (281, 0.02919999370110877), (282, 0.04954886045291134), (283, 0.04070375016287781), (284, 0.0434443306711184), (285, 0.009561221844486392), (286, 0.014779210316450228), (287, 0.011580534249957686), (288, 0.0), (289, 0.010735351101260511), (290, 0.03793665823937868), (291, 0.0465809547211993), (292, 0.0252733986154757), (293, 0.007863559298096026), (294, 0.008887082116037098), (295, 0.028494838929765176), (296, 0.06829503402443796), (297, 0.057868645933985774), (298, 0.021172851063585834), (299, 0.005544353652323195), (300, 0.009247261529217036), (301, 0.03250389984868342), (302, 0.015362550520707634), (303, 0.05400776789306966), (304, 0.03638042396223601), (305, 0.026969277716984524), (306, 0.05370240273779284), (307, 0.017740922195034974), (308, 0.014337425698622747), (309, 0.07487019403391677), (310, 0.019129570282910985), (311, 0.016022731895683075), (312, 0.013117583307700176), (313, 0.0), (314, 0.020719519428471264), (315, 0.06573860620732516), (316, 0.02139585321292255), (317, 0.03478879806723884), (318, 0.014062148875985498), (319, 0.0444694663256949), (320, 0.028904699961974405), (321, 0.01350425167854856), (322, 0.045920483601397), (323, 0.016904458591216677), (324, 0.03185974987692167), (325, 0.028128616220540775), (326, 0.04801335920130889), (327, 0.019843736020281125), (328, 0.030153609769453978), (329, 0.0019397215078527865), (330, 0.027593222427217866), (331, 0.01449853143974057), (332, 0.02880598155113125), (333, 0.013586818338368778), (334, 0.006123640805064176), (335, 0.07760770564547177), (336, 0.013869458577784603), (337, 0.01172561231102929), (338, 0.009576660186718367), (339, 0.041967510222432794), (340, 0.06389602351340164), (341, 0.03292038328372687), (342, 0.06309269369130867), (343, 0.040673126854968635), (344, 0.014910393684416559), (345, 0.06705306031793372), (346, 0.021428107165755782), (347, 0.030823794715249916), (348, 0.07833936135019023), (349, 0.008104191101153136), (350, 0.007864452297977163), (351, 0.02650504052346232), (352, 0.010734793607738944), (353, 0.008509424889433136), (354, 0.03869627995437838), (355, 0.03661165404671084), (356, 0.008664416780629037), (357, 0.0068855066801289), (358, 0.03582558930948072), (359, 0.04175465937600418), (360, 0.040194016158478146), (361, 0.06043703867181144), (362, 0.011087326767002054), (363, 0.04890478108647799), (364, 0.05420297191245488), (365, 0.030633724707784922), (366, 0.0057783977957727535), (367, 0.040236767090781306), (368, 0.04234770674376197), (369, 0.015394214153751152), (370, 0.036481829563764834), (371, 0.03609035671295331), (372, 0.01947832783282692), (373, 0.027283581926828202), (374, 0.9999999999999999), (375, 0.02587278421893472), (376, 0.019077155324159534), (377, 0.04082920404190384), (378, 0.0025127800999939776), (379, 0.05841957724150021), (380, 0.025776416294685005), (381, 0.0616647192695832), (382, 0.030234439320177085), (383, 0.016131347703801747), (384, 0.01724792256433408), (385, 0.02778669278962575), (386, 0.05199752123702446), (387, 0.03429933876446328), (388, 0.03279772772936455), (389, 0.050668777622691036), (390, 0.02988937957302703), (391, 0.01437847102370288), (392, 0.02221676105279483), (393, 0.0), (394, 0.0639732796310361), (395, 0.04675083720553121), (396, 0.08208051412600205), (397, 0.045924440933961384), (398, 0.028074579192244167), (399, 0.04911586112666179), (400, 0.03350011317610745), (401, 0.021927531427333544), (402, 0.007643954944006456), (403, 0.04140918578356679), (404, 0.021402833718918813), (405, 0.05487007931230222), (406, 0.013281103061167282), (407, 0.058281422239963875), (408, 0.04810703327497654), (409, 0.003184202207312013), (410, 0.08984914172147904), (411, 0.014500376037276675), (412, 0.0754855631677116), (413, 0.09994129417935084), (414, 0.041295755352724194), (415, 0.0211236506868983), (416, 0.0045121985556912944), (417, 0.026344053284730627), (418, 0.058066005586514105), (419, 0.06225727313240098), (420, 0.06584514353456002), (421, 0.03153593153684237), (422, 0.03032691825786155), (423, 0.026085334566467215), (424, 0.02529089596825728), (425, 0.035025506129139204), (426, 0.0060140386872571325), (427, 0.022143400143100497), (428, 0.009622150358185314), (429, 0.03506467816359306), (430, 0.024872038378686238), (431, 0.061959925646914965), (432, 0.021687427079163768), (433, 0.015791679408033363), (434, 0.012544855081453535), (435, 0.10372850124775751), (436, 0.06950874438565004), (437, 0.10198427047427817), (438, 0.03176640532472065), (439, 0.068055590490097), (440, 0.0), (441, 0.0372866648135627), (442, 0.011115323566083425), (443, 0.03604586560145462), (444, 0.047176759144442644), (445, 0.0), (446, 0.008206740110242043), (447, 0.024173217351041158), (448, 0.013755433072811659), (449, 0.05605114445719513), (450, 0.05302981228960725), (451, 0.03895671015856523), (452, 0.017860470873035456), (453, 0.014849764148610806), (454, 0.016195419417486267), (455, 0.07120837903787122), (456, 0.015912467633440692), (457, 0.040613859068504905), (458, 0.019302409526188682), (459, 0.055878539941064134), (460, 0.041566185462150254), (461, 0.0403433792248773), (462, 0.042068697910190564), (463, 0.07419023061503775), (464, 0.03157899990392038), (465, 0.0058169006523955975), (466, 0.004024538555779289), (467, 0.02706021479422682), (468, 0.027663289538926397), (469, 0.008366777831621324), (470, 0.006747499886778795), (471, 0.017381494335328512), (472, 0.033287670127755214), (473, 0.06333666319144564), (474, 0.0025991879977242563), (475, 0.023557420498496108), (476, 0.04073607075527105), (477, 0.0), (478, 0.03306325064905263), (479, 0.13100922092610776), (480, 0.03102305324362481), (481, 0.020063281788032128), (482, 0.007838786839621822), (483, 0.0), (484, 0.020400888776091204), (485, 0.04654938761502532), (486, 0.007072797782573312), (487, 0.001935564151676676), (488, 0.05588032542243272), (489, 0.0393412694403368), (490, 0.002792112534541671), (491, 0.033389125049569), (492, 0.03487055945464943), (493, 0.016248399631505792), (494, 0.02436306166315158), (495, 0.04971258290908135), (496, 0.0254643277196592), (497, 0.019032853287913595), (498, 0.03345328201214028), (499, 0.010975881840993669), (500, 0.02879908534611268), (501, 0.027359752947275325), (502, 0.06877961383938065), (503, 0.01174640451619837), (504, 0.008977207930784614), (505, 0.04821508464654789), (506, 0.01341198176927737), (507, 0.024399329592019767), (508, 0.04580446872837679), (509, 0.05244490078380063), (510, 0.025760039885040227), (511, 0.05085755459680275), (512, 0.0063224879296724), (513, 0.019095752499877022), (514, 0.0162048737903792), (515, 0.04997593224332704), (516, 0.02761482146711642), (517, 0.028314106968416984), (518, 0.029938614556803807), (519, 0.018553886977184512), (520, 0.04941798968924577), (521, 0.041050291043827083), (522, 0.0017631658626171914), (523, 0.021796779132530156), (524, 0.013399574332640014), (525, 0.0), (526, 0.04328050932907168), (527, 0.03126399501740028), (528, 0.05043626621051682), (529, 0.03247933766851017), (530, 0.010202269646740566), (531, 0.00993977677124211), (532, 0.05390546085855075), (533, 0.0319366459988236), (534, 0.0021919421377637424), (535, 0.04812299015058193), (536, 0.0), (537, 0.009849375576319336), (538, 0.022194534476184934), (539, 0.03484579514494504), (540, 0.048746534319319426), (541, 0.04106712473247579), (542, 0.013006648995123821), (543, 0.052216478620781326), (544, 0.011353306695072278), (545, 0.0058053101551265645), (546, 0.026143805742316565), (547, 0.018241548754463058), (548, 0.02102922018294836), (549, 0.052235828275646094), (550, 0.013453511003373667), (551, 0.020087909342963645), (552, 0.055219342700834236), (553, 0.07256601406968535), (554, 0.020103196801002022), (555, 0.09024369468068294), (556, 0.09945896746121294), (557, 0.08212974945097751), (558, 0.09913270339331301), (559, 0.010105281032317531), (560, 0.003548917541604446), (561, 0.09254822208593322), (562, 0.09011943514029973), (563, 0.11441078639986221), (564, 0.04971583769988235), (565, 0.05009828830530127), (566, 0.030544733980003822), (567, 0.06740368631483172), (568, 0.05539220188644367), (569, 0.03226637211437329), (570, 0.06555570806417643), (571, 0.0), (572, 0.0025703392297591653), (573, 0.1244574103173888), (574, 0.05464481389778463), (575, 0.02523659375181122), (576, 0.014486505413771044), (577, 0.015122212021447975), (578, 0.0020883305367595762), (579, 0.02225846565321433), (580, 0.04462656243549985), (581, 0.014128269399978625), (582, 0.006410965422449317), (583, 0.01205633767830553), (584, 0.040122506385158116), (585, 0.034324055584696665), (586, 0.0429136484960707), (587, 0.012650592736091926), (588, 0.007014587807035854), (589, 0.06252924619049154), (590, 0.0025292893686076063), (591, 0.04320595112593946), (592, 0.04852966954107519), (593, 0.0), (594, 0.040133196205257966), (595, 0.012062269221442944), (596, 0.01850751825368133), (597, 0.043070812208695956), (598, 0.04060362397642453), (599, 0.029146386071550776), (600, 0.009211379353793328), (601, 0.032650531949997064), (602, 0.018263681344861966), (603, 0.04025380173539352), (604, 0.033896713779673834), (605, 0.025704233427417525), (606, 0.013758978065113659), (607, 0.0), (608, 0.011263471084974695), (609, 0.008308560353013306), (610, 0.008705638189816636), (611, 0.015007109844351182), (612, 0.046064842364803155), (613, 0.041891779195753154), (614, 0.03803296988020391), (615, 0.0), (616, 0.005282848329970036), (617, 0.010238553588937346), (618, 0.02348807189488673), (619, 0.03355217547051794), (620, 0.05928427840690562), (621, 0.02299788955911092), (622, 0.10146138301726727), (623, 0.03214893997199182), (624, 0.004889454691796552), (625, 0.042624764837698566), (626, 0.0591766920713638), (627, 0.0858244711460515), (628, 0.021380911050966366), (629, 0.02837500134108503), (630, 0.03299283137662059), (631, 0.030059854471704707), (632, 0.016345639557914154), (633, 0.03054547124883007), (634, 0.016269098675952724), (635, 0.03167214537588438), (636, 0.009694758386942798), (637, 0.001944119644348401), (638, 0.025391432704953056), (639, 0.03899281216327051), (640, 0.013913513326902315), (641, 0.006162247116979311), (642, 0.03182261361730218), (643, 0.04021768593166735), (644, 0.04320347781065017), (645, 0.030826913273244085), (646, 0.004574675350575442), (647, 0.03803584911391639), (648, 0.020576647255957294), (649, 0.04946087547054906), (650, 0.0063464994076698885), (651, 0.015919605877528074), (652, 0.045679504617335547), (653, 0.04269244670132061), (654, 0.014533814649225183), (655, 0.06902489266297131), (656, 0.00351161945391976), (657, 0.018952756460258704), (658, 0.045502698661793184), (659, 0.01356295101520582), (660, 0.0436200594680018), (661, 0.051934470823275486), (662, 0.009485994131072626), (663, 0.028956656352477964), (664, 0.023303043934748705), (665, 0.022231754592245606), (666, 0.02500080499483521), (667, 0.0211863572836473), (668, 0.011000738355438619), (669, 0.008457395598004305), (670, 0.011253426004808099), (671, 0.017484180020188422), (672, 0.005138774817930959), (673, 0.0023237679025448744), (674, 0.021056219865456582), (675, 0.011317136182311687), (676, 0.02431624202942387), (677, 0.003081201271786122), (678, 0.02723424138653415), (679, 0.04091870158208869), (680, 0.02714461339285793), (681, 0.0024275697791853006), (682, 0.03594284442777966), (683, 0.021386860669460283), (684, 0.0930352167176002), (685, 0.03693668131467032), (686, 0.009128267039993154), (687, 0.02746269598612832), (688, 0.002430617399261131), (689, 0.07741087222162406), (690, 0.014273607815556033), (691, 0.015166230712667213), (692, 0.10461119579890912), (693, 0.04070456038188435), (694, 0.02566482987691124), (695, 0.030212476471906287), (696, 0.03450786564479939), (697, 0.02763523330974018), (698, 0.045819365563590606), (699, 0.049221948367108276), (700, 0.14832366129032962), (701, 0.02357434528429714), (702, 0.018220823555783486), (703, 0.0), (704, 0.0), (705, 0.024950141290740406), (706, 0.005445983118573373), (707, 0.05132947653200673), (708, 0.04237358799458301), (709, 0.08220756727880013), (710, 0.05986318398615756), (711, 0.014660536710402995), (712, 0.043291487559466865), (713, 0.052618787067141876), (714, 0.005265220050954663), (715, 0.037777527048538304), (716, 0.047420214717750354), (717, 0.06229712352607729), (718, 0.01147955846987294), (719, 0.03456646644154886), (720, 0.026018323983282094), (721, 0.046753891890335325), (722, 0.08537610821815897), (723, 0.030811906965513676), (724, 0.02380092919187411), (725, 0.03542507505147979), (726, 0.02864719321768431), (727, 0.028780637934634305), (728, 0.013255455145564633), (729, 0.018915834541197593), (730, 0.05518236448508677), (731, 0.013566659139521965), (732, 0.09367149226925575), (733, 0.013864694860679533), (734, 0.06001309388157126), (735, 0.021075677345166983), (736, 0.08158448751975128), (737, 0.00881236898230649), (738, 0.0), (739, 0.03856498783261766), (740, 0.019359967389329685), (741, 0.010592097478626985), (742, 0.06582517810008141), (743, 0.030113935385583785), (744, 0.01215727824109954), (745, 0.024892768112795293), (746, 0.0383065001827498), (747, 0.03544915551059509), (748, 0.033788735726301186), (749, 0.004248010904716088), (750, 0.007286558344822641), (751, 0.0433468253838403), (752, 0.027368307852456596), (753, 0.017678930027709722), (754, 0.006460022586075351), (755, 0.013487863540212823), (756, 0.01860514727512684), (757, 0.02849947635149201), (758, 0.014483919969219983), (759, 0.025000946742950836), (760, 0.013557576456053398), (761, 0.02539961403330379), (762, 0.013299207186387408), (763, 0.019583333712338964), (764, 0.02935244218365317), (765, 0.03969534469464024), (766, 0.005062109763453583), (767, 0.05419969120919316), (768, 0.021693385711815075), (769, 0.02567327451637235), (770, 0.004369869477403795), (771, 0.007061235870902346), (772, 0.013835373520801275), (773, 0.0027812458545970298), (774, 0.07593754026264861), (775, 0.1077498301505456), (776, 0.0), (777, 0.013766379647962197), (778, 0.04752970583675774), (779, 0.0), (780, 0.039495955172048514), (781, 0.02683337067748081), (782, 0.02175481444820192), (783, 0.030778395990291547), (784, 0.06756567306628147), (785, 0.045879996700583583), (786, 0.00743254700466532), (787, 0.018319482344887904), (788, 0.020762915660510223), (789, 0.010355917421533916), (790, 0.025040592088951336), (791, 0.041509426053918164), (792, 0.02894109804774941), (793, 0.035915121661935424), (794, 0.0537140042184953), (795, 0.026374585977264258), (796, 0.027840974118893136), (797, 0.08112607770044597), (798, 0.024691131034774983), (799, 0.014729822303149875), (800, 0.006494900617541661), (801, 0.011260433530492303), (802, 0.028565759005494223), (803, 0.024244690891115254), (804, 0.03581183366964427), (805, 0.02901887509893526), (806, 0.022069113464518234), (807, 0.01114206808226498), (808, 0.06471011494957056), (809, 0.03757050773597473), (810, 0.015845281652911263), (811, 0.01859434146819603), (812, 0.0718374656787693), (813, 0.009010734414266156), (814, 0.07104384174260224), (815, 0.028933503134276384), (816, 0.03174700387813431), (817, 0.002635694640628285), (818, 0.03409254990509111), (819, 0.023631623334458566), (820, 0.02004010722367788), (821, 0.03896506838082153), (822, 0.0), (823, 0.01421515361732868), (824, 0.007937622099928019), (825, 0.00323727129490594), (826, 0.03719726036871345), (827, 0.022716321160086317), (828, 0.013696005798757634), (829, 0.03438691006287643), (830, 0.03298317286763202), (831, 0.016004997260855247), (832, 0.03156752614197541), (833, 0.03237963004385034), (834, 0.005242077600485997), (835, 0.0024348252973793575), (836, 0.02042288420489255), (837, 0.08351608516070079), (838, 0.0), (839, 0.014652114556001261), (840, 0.022676703355728526), (841, 0.04208106170137814), (842, 0.07426560305426241), (843, 0.008157090211591745), (844, 0.009573503401065536), (845, 0.05378819812372771), (846, 0.010590907791333152), (847, 0.020573552852371498), (848, 0.02379701375056175), (849, 0.014583469497171337), (850, 0.01606517623203899), (851, 0.06668607583967383), (852, 0.05541290875904299), (853, 0.016390143268847003), (854, 0.03470115032740027), (855, 0.015975174774447827), (856, 0.041381386512066895), (857, 0.0), (858, 0.05024386172013953), (859, 0.05603863480552988), (860, 0.027020123303615744), (861, 0.0071579243960087375), (862, 0.011484769875510328), (863, 0.02543731867860107), (864, 0.02543367347337132), (865, 0.02686127121657991), (866, 0.041839688297626895), (867, 0.026399713780330365), (868, 0.02545282023026893), (869, 0.07413590398133427), (870, 0.03920523385596302), (871, 0.006680489631635933), (872, 0.03007552865838918), (873, 0.015659627379607993), (874, 0.02564585888135361), (875, 0.04945184854819974), (876, 0.02330386820033697), (877, 0.04859967074570812), (878, 0.020058106529246295), (879, 0.014065291733191754), (880, 0.05985235138332373), (881, 0.008630310217007877), (882, 0.012622336995132374), (883, 0.007754247951714255), (884, 0.02168535068106223), (885, 0.002654361510064511), (886, 0.018916280381992053), (887, 0.013996864460836514), (888, 0.0464557998396064), (889, 0.01605718199859973), (890, 0.022017946147187148), (891, 0.018141911728371332), (892, 0.01939094123360399), (893, 0.023403272992556255), (894, 0.011086388743770895), (895, 0.01630069190162657), (896, 0.010518831047324314), (897, 0.015127129396091468), (898, 0.038449475308643295), (899, 0.026056768240413645), (900, 0.07423844543120744), (901, 0.0), (902, 0.06048709753628894), (903, 0.0019668925763243823), (904, 0.012470374472394536), (905, 0.013950427693408441), (906, 0.041828488074110604), (907, 0.04861188889914702), (908, 0.0), (909, 0.0), (910, 0.011026595979288442), (911, 0.013057055549545945), (912, 0.009860335158682579), (913, 0.03904181234388484), (914, 0.009032890293282414), (915, 0.005068214966901071), (916, 0.010564782005896937), (917, 0.024542601767961834), (918, 0.010156580836438278), (919, 0.0050036240126472365), (920, 0.018801487281459008), (921, 0.028915451381082976), (922, 0.03138696487980756), (923, 0.03613306222816432), (924, 0.013477991265807805), (925, 0.04054805111057505), (926, 0.0206519607158477), (927, 0.0), (928, 0.04088822916703195), (929, 0.024722142510638544), (930, 0.028367599832456927), (931, 0.021809565227218893), (932, 0.014984488874044632), (933, 0.013678617815076214), (934, 0.020193834666344952), (935, 0.028596815535241946), (936, 0.0), (937, 0.030132857764851435), (938, 0.03258937976150031), (939, 0.038777740797719014), (940, 0.039331925069627655), (941, 0.007504127991117684), (942, 0.023991859796248096), (943, 0.05164831550007652), (944, 0.023628294975630897), (945, 0.0), (946, 0.02341502242486345), (947, 0.010395238719088332), (948, 0.036923874443798826), (949, 0.007060252587746362), (950, 0.011670921304707132), (951, 0.00941470623264824), (952, 0.01944978667946778), (953, 0.01186834001863433), (954, 0.023214884797652758), (955, 0.002915492084355523), (956, 0.019182121710234413), (957, 0.02319835748963869), (958, 0.02001035541022986), (959, 0.03495874507123373), (960, 0.008094362200437345), (961, 0.008831742159607081), (962, 0.1061125034481359), (963, 0.013011952568142238), (964, 0.012020325794452206), (965, 0.018800452561317207), (966, 0.04333536426603319), (967, 0.0), (968, 0.035985246704919295), (969, 0.019978893342359118), (970, 0.010271256758659173), (971, 0.041055278169806336), (972, 0.031887065132020345), (973, 0.004131358044877705), (974, 0.0), (975, 0.02804554385242774), (976, 0.06297595118339328), (977, 0.029938173775294098), (978, 0.0), (979, 0.04188323681655184), (980, 0.03881041193967486), (981, 0.012348267546180654), (982, 0.024850056661558633), (983, 0.029302831792061338), (984, 0.04302539714720797), (985, 0.015497101779699197), (986, 0.015804626329991432), (987, 0.0318954533743379), (988, 0.025848380689104278), (989, 0.007769186781689197), (990, 0.04709352953789495), (991, 0.0380201616013875), (992, 0.01115487800942317), (993, 0.030390969889208738), (994, 0.04370161562119825), (995, 0.002980908180630035), (996, 0.016496536349629384), (997, 0.044874314626260826), (998, 0.055987057990900715), (999, 0.013068063341685348), (1000, 0.009954763660862597), (1001, 0.07925621732767366), (1002, 0.035921717926996964), (1003, 0.051113139011133665), (1004, 0.005968612288551727), (1005, 0.005477522239891855), (1006, 0.035368279919628334), (1007, 0.02614577799642215), (1008, 0.05335884609522657), (1009, 0.006758007547947058), (1010, 0.04866623841428929), (1011, 0.04335734510636815), (1012, 0.021884008064254536), (1013, 0.02234362744480047), (1014, 0.004955393056004517), (1015, 0.028223237598503315), (1016, 0.05248978546086723), (1017, 0.008721838073411732), (1018, 0.00509921762632846), (1019, 0.013324229339053147), (1020, 0.02666687845048775), (1021, 0.0), (1022, 0.03695226224670491), (1023, 0.02655832975394137), (1024, 0.0), (1025, 0.003496422796060348), (1026, 0.010999770486102463), (1027, 0.024742488896159306), (1028, 0.009791174714940783), (1029, 0.022982610445173298), (1030, 0.0027269292773423326), (1031, 0.010588796172337982), (1032, 0.015218519369657995), (1033, 0.046433900274973954), (1034, 0.0624765889812105), (1035, 0.01719097069757171), (1036, 0.011567649211066962), (1037, 0.018719552372378826), (1038, 0.0), (1039, 0.005753837378423149), (1040, 0.01256321107325773), (1041, 0.013657894669060344), (1042, 0.022588849366245764), (1043, 0.012118993410431156), (1044, 0.007859477467208024), (1045, 0.003929543671191342), (1046, 0.02887405576259716), (1047, 0.004649322040442306), (1048, 0.04432908684102044), (1049, 0.037987416041992815), (1050, 0.02552610743039138), (1051, 0.02896330375080227), (1052, 0.055075060429637), (1053, 0.04207920581622325), (1054, 0.03234175399035454), (1055, 0.021267646518146253), (1056, 0.026840491656010768), (1057, 0.01838222300809854), (1058, 0.013184514962271066), (1059, 0.020659248126441907), (1060, 0.0655518676971823), (1061, 0.024188890403044186), (1062, 0.0342645726003216), (1063, 0.039157950727165144), (1064, 0.010002783492979062), (1065, 0.08456312898606776), (1066, 0.021934915056094188), (1067, 0.0), (1068, 0.016573121182444014), (1069, 0.023932617375601754), (1070, 0.047349584222543324), (1071, 0.016184257517856345), (1072, 0.00548196491479582), (1073, 0.08253410169959145), (1074, 0.04158772302153247), (1075, 0.005580257109676671), (1076, 0.012659038542728342), (1077, 0.033854541562596395), (1078, 0.03754927978950795), (1079, 0.007711511176298556), (1080, 0.030958707281720767), (1081, 0.03097094955925391), (1082, 0.010335858128054942), (1083, 0.030449592943986938), (1084, 0.03560094898537551), (1085, 0.012084071686062955), (1086, 0.006052911171044378), (1087, 0.002078718687381231), (1088, 0.025603452956646955), (1089, 0.023609671047721537), (1090, 0.0328222981795344), (1091, 0.10355925129491102), (1092, 0.01474887561431902), (1093, 0.0020511736064141427), (1094, 0.01715435197968806), (1095, 0.026494216796154216), (1096, 0.06446392356633932), (1097, 0.02164098383080981), (1098, 0.013581626825952552), (1099, 0.03274099553426433), (1100, 0.037211995420610086), (1101, 0.028500805896659077), (1102, 0.06337403303459326), (1103, 0.009668418120247754), (1104, 0.06886640598706655), (1105, 0.0649478654116328), (1106, 0.011612638122465355), (1107, 0.010073585026408012), (1108, 0.0083415000462513), (1109, 0.01396017264081682), (1110, 0.0), (1111, 0.046105575532298285), (1112, 0.04511440887034327), (1113, 0.026246938117154728), (1114, 0.008349036247891474), (1115, 0.030448808200548766), (1116, 0.010182839342159971), (1117, 0.007140926920443477), (1118, 0.005796806506060236), (1119, 0.014566576369187387), (1120, 0.0), (1121, 0.024339275538274974), (1122, 0.0071255675653488105), (1123, 0.0), (1124, 0.02065518452864943), (1125, 0.0), (1126, 0.026076992990248037), (1127, 0.01644629081486087), (1128, 0.031154890484766773), (1129, 0.023947443029331127), (1130, 0.024537175650353533), (1131, 0.03108238082385783), (1132, 0.04154579840924326), (1133, 0.038643243940064395), (1134, 0.005687495221361969), (1135, 0.03553270306867133), (1136, 0.025591037804521453), (1137, 0.012391976835686968), (1138, 0.01461796197172277), (1139, 0.0), (1140, 0.006819720106241311), (1141, 0.02771186620024), (1142, 0.026530809430887214), (1143, 0.02351194057871687), (1144, 0.0), (1145, 0.00921680501273611), (1146, 0.034904143162427445), (1147, 0.02069912922337737), (1148, 0.03775039370611905), (1149, 0.022655775583008), (1150, 0.025632398583455545), (1151, 0.013707797520364398), (1152, 0.04809207619795519), (1153, 0.016328317680724975), (1154, 0.06258611106188826), (1155, 0.016002373524682457), (1156, 0.04694500955382687), (1157, 0.01898065684456863), (1158, 0.02328897529291623), (1159, 0.06522958353962764), (1160, 0.033587231186291075), (1161, 0.01308638705773299), (1162, 0.004655059775382614), (1163, 0.013418381296163805), (1164, 0.020220837656623858), (1165, 0.017006455973998937), (1166, 0.0), (1167, 0.007741527032270938), (1168, 0.0), (1169, 0.01790315856009546), (1170, 0.006783283274143313), (1171, 0.029565753663570497), (1172, 0.029160030022369988), (1173, 0.032034764018304754), (1174, 0.003223935789174069), (1175, 0.014392179115139622), (1176, 0.0225691722014788), (1177, 0.013865970771776696), (1178, 0.01030018874117979), (1179, 0.012892375549736532), (1180, 0.0026773276063666715), (1181, 0.006237594188826741), (1182, 0.02136162414331236), (1183, 0.020555124793508402), (1184, 0.02207651069950286), (1185, 0.014262951194781614), (1186, 0.015862153565346686), (1187, 0.06820177925980855), (1188, 0.022609064334431116), (1189, 0.004761958725308924), (1190, 0.03534263769043153), (1191, 0.02536594330304498), (1192, 0.003174029816507214), (1193, 0.018834493856596076), (1194, 0.02051406817882974), (1195, 0.022539958237620825), (1196, 0.04054274296745083), (1197, 0.03518742729941786), (1198, 0.03273152872775696), (1199, 0.011629700314286916), (1200, 0.023782917225594967), (1201, 0.006002956734676435), (1202, 0.0027786263906696), (1203, 0.01971047109264211), (1204, 0.011038514804547693), (1205, 0.006061541318744835), (1206, 0.025935144380423165), (1207, 0.07715045827988264), (1208, 0.004691898031212674), (1209, 0.04190809313845514), (1210, 0.05175514659344735), (1211, 0.018922502705586902), (1212, 0.024301673092951375), (1213, 0.034084824618734536), (1214, 0.029591482426238176), (1215, 0.06256312608586129), (1216, 0.0), (1217, 0.01906256408927803), (1218, 0.03912806573149173), (1219, 0.01589152370984202), (1220, 0.040275309046259866), (1221, 0.0073238576620878945), (1222, 0.026082064947802235), (1223, 0.02665807148000439), (1224, 0.04038865553152132), (1225, 0.05998638906852112), (1226, 0.0067464764648793125), (1227, 0.03354315104860482), (1228, 0.12689297460605986), (1229, 0.039509821159607175), (1230, 0.02515663960752702), (1231, 0.025175328714432905), (1232, 0.01319270885549293), (1233, 0.02526287667434903), (1234, 0.06535318942813668), (1235, 0.00933743691190822), (1236, 0.019007760872284337), (1237, 0.005579464444412333), (1238, 0.019792347454123248), (1239, 0.0063462120784458), (1240, 0.022643167318013836), (1241, 0.044285470319375485), (1242, 0.020158079207313558), (1243, 0.00995345207271358), (1244, 0.015546252428180685), (1245, 0.03756841464582747), (1246, 0.006701261828066604), (1247, 0.03723625880260186), (1248, 0.013843662856708785), (1249, 0.03081220199726879), (1250, 0.048156305187786456), (1251, 0.0308307195730064), (1252, 0.024262343984398253), (1253, 0.022386630616101046), (1254, 0.043169402594082855), (1255, 0.011887220087814506), (1256, 0.03396254291831444), (1257, 0.013245186806302888), (1258, 0.0), (1259, 0.01584836117239043), (1260, 0.029874513149933897), (1261, 0.05667301729851337), (1262, 0.02585867689010518), (1263, 0.03708562049738368), (1264, 0.01415761808856254), (1265, 0.027615923825190965), (1266, 0.03434656247572125), (1267, 0.007712520910301782), (1268, 0.016973032621409815), (1269, 0.018918825503066623), (1270, 0.016488555943943595), (1271, 0.02965435294457973), (1272, 0.018168228712109075), (1273, 0.023825659059539282), (1274, 0.009472192333330728), (1275, 0.005380508747788761), (1276, 0.017066034840948003), (1277, 0.03039781358147291), (1278, 0.014983728408129608), (1279, 0.017352657590793682), (1280, 0.027815675096435677), (1281, 0.07393478901756788), (1282, 0.04766397859266888), (1283, 0.043827999539150904), (1284, 0.03004602589878764), (1285, 0.012921445680147331), (1286, 0.0018496663765047792), (1287, 0.029935815977042857), (1288, 0.013519089162845981), (1289, 0.023734280455248464), (1290, 0.03696520636759029), (1291, 0.00212439155723231), (1292, 0.008121406431971307), (1293, 0.009754170917517256), (1294, 0.0), (1295, 0.03910392217429676), (1296, 0.00844126188346608), (1297, 0.028317103332940137), (1298, 0.05269378479741455), (1299, 0.012507977544502506), (1300, 0.025037880422358834), (1301, 0.023884198789789788), (1302, 0.012470775455930758), (1303, 0.016654920941076526), (1304, 0.0052616139535565576), (1305, 0.07760931820421432), (1306, 0.004835015286924505), (1307, 0.020754722673628646), (1308, 0.04736930780859757), (1309, 0.044444792611347816), (1310, 0.0210058467382521), (1311, 0.004104399078920161), (1312, 0.026725024867031502), (1313, 0.059806905892400106), (1314, 0.0963997846500445), (1315, 0.00443102331920134), (1316, 0.02236114512060693), (1317, 0.01652437223789314), (1318, 0.04631275644638061), (1319, 0.03445588458145285), (1320, 0.014595366663944627), (1321, 0.011353065400531083), (1322, 0.03842431514340863), (1323, 0.03174843429183505), (1324, 0.03093410023206979), (1325, 0.04286580459199687), (1326, 0.08700333609247693), (1327, 0.02859603696575374), (1328, 0.007820716767720549), (1329, 0.03362581080411725), (1330, 0.03404356645368866), (1331, 0.011399443092223144), (1332, 0.08461796244525994), (1333, 0.024304420055555366), (1334, 0.02476393786761518), (1335, 0.018296173639869077), (1336, 0.031943526486202335), (1337, 0.011463825739364258), (1338, 0.011402975402256571), (1339, 0.011620096295699864), (1340, 0.02831245737333933), (1341, 0.011726775773522099), (1342, 0.0032718635317700116), (1343, 0.057274684844373744), (1344, 0.01462957268753571), (1345, 0.020771640205362873), (1346, 0.008387193062789493), (1347, 0.013196795166779698), (1348, 0.04466568081212355), (1349, 0.014317992009438561), (1350, 0.026043083889670186), (1351, 0.054977016184780715), (1352, 0.03981975746966464), (1353, 0.007094974204716373), (1354, 0.0), (1355, 0.010405877644757061), (1356, 0.005526842977950949), (1357, 0.020019639816179612), (1358, 0.043808014685157534), (1359, 0.0046389311685911564), (1360, 0.030820919201985427), (1361, 0.06810997830765714), (1362, 0.013013512962623902), (1363, 0.022383517240907723), (1364, 0.05540809077203399), (1365, 0.0), (1366, 0.06462890835559448), (1367, 0.0316816199482409), (1368, 0.017593876343970975), (1369, 0.0), (1370, 0.01707487544836901), (1371, 0.06956373689054329), (1372, 0.015526682816864782), (1373, 0.09029858072783711), (1374, 0.028125291721898857), (1375, 0.004983308869375978), (1376, 0.040522295096600984), (1377, 0.02533699455983052), (1378, 0.02694099278386569), (1379, 0.0), (1380, 0.029929420653456433), (1381, 0.030582296868771452), (1382, 0.04596862971324229), (1383, 0.029413590574368903), (1384, 0.04620259728446411), (1385, 0.014562404901732249), (1386, 0.013375173950377425), (1387, 0.026139972190407573), (1388, 0.01834200216498664), (1389, 0.013716023568137215), (1390, 0.012193912382219467), (1391, 0.0232960588577487), (1392, 0.08988647060386117), (1393, 0.0), (1394, 0.018334672293924745), (1395, 0.025122360927838427), (1396, 0.02317844824580676), (1397, 0.021594703549685748), (1398, 0.024179619669145523), (1399, 0.021093109044488672), (1400, 0.006638308586879356), (1401, 0.0062338623572170335), (1402, 0.030389400258489963), (1403, 0.0022566273509284957), (1404, 0.018817129012125372), (1405, 0.01098146136006389), (1406, 0.026382405148506767), (1407, 0.03239644147872747), (1408, 0.023541049151405175), (1409, 0.10830472396068083), (1410, 0.0), (1411, 0.02644613869898313), (1412, 0.028194989091050525), (1413, 0.009590682665731086), (1414, 0.03483835892026488), (1415, 0.010668656738659767), (1416, 0.008563482084294518), (1417, 0.13066847217982858), (1418, 0.0303950641489941), (1419, 0.012230243908018808), (1420, 0.005971278907899056), (1421, 0.012301255838970265), (1422, 0.016006220716343958), (1423, 0.04169668571404275), (1424, 0.025489667142509262), (1425, 0.0), (1426, 0.007125337802139837), (1427, 0.0334421791124063), (1428, 0.009636651538702898), (1429, 0.045800512828723855), (1430, 0.010007571144857369), (1431, 0.03795576357110524), (1432, 0.010520081445261033), (1433, 0.026776270405983942), (1434, 0.04796782302364407), (1435, 0.005218469580511852), (1436, 0.0), (1437, 0.033166954992341034), (1438, 0.01174918220675153), (1439, 0.033471577156516615), (1440, 0.04089029660967524), (1441, 0.020648350094665854), (1442, 0.04915712131935729), (1443, 0.05345542080205053), (1444, 0.04641079668798344), (1445, 0.01097475365221992), (1446, 0.02370905606052312), (1447, 0.017532644950785728), (1448, 0.017521022907731616), (1449, 0.028190309731189644), (1450, 0.04996545137633707), (1451, 0.02328699844367644), (1452, 0.011654564342955628), (1453, 0.01896949672750807), (1454, 0.004779218384629397), (1455, 0.045530798667847525), (1456, 0.034180992777372195), (1457, 0.019154877917119686), (1458, 0.009417733673850308), (1459, 0.03604455942559308), (1460, 0.0024890036133722827), (1461, 0.025162341345401767), (1462, 0.006241630088455278), (1463, 0.02935943790415202), (1464, 0.047879749608595236), (1465, 0.0), (1466, 0.025001791899163118), (1467, 0.024593041416754117), (1468, 0.06551190496694315), (1469, 0.02578564147633911), (1470, 0.006344373974772207), (1471, 0.016965080310863946), (1472, 0.03903540731658356), (1473, 0.019324783263686297), (1474, 0.04089685566093), (1475, 0.035681271219744425), (1476, 0.03551580410065455), (1477, 0.07124535153185), (1478, 0.0022678575467286475), (1479, 0.01543547004268001), (1480, 0.0055907741689022565), (1481, 0.006594347815928327), (1482, 0.05152637159294778), (1483, 0.016959116846778827), (1484, 0.016109873321519294), (1485, 0.005057990402903606), (1486, 0.03828552051846975), (1487, 0.009500239043542275), (1488, 0.0047567288631166355), (1489, 0.027041516790048098), (1490, 0.008477404874093241), (1491, 0.030763496627021596), (1492, 0.09317295982285707), (1493, 0.13624905113589372), (1494, 0.005555080625612015), (1495, 0.017636323737060384), (1496, 0.02231848742019451), (1497, 0.018578449069960156), (1498, 0.02575012599947519), (1499, 0.0), (1500, 0.04068926898994035), (1501, 0.0), (1502, 0.03418581451646878), (1503, 0.022723550255245743), (1504, 0.004298193564236062), (1505, 0.043655447664492586), (1506, 0.0), (1507, 0.037249390893918134), (1508, 0.0), (1509, 0.03370595316846119), (1510, 0.014849101821728466), (1511, 0.027423473986687298), (1512, 0.014168905417228959), (1513, 0.038050580025664034), (1514, 0.038861381946974034), (1515, 0.03578578057818769), (1516, 0.04679051595111987), (1517, 0.05650862274833708), (1518, 0.013661538799278517), (1519, 0.010749122630849924), (1520, 0.018424191369577), (1521, 0.007010770547359148), (1522, 0.0035703108344724475), (1523, 0.0), (1524, 0.006909956100371552), (1525, 0.02077241059788766), (1526, 0.010801102073323694), (1527, 0.03747568247863676), (1528, 0.0), (1529, 0.0052309865068234235), (1530, 0.031945521701139803), (1531, 0.020952031242319872), (1532, 0.002616154932431329), (1533, 0.03628711841318226), (1534, 0.003973620355859836), (1535, 0.03115944884865935), (1536, 0.02462533598686901), (1537, 0.031422652711774426), (1538, 0.005621294966589172), (1539, 0.029666442902262176), (1540, 0.018371372235269343), (1541, 0.027398374962899298), (1542, 0.052060455932764184), (1543, 0.05511953769971155), (1544, 0.026114758559854623), (1545, 0.009631359694984954), (1546, 0.0), (1547, 0.027121696736059468), (1548, 0.015018433273962966), (1549, 0.005810274158254802), (1550, 0.03016493964874027), (1551, 0.002576948470631656), (1552, 0.029815907232006875), (1553, 0.0034857831908905617), (1554, 0.032770793006555346), (1555, 0.020860018685829224), (1556, 0.031548924997833294), (1557, 0.041990984848211885), (1558, 0.004282440407844123), (1559, 0.03238568605675106), (1560, 0.021030075603124622), (1561, 0.0), (1562, 0.040239591152373105), (1563, 0.01719226225137154), (1564, 0.0025909889979296454), (1565, 0.021143721070379352), (1566, 0.027986917867179894), (1567, 0.030293605798613024), (1568, 0.015922873743598617), (1569, 0.00984518975333749), (1570, 0.0023254319850233795), (1571, 0.02139444419899162), (1572, 0.02973465287666088), (1573, 0.014758101407046288), (1574, 0.016326707505505023), (1575, 0.05634302935790351), (1576, 0.0497029915225734), (1577, 0.030484039360317256), (1578, 0.008662511612446144), (1579, 0.0314779778553568), (1580, 0.005306416699563381), (1581, 0.12594771482953293), (1582, 0.03363774198934033), (1583, 0.017514579281471206), (1584, 0.018970475013868338), (1585, 0.03699233938661743), (1586, 0.035994900573589235), (1587, 0.009507249691254957), (1588, 0.008416769837339346), (1589, 0.015393926580102777), (1590, 0.05680587608738147), (1591, 0.007038975007563362), (1592, 0.0649327666422828), (1593, 0.0367163958883546), (1594, 0.02617248388697768), (1595, 0.0), (1596, 0.025988715446790177), (1597, 0.0020581150893444894), (1598, 0.027095363091992085), (1599, 0.006831491274040181), (1600, 0.02936187572494755), (1601, 0.01464601685986526), (1602, 0.0053637053521697), (1603, 0.015538248345794311), (1604, 0.03817653378914116), (1605, 0.034736587236897716), (1606, 0.016787179928181666), (1607, 0.0022442416239722976), (1608, 0.03111791422663376), (1609, 0.03469998979950276), (1610, 0.0021018472106842804), (1611, 0.04913816640938879), (1612, 0.025691029131302848), (1613, 0.05098341076773674), (1614, 0.0483273315235264), (1615, 0.020048394073288386), (1616, 0.0), (1617, 0.015396618019497477), (1618, 0.012028200962289536), (1619, 0.031107073582127498), (1620, 0.09209136601076513), (1621, 0.0), (1622, 0.04315108056136108), (1623, 0.024027900480163834), (1624, 0.039354777860308054), (1625, 0.006938467535318903), (1626, 0.030509059713210725), (1627, 0.008856607632927132), (1628, 0.02729226321330553), (1629, 0.05375572547871676), (1630, 0.014007343813366987), (1631, 0.007171752587950575), (1632, 0.026677510548114514), (1633, 0.012038694285444304), (1634, 0.01708070834894646), (1635, 0.036568208782821215), (1636, 0.014200133533818209), (1637, 0.01728533837215851), (1638, 0.0207730079220983), (1639, 0.0), (1640, 0.03334199500699586), (1641, 0.041376111516102605), (1642, 0.09918903316729652), (1643, 0.046337603716831814), (1644, 0.009304491149892647), (1645, 0.016679250639460772), (1646, 0.01966388789097996), (1647, 0.028906405552671825), (1648, 0.0174919279626278), (1649, 0.0019228608500273451), (1650, 0.0), (1651, 0.014309428483550435), (1652, 0.05078030780459532), (1653, 0.02670985709514869), (1654, 0.037209993602897846), (1655, 0.005327272252589682), (1656, 0.04918920194598994), (1657, 0.01717609051750758), (1658, 0.0), (1659, 0.034231318121855675), (1660, 0.05858278241235986), (1661, 0.02669256799202504), (1662, 0.01800564673877492), (1663, 0.024395295052402396), (1664, 0.018238886804350315), (1665, 0.024264685046874554), (1666, 0.03637091568579543), (1667, 0.04182881201182465), (1668, 0.02920340352069974), (1669, 0.0492851285559537), (1670, 0.0165733385662669), (1671, 0.03161563846403722), (1672, 0.0), (1673, 0.019654724730452364), (1674, 0.017394228066815363), (1675, 0.005261406624654122), (1676, 0.015400251495829687), (1677, 0.004116679841917682), (1678, 0.04686758866791827), (1679, 0.0028283635173316736), (1680, 0.023069146036828143), (1681, 0.021271600847702368), (1682, 0.02026704927661154), (1683, 0.024228598087215746), (1684, 0.03414022884143858), (1685, 0.0), (1686, 0.02087533559284224), (1687, 0.013030437848354746), (1688, 0.025227423757813956), (1689, 0.01958631164802258), (1690, 0.0), (1691, 0.01791952014648683), (1692, 0.056235047340545796), (1693, 0.02260487067735755), (1694, 0.03397259203529231), (1695, 0.005797676324889393), (1696, 0.025886322690421376), (1697, 0.014340756310071867), (1698, 0.019245635135352546), (1699, 0.027366680305967683), (1700, 0.027900833059421096), (1701, 0.014764245312329886), (1702, 0.015523661585675622), (1703, 0.018953552642806695), (1704, 0.014416332040652614), (1705, 0.02525992894609851), (1706, 0.011213268654589664), (1707, 0.027603835279681646), (1708, 0.009495795105378593), (1709, 0.0446498338795241), (1710, 0.040232456880163914), (1711, 0.02373974871552697), (1712, 0.03893013486452903), (1713, 0.04850046184187366), (1714, 0.040116572361293804), (1715, 0.04111722907411673), (1716, 0.0329066849488679), (1717, 0.021815758944798192), (1718, 0.028985097813262663), (1719, 0.025200588880965526), (1720, 0.07478165857988832), (1721, 0.048491575302794965), (1722, 0.011621720657736645), (1723, 0.012473832461876801), (1724, 0.003760938779055997), (1725, 0.016528265616898994), (1726, 0.024787347489521144), (1727, 0.0), (1728, 0.06254953984067162), (1729, 0.0019187474099601918), (1730, 0.06459258502135326), (1731, 0.008248336592884478), (1732, 0.03613120317062876), (1733, 0.018933498983245606), (1734, 0.029501537775358966), (1735, 0.010678141035804617), (1736, 0.04452552593003857), (1737, 0.02848635936846944), (1738, 0.0), (1739, 0.024109321341071372), (1740, 0.08924576492648816), (1741, 0.064965015462002), (1742, 0.03134079207233132), (1743, 0.0), (1744, 0.01617744238403935), (1745, 0.015405396203622756), (1746, 0.04266662404627201), (1747, 0.01058320196250874), (1748, 0.003299195172682644), (1749, 0.07099486214675736), (1750, 0.010383193914074662), (1751, 0.0054797821706896), (1752, 0.03142067605414464), (1753, 0.01999261010127986), (1754, 0.024590769657104997), (1755, 0.043062917083100796), (1756, 0.01677415961077757), (1757, 0.0), (1758, 0.03219931812302696), (1759, 0.05351028296929659), (1760, 0.005512349584956951), (1761, 0.043901419502688485), (1762, 0.0), (1763, 0.0), (1764, 0.0449662427141051), (1765, 0.03358281817943745), (1766, 0.08519522526646715), (1767, 0.011112930416197537), (1768, 0.0), (1769, 0.021295647635487712), (1770, 0.023575060580126705), (1771, 0.03479903134194744), (1772, 0.023686363618758925), (1773, 0.04229089206499387), (1774, 0.03980339506311335), (1775, 0.0023309914372619724), (1776, 0.07108560097656205), (1777, 0.025494106000277628), (1778, 0.0), (1779, 0.03483310419122127), (1780, 0.0), (1781, 0.014837702768922961), (1782, 0.006927465621129758), (1783, 0.0364730291073026), (1784, 0.01624617322434928), (1785, 0.008781407947947024), (1786, 0.009527152379621442), (1787, 0.022391650704523113), (1788, 0.08094394592964188), (1789, 0.04632885895628097), (1790, 0.015264154858213004), (1791, 0.020793009997324002), (1792, 0.016496893442244417), (1793, 0.03260919982776625), (1794, 0.03985757170345273), (1795, 0.03779951850860631), (1796, 0.02660158363387558), (1797, 0.030262124159704307), (1798, 0.010268429063433544), (1799, 0.03619114844972226), (1800, 0.08450104672148354), (1801, 0.006583940705965408), (1802, 0.021292229360115496), (1803, 0.006645662210350563), (1804, 0.0026407577963679413), (1805, 0.00951904145794777), (1806, 0.01618979563689742), (1807, 0.008608161774103427), (1808, 0.006632842566380419), (1809, 0.013313852763892799), (1810, 0.06502898848782947), (1811, 0.06342142772557408), (1812, 0.026635173880814572), (1813, 0.006482996248015309), (1814, 0.03481456856338118), (1815, 0.010246805195085322), (1816, 0.008988357348994072), (1817, 0.02440326393057136), (1818, 0.015948102841971148), (1819, 0.03736489387626373), (1820, 0.022082320045348287), (1821, 0.0), (1822, 0.012036076770801957), (1823, 0.043718982656222434), (1824, 0.029635201428961425), (1825, 0.02791187355275692), (1826, 0.01218684322947228), (1827, 0.006529557120783486), (1828, 0.013536654393026419), (1829, 0.013287239957732339), (1830, 0.020461344199121483), (1831, 0.027464557144029064), (1832, 0.023999345245743348), (1833, 0.023523805826980784), (1834, 0.031459063443493), (1835, 0.02130591353637088), (1836, 0.020237413520227905), (1837, 0.00619012916725102), (1838, 0.05076290446989391), (1839, 0.05052368362959631), (1840, 0.026358864822181208), (1841, 0.01620587500215465), (1842, 0.013818498585821024), (1843, 0.03919257246864034), (1844, 0.022743484446197577), (1845, 0.04848445128384169), (1846, 0.023753485589056607), (1847, 0.053333379951334414), (1848, 0.04637868849971281), (1849, 0.04711570962879037), (1850, 0.014757715459458351), (1851, 0.04599925619968114), (1852, 0.04118176273812291), (1853, 0.0), (1854, 0.02788861945476067), (1855, 0.004385394050960106), (1856, 0.015475009965178059), (1857, 0.0217611246622142), (1858, 0.01925029845644937), (1859, 0.01688114489682396), (1860, 0.024815990218416326), (1861, 0.02434558019706741), (1862, 0.023034055935341698), (1863, 0.011411505537067268), (1864, 0.009063351131408366), (1865, 0.007689164122845827), (1866, 0.016129081272595325), (1867, 0.03368872701975551), (1868, 0.04069518703980972), (1869, 0.011138904097071824), (1870, 0.02015765882325493), (1871, 0.002451977915160484), (1872, 0.020151546238519308), (1873, 0.013996546871341066), (1874, 0.03989541448604269), (1875, 0.06166337877551865), (1876, 0.005033766974451856), (1877, 0.0), (1878, 0.012293785320433348), (1879, 0.021476136581159842), (1880, 0.010544881659464395), (1881, 0.024780832897226383), (1882, 0.016593351552185043), (1883, 0.0), (1884, 0.010378126566942251), (1885, 0.013509667940225338), (1886, 0.016456228594271045), (1887, 0.007314940402755054), (1888, 0.03209258776931174), (1889, 0.03462563851198195), (1890, 0.005099254315752489), (1891, 0.08098583427657353), (1892, 0.021843189952092966), (1893, 0.032031802326060385), (1894, 0.014501280843231355), (1895, 0.024278417458073482), (1896, 0.013112443962778433), (1897, 0.023444318324570113), (1898, 0.020164995949468335), (1899, 0.07081275485279619), (1900, 0.01251740681292847), (1901, 0.0), (1902, 0.023574698257706524), (1903, 0.004750016540824668), (1904, 0.016005767003175377), (1905, 0.03949070542675027), (1906, 0.011361762935578286), (1907, 0.021275804188759122), (1908, 0.12622034705182886), (1909, 0.0035772842350675605), (1910, 0.027627596017277073), (1911, 0.01605426062694093), (1912, 0.01464494678833407), (1913, 0.01945873873581492), (1914, 0.06981736113744233), (1915, 0.0), (1916, 0.02155438258990809), (1917, 0.03325654340405107), (1918, 0.022415820062799945), (1919, 0.01329118108680066), (1920, 0.005482003041429106), (1921, 0.0404980310765161), (1922, 0.012564538431070981), (1923, 0.00880653944316918), (1924, 0.03908205636557398), (1925, 0.03931612870562183), (1926, 0.09294038107595652), (1927, 0.01399052662335238), (1928, 0.0), (1929, 0.02677783905550549), (1930, 0.019449067507272513), (1931, 0.021861003519046573), (1932, 0.022755895666490382), (1933, 0.020901940497726552), (1934, 0.019837043925466046), (1935, 0.032776226712184636), (1936, 0.01696980176011486), (1937, 0.048019611138873035), (1938, 0.006565108076417782), (1939, 0.03829232723826918), (1940, 0.025763711989718288), (1941, 0.0686205377382789), (1942, 0.03234363222635982), (1943, 0.02601547897304418), (1944, 0.019634389635746555), (1945, 0.013321472915591716), (1946, 0.01860573305163501), (1947, 0.0051541018357149845), (1948, 0.01594458114692141), (1949, 0.01223726801954935), (1950, 0.01166108175265977), (1951, 0.012857619881368312), (1952, 0.015690002245421514), (1953, 0.016928069658078942), (1954, 0.02211147139355929), (1955, 0.021816371225851755), (1956, 0.020660498544180155), (1957, 0.002817469366503627), (1958, 0.008079603836656924), (1959, 0.015626070168761347), (1960, 0.00669213981229747), (1961, 0.029917636647449685), (1962, 0.02194814707579811), (1963, 0.010136584046124763), (1964, 0.0026756258436250267), (1965, 0.02218378306246353), (1966, 0.0), (1967, 0.004106477318447605), (1968, 0.002484439790141664), (1969, 0.01332214886661386), (1970, 0.0), (1971, 0.014180841268653951), (1972, 0.05402347782709508), (1973, 0.006616393781590638), (1974, 0.0), (1975, 0.0302475667763184), (1976, 0.019915273166516465), (1977, 0.05226827150403613), (1978, 0.0030546815616703865), (1979, 0.0), (1980, 0.033398438243348066), (1981, 0.025333337941721303), (1982, 0.010220426191445482), (1983, 0.022017505150515062), (1984, 0.00864176135594854), (1985, 0.0355646760485605), (1986, 0.03630507348949263), (1987, 0.008390520983606077), (1988, 0.04385985322712768), (1989, 0.03344772011908793), (1990, 0.018807737460143543), (1991, 0.021271405636709647), (1992, 0.03203038389647436), (1993, 0.007790724754153021), (1994, 0.011694000733874044), (1995, 0.01060117515749727), (1996, 0.011326580441593157), (1997, 0.0020128945272500243), (1998, 0.013693772485264936), (1999, 0.03124345708267049), (2000, 0.06732424726564218), (2001, 0.06420699105224416), (2002, 0.00940071818692566), (2003, 0.0), (2004, 0.03760251269336156), (2005, 0.05006204186489985), (2006, 0.017239603243308987), (2007, 0.018305912433616112), (2008, 0.01592450731223818), (2009, 0.025816492527179588), (2010, 0.03458327528222024), (2011, 0.024008211673634403), (2012, 0.02180307025538139), (2013, 0.03162027195003642), (2014, 0.02781506328003773), (2015, 0.04113939155428897), (2016, 0.03433593032389659), (2017, 0.018511565529867727), (2018, 0.0), (2019, 0.04235269281930531), (2020, 0.020713263800696047), (2021, 0.015360675666731476), (2022, 0.009863244588281403), (2023, 0.03478142029749563), (2024, 0.020621646570094687), (2025, 0.013830796423963905), (2026, 0.06052436731784233), (2027, 0.030466663201394795), (2028, 0.01945516664794557), (2029, 0.03031935075227023), (2030, 0.03350738894860379), (2031, 0.016687277274118836), (2032, 0.0020948648449513633), (2033, 0.013282917558109229), (2034, 0.005610909852981228), (2035, 0.009391556625455398), (2036, 0.02607168511314899), (2037, 0.0838512181369174), (2038, 0.01116209769259907), (2039, 0.05363262261072735), (2040, 0.02415862262457119), (2041, 0.03853649570340587), (2042, 0.0), (2043, 0.01332660144819767), (2044, 0.006889408353786753), (2045, 0.0029515149866501575), (2046, 0.024474844043763846), (2047, 0.018194704508596293), (2048, 0.0335928892989354), (2049, 0.03470312533510678), (2050, 0.0), (2051, 0.01187239225861467), (2052, 0.00820693667434741), (2053, 0.020258546169897994), (2054, 0.05729169730783373), (2055, 0.032730239504059115), (2056, 0.017807044730811995), (2057, 0.0184431935525468), (2058, 0.09825736230436959), (2059, 0.0), (2060, 0.0), (2061, 0.015228447493230242), (2062, 0.011924444842594903), (2063, 0.0), (2064, 0.014694217294556208), (2065, 0.016686811485344698), (2066, 0.01382790861721073), (2067, 0.015124176673638405), (2068, 0.01665645834205461), (2069, 0.036246492629445834), (2070, 0.005049008191989279), (2071, 0.0022871268975383995), (2072, 0.017209257152868085), (2073, 0.014173383459964608), (2074, 0.0), (2075, 0.018586584627539166), (2076, 0.03677447829502323), (2077, 0.010309477968632127), (2078, 0.0), (2079, 0.015349097688639395), (2080, 0.01633547518517059), (2081, 0.014361244614588126), (2082, 0.002078309469793298), (2083, 0.013598096746900873), (2084, 0.034314839699088766), (2085, 0.02257088670338911), (2086, 0.013182169122309927), (2087, 0.01964002370773273), (2088, 0.019030309745191896), (2089, 0.00579509552052757), (2090, 0.0029534179664508615), (2091, 0.02166841041425547), (2092, 0.01761012455121488), (2093, 0.07969623412639587), (2094, 0.02292609521627421), (2095, 0.0026193368067002126), (2096, 0.005896688033015553), (2097, 0.010206267505317654), (2098, 0.03602691555641985), (2099, 0.019867996510152114), (2100, 0.021987793981044605), (2101, 0.02797541045502045), (2102, 0.020731630518945568), (2103, 0.031233959234722945), (2104, 0.034787442714879095), (2105, 0.016548943539064217), (2106, 0.031854638639659524), (2107, 0.09152666591358413), (2108, 0.00430009450627086), (2109, 0.028103788041805862), (2110, 0.05319999362245761), (2111, 0.0), (2112, 0.05496856382637638), (2113, 0.014459558427487772), (2114, 0.021079976812292532), (2115, 0.009285900234151507), (2116, 0.0), (2117, 0.0), (2118, 0.007895233450152778), (2119, 0.015590281158864383), (2120, 0.009869797486380002), (2121, 0.044290031514401376), (2122, 0.00931059319444245), (2123, 0.017167626478975708), (2124, 0.027331359047575332), (2125, 0.00458768587986729), (2126, 0.050273592705723104), (2127, 0.010829119072378927), (2128, 0.03529654643577283), (2129, 0.039870915753595346), (2130, 0.011608621847122459), (2131, 0.014297028781890136), (2132, 0.025350005694732412), (2133, 0.04627208872167163), (2134, 0.021549945839756862), (2135, 0.012548495676249171), (2136, 0.05272781763224633), (2137, 0.007307836099740346), (2138, 0.008264158552703859), (2139, 0.022406578019832958), (2140, 0.021504703487191378), (2141, 0.023731232082770462), (2142, 0.028681975173769164), (2143, 0.0033870394281430636), (2144, 0.018786545162460484), (2145, 0.03216070158581726), (2146, 0.0756555924543891), (2147, 0.03369661007806407), (2148, 0.005650915315044493), (2149, 0.03235925316154706), (2150, 0.027902236863564293), (2151, 0.02467589173806997), (2152, 0.03153712612978301), (2153, 0.04187992395732347), (2154, 0.013573462811155795), (2155, 0.0219909682921869), (2156, 0.021875575856620887), (2157, 0.0), (2158, 0.002173322845568191), (2159, 0.006582070212837429), (2160, 0.009994532413650701), (2161, 0.032431121548262), (2162, 0.015373452704407252), (2163, 0.03735867262816916), (2164, 0.0038043488420260287), (2165, 0.014084126814062889), (2166, 0.030137318347698908), (2167, 0.030033194968927535), (2168, 0.05571841187624962), (2169, 0.03079567823437431), (2170, 0.030121958624894488), (2171, 0.022998807271549137), (2172, 0.02333965726397906), (2173, 0.0020122610673158543), (2174, 0.05859148671146251), (2175, 0.008723027004324879), (2176, 0.0), (2177, 0.03206215745861349), (2178, 0.04440513503038282), (2179, 0.012856590221303834), (2180, 0.058264550242797745), (2181, 0.024578129762662555), (2182, 0.0019618104817787857), (2183, 0.0), (2184, 0.007618320915052228), (2185, 0.009335170498648128), (2186, 0.029706931182423717), (2187, 0.03371974810188782), (2188, 0.01601537970656671), (2189, 0.03243595534174161), (2190, 0.004223048126130784), (2191, 0.014047414311353982), (2192, 0.0019316722033128424), (2193, 0.024559174368559915), (2194, 0.0), (2195, 0.0023472679447719322), (2196, 0.01823603254583822), (2197, 0.019457481650050058), (2198, 0.01733187007551331)]\n"
          ]
        }
      ],
      "source": [
        "# getting a list of similar movies\n",
        "Recommendation_Score = list(enumerate(Similarity_Score[Index_of_Close_Match_Movie]))\n",
        "print(Recommendation_Score)"
      ]
    },
    {
      "cell_type": "code",
      "execution_count": null,
      "metadata": {
        "colab": {
          "base_uri": "https://localhost:8080/"
        },
        "id": "gKv4AKUb1cys",
        "outputId": "2d0abc3a-2f4b-4c97-9f38-1c5b324972c5",
        "trusted": true
      },
      "outputs": [
        {
          "data": {
            "text/plain": [
              "2199"
            ]
          },
          "execution_count": 32,
          "metadata": {},
          "output_type": "execute_result"
        }
      ],
      "source": [
        "len(Recommendation_Score)"
      ]
    },
    {
      "cell_type": "markdown",
      "metadata": {
        "id": "KET_sRq11cyt"
      },
      "source": [
        "# **Get All Movies Sort Based on Recommendation Score wrt Favourite Movie**"
      ]
    },
    {
      "cell_type": "code",
      "execution_count": null,
      "metadata": {
        "colab": {
          "base_uri": "https://localhost:8080/"
        },
        "id": "bhlqBS751cyt",
        "outputId": "7d48669b-8223-4cca-a44d-7235767f9bfc",
        "trusted": true
      },
      "outputs": [
        {
          "name": "stdout",
          "output_type": "stream",
          "text": [
            "[(374, 0.9999999999999999), (700, 0.14832366129032962), (1493, 0.13624905113589372), (479, 0.13100922092610776), (1417, 0.13066847217982858), (1228, 0.12689297460605986), (1908, 0.12622034705182886), (1581, 0.12594771482953293), (573, 0.1244574103173888), (563, 0.11441078639986221), (1409, 0.10830472396068083), (775, 0.1077498301505456), (166, 0.10722655639692862), (962, 0.1061125034481359), (692, 0.10461119579890912), (435, 0.10372850124775751), (1091, 0.10355925129491102), (437, 0.10198427047427817), (622, 0.10146138301726727), (413, 0.09994129417935084), (556, 0.09945896746121294), (1642, 0.09918903316729652), (558, 0.09913270339331301), (2058, 0.09825736230436959), (1314, 0.0963997846500445), (732, 0.09367149226925575), (1492, 0.09317295982285707), (684, 0.0930352167176002), (1926, 0.09294038107595652), (561, 0.09254822208593322), (62, 0.09215751141140288), (1620, 0.09209136601076513), (2107, 0.09152666591358413), (144, 0.09130562757657314), (68, 0.09082828338756778), (1373, 0.09029858072783711), (555, 0.09024369468068294), (562, 0.09011943514029973), (1392, 0.08988647060386117), (410, 0.08984914172147904), (1740, 0.08924576492648816), (187, 0.08794968371666383), (44, 0.08702473817784871), (1326, 0.08700333609247693), (627, 0.0858244711460515), (722, 0.08537610821815897), (1766, 0.08519522526646715), (1332, 0.08461796244525994), (1065, 0.08456312898606776), (1800, 0.08450104672148354), (2037, 0.0838512181369174), (200, 0.08377356488404006), (837, 0.08351608516070079), (99, 0.08257988641255981), (1073, 0.08253410169959145), (709, 0.08220756727880013), (557, 0.08212974945097751), (396, 0.08208051412600205), (736, 0.08158448751975128), (797, 0.08112607770044597), (1891, 0.08098583427657353), (1788, 0.08094394592964188), (84, 0.08012690839103837), (2093, 0.07969623412639587), (1001, 0.07925621732767366), (348, 0.07833936135019023), (1305, 0.07760931820421432), (335, 0.07760770564547177), (689, 0.07741087222162406), (1207, 0.07715045827988264), (774, 0.07593754026264861), (2146, 0.0756555924543891), (412, 0.0754855631677116), (309, 0.07487019403391677), (1720, 0.07478165857988832), (236, 0.07473453949785851), (842, 0.07426560305426241), (900, 0.07423844543120744), (463, 0.07419023061503775), (869, 0.07413590398133427), (1281, 0.07393478901756788), (553, 0.07256601406968535), (812, 0.0718374656787693), (190, 0.07175165472684494), (1477, 0.07124535153185), (455, 0.07120837903787122), (1776, 0.07108560097656205), (814, 0.07104384174260224), (1749, 0.07099486214675736), (1899, 0.07081275485279619), (1914, 0.06981736113744233), (8, 0.06976726291748218), (1371, 0.06956373689054329), (436, 0.06950874438565004), (655, 0.06902489266297131), (1104, 0.06886640598706655), (502, 0.06877961383938065), (1941, 0.0686205377382789), (296, 0.06829503402443796), (1187, 0.06820177925980855), (1361, 0.06810997830765714), (439, 0.068055590490097), (784, 0.06756567306628147), (177, 0.06749283678324212), (567, 0.06740368631483172), (229, 0.06732849251285028), (2000, 0.06732424726564218), (143, 0.06709256125985258), (345, 0.06705306031793372), (851, 0.06668607583967383), (420, 0.06584514353456002), (742, 0.06582517810008141), (315, 0.06573860620732516), (570, 0.06555570806417643), (1060, 0.0655518676971823), (1468, 0.06551190496694315), (1234, 0.06535318942813668), (1159, 0.06522958353962764), (1810, 0.06502898848782947), (1741, 0.064965015462002), (1105, 0.0649478654116328), (1592, 0.0649327666422828), (808, 0.06471011494957056), (1366, 0.06462890835559448), (1730, 0.06459258502135326), (1096, 0.06446392356633932), (2001, 0.06420699105224416), (394, 0.0639732796310361), (340, 0.06389602351340164), (279, 0.06368815645204719), (1811, 0.06342142772557408), (1102, 0.06337403303459326), (473, 0.06333666319144564), (342, 0.06309269369130867), (976, 0.06297595118339328), (1154, 0.06258611106188826), (1215, 0.06256312608586129), (1728, 0.06254953984067162), (589, 0.06252924619049154), (1034, 0.0624765889812105), (717, 0.06229712352607729), (419, 0.06225727313240098), (42, 0.06216462591364408), (431, 0.061959925646914965), (381, 0.0616647192695832), (1875, 0.06166337877551865), (2026, 0.06052436731784233), (902, 0.06048709753628894), (247, 0.06046959841904297), (361, 0.06043703867181144), (31, 0.060383000792029885), (33, 0.060035557357533284), (734, 0.06001309388157126), (1225, 0.05998638906852112), (710, 0.05986318398615756), (880, 0.05985235138332373), (1313, 0.059806905892400106), (36, 0.05962742423680381), (234, 0.059585834301371904), (620, 0.05928427840690562), (626, 0.0591766920713638), (278, 0.059011088037160805), (248, 0.058599893697444935), (2174, 0.05859148671146251), (1660, 0.05858278241235986), (379, 0.05841957724150021), (407, 0.058281422239963875), (2180, 0.058264550242797745), (418, 0.058066005586514105), (35, 0.057980978062726896), (142, 0.057924833402205854), (297, 0.057868645933985774), (2054, 0.05729169730783373), (1343, 0.057274684844373744), (112, 0.05726896976021099), (169, 0.05685083124937798), (1590, 0.05680587608738147), (1261, 0.05667301729851337), (1517, 0.05650862274833708), (1575, 0.05634302935790351), (1692, 0.056235047340545796), (182, 0.05616948152774063), (449, 0.05605114445719513), (859, 0.05603863480552988), (998, 0.055987057990900715), (488, 0.05588032542243272), (459, 0.055878539941064134), (2168, 0.05571841187624962), (254, 0.05552772910447591), (852, 0.05541290875904299), (1364, 0.05540809077203399), (568, 0.05539220188644367), (552, 0.055219342700834236), (730, 0.05518236448508677), (1543, 0.05511953769971155), (1052, 0.055075060429637), (168, 0.05499586724994364), (1351, 0.054977016184780715), (2112, 0.05496856382637638), (405, 0.05487007931230222), (574, 0.05464481389778463), (364, 0.05420297191245488), (767, 0.05419969120919316), (1972, 0.05402347782709508), (303, 0.05400776789306966), (532, 0.05390546085855075), (845, 0.05378819812372771), (1629, 0.05375572547871676), (794, 0.0537140042184953), (306, 0.05370240273779284), (2039, 0.05363262261072735), (1759, 0.05351028296929659), (1443, 0.05345542080205053), (1008, 0.05335884609522657), (157, 0.05335694709116332), (1847, 0.053333379951334414), (238, 0.05327116339417664), (2110, 0.05319999362245761), (246, 0.05316057321292765), (52, 0.053035426964257844), (450, 0.05302981228960725), (115, 0.053014601682859916), (17, 0.05280430034032697), (2136, 0.05272781763224633), (1298, 0.05269378479741455), (214, 0.05268784940048198), (713, 0.052618787067141876), (1016, 0.05248978546086723), (509, 0.05244490078380063), (1977, 0.05226827150403613), (549, 0.052235828275646094), (543, 0.052216478620781326), (1542, 0.052060455932764184), (386, 0.05199752123702446), (661, 0.051934470823275486), (221, 0.05187086808440106), (160, 0.05183637837773364), (1210, 0.05175514659344735), (943, 0.05164831550007652), (90, 0.051555334873461776), (1482, 0.05152637159294778), (19, 0.051378590710753985), (707, 0.05132947653200673), (1003, 0.051113139011133665), (1613, 0.05098341076773674), (511, 0.05085755459680275), (1652, 0.05078030780459532), (1838, 0.05076290446989391), (389, 0.050668777622691036), (1839, 0.05052368362959631), (528, 0.05043626621051682), (2126, 0.050273592705723104), (858, 0.05024386172013953), (565, 0.05009828830530127), (2005, 0.05006204186489985), (515, 0.04997593224332704), (1450, 0.04996545137633707), (107, 0.04983134520899115), (564, 0.04971583769988235), (495, 0.04971258290908135), (1576, 0.0497029915225734), (282, 0.04954886045291134), (649, 0.04946087547054906), (875, 0.04945184854819974), (520, 0.04941798968924577), (1669, 0.0492851285559537), (699, 0.049221948367108276), (1656, 0.04918920194598994), (1442, 0.04915712131935729), (1611, 0.04913816640938879), (399, 0.04911586112666179), (53, 0.04908992551389764), (363, 0.04890478108647799), (540, 0.048746534319319426), (101, 0.04873769095962202), (1010, 0.04866623841428929), (907, 0.04861188889914702), (877, 0.04859967074570812), (592, 0.04852966954107519), (1713, 0.04850046184187366), (1721, 0.048491575302794965), (1845, 0.04848445128384169), (1614, 0.0483273315235264), (505, 0.04821508464654789), (1250, 0.048156305187786456), (535, 0.04812299015058193), (408, 0.04810703327497654), (1152, 0.04809207619795519), (1937, 0.048019611138873035), (326, 0.04801335920130889), (1434, 0.04796782302364407), (1464, 0.047879749608595236), (223, 0.04771624281651778), (273, 0.047687402829806096), (263, 0.04768564861996365), (1282, 0.04766397859266888), (778, 0.04752970583675774), (716, 0.047420214717750354), (1308, 0.04736930780859757), (1070, 0.047349584222543324), (444, 0.047176759144442644), (1849, 0.04711570962879037), (990, 0.04709352953789495), (1156, 0.04694500955382687), (1678, 0.04686758866791827), (256, 0.04684983891749591), (1516, 0.04679051595111987), (721, 0.046753891890335325), (395, 0.04675083720553121), (41, 0.0466626942067926), (291, 0.0465809547211993), (485, 0.04654938761502532), (888, 0.0464557998396064), (1033, 0.046433900274973954), (1444, 0.04641079668798344), (1848, 0.04637868849971281), (1643, 0.046337603716831814), (1789, 0.04632885895628097), (1318, 0.04631275644638061), (2133, 0.04627208872167163), (1384, 0.04620259728446411), (1111, 0.046105575532298285), (612, 0.046064842364803155), (1851, 0.04599925619968114), (1382, 0.04596862971324229), (397, 0.045924440933961384), (322, 0.045920483601397), (785, 0.045879996700583583), (121, 0.04587597983491219), (698, 0.045819365563590606), (508, 0.04580446872837679), (1429, 0.045800512828723855), (15, 0.045788338728601545), (652, 0.045679504617335547), (1455, 0.045530798667847525), (658, 0.045502698661793184), (228, 0.04545560387825946), (207, 0.04518106579320144), (1112, 0.04511440887034327), (199, 0.045046870820563786), (1764, 0.0449662427141051), (55, 0.04492723474666437), (109, 0.044889488962261095), (997, 0.044874314626260826), (16, 0.04485811141669578), (71, 0.04481141355143163), (1348, 0.04466568081212355), (1709, 0.0446498338795241), (580, 0.04462656243549985), (1736, 0.04452552593003857), (319, 0.0444694663256949), (1309, 0.044444792611347816), (2178, 0.04440513503038282), (1048, 0.04432908684102044), (2121, 0.044290031514401376), (1241, 0.044285470319375485), (1761, 0.043901419502688485), (1988, 0.04385985322712768), (1283, 0.043827999539150904), (1358, 0.043808014685157534), (64, 0.043779259664117505), (1823, 0.043718982656222434), (994, 0.04370161562119825), (1505, 0.043655447664492586), (660, 0.0436200594680018), (284, 0.0434443306711184), (1011, 0.04335734510636815), (751, 0.0433468253838403), (966, 0.04333536426603319), (712, 0.043291487559466865), (526, 0.04328050932907168), (591, 0.04320595112593946), (644, 0.04320347781065017), (1254, 0.043169402594082855), (1622, 0.04315108056136108), (597, 0.043070812208695956), (1755, 0.043062917083100796), (984, 0.04302539714720797), (230, 0.042916197243234054), (586, 0.0429136484960707), (1325, 0.04286580459199687), (149, 0.04272220454454849), (653, 0.04269244670132061), (1746, 0.04266662404627201), (625, 0.042624764837698566), (708, 0.04237358799458301), (2019, 0.04235269281930531), (368, 0.04234770674376197), (1773, 0.04229089206499387), (841, 0.04208106170137814), (1053, 0.04207920581622325), (462, 0.042068697910190564), (1557, 0.041990984848211885), (339, 0.041967510222432794), (1209, 0.04190809313845514), (613, 0.041891779195753154), (979, 0.04188323681655184), (2153, 0.04187992395732347), (866, 0.041839688297626895), (1667, 0.04182881201182465), (906, 0.041828488074110604), (359, 0.04175465937600418), (1423, 0.04169668571404275), (1074, 0.04158772302153247), (460, 0.041566185462150254), (1132, 0.04154579840924326), (791, 0.041509426053918164), (403, 0.04140918578356679), (38, 0.04139337539016173), (856, 0.041381386512066895), (1641, 0.041376111516102605), (414, 0.041295755352724194), (92, 0.041188398941231635), (1852, 0.04118176273812291), (2015, 0.04113939155428897), (1715, 0.04111722907411673), (541, 0.04106712473247579), (971, 0.041055278169806336), (521, 0.041050291043827083), (70, 0.0409258756075674), (679, 0.04091870158208869), (1474, 0.04089685566093), (63, 0.040894784727350725), (1440, 0.04089029660967524), (928, 0.04088822916703195), (180, 0.04084197788472817), (377, 0.04082920404190384), (37, 0.04073664706781191), (476, 0.04073607075527105), (693, 0.04070456038188435), (283, 0.04070375016287781), (1868, 0.04069518703980972), (1500, 0.04068926898994035), (343, 0.040673126854968635), (457, 0.040613859068504905), (598, 0.04060362397642453), (925, 0.04054805111057505), (1196, 0.04054274296745083), (1376, 0.040522295096600984), (1921, 0.0404980310765161), (1224, 0.04038865553152132), (461, 0.0403433792248773), (1220, 0.040275309046259866), (603, 0.04025380173539352), (1562, 0.040239591152373105), (367, 0.040236767090781306), (1710, 0.040232456880163914), (643, 0.04021768593166735), (360, 0.040194016158478146), (0, 0.040190435166782446), (594, 0.040133196205257966), (584, 0.040122506385158116), (1714, 0.040116572361293804), (96, 0.0400094725217777), (1874, 0.03989541448604269), (2129, 0.039870915753595346), (1794, 0.03985757170345273), (126, 0.03983431712452789), (1352, 0.03981975746966464), (1774, 0.03980339506311335), (233, 0.03979176406106028), (765, 0.03969534469464024), (161, 0.0395641804408805), (51, 0.039552956307071854), (4, 0.039541376686281465), (1229, 0.039509821159607175), (780, 0.039495955172048514), (1905, 0.03949070542675027), (1624, 0.039354777860308054), (489, 0.0393412694403368), (203, 0.03933510630123968), (940, 0.039331925069627655), (1925, 0.03931612870562183), (245, 0.03928350409082391), (870, 0.03920523385596302), (1843, 0.03919257246864034), (1063, 0.039157950727165144), (1218, 0.03912806573149173), (1295, 0.03910392217429676), (1924, 0.03908205636557398), (913, 0.03904181234388484), (1472, 0.03903540731658356), (639, 0.03899281216327051), (821, 0.03896506838082153), (451, 0.03895671015856523), (1712, 0.03893013486452903), (1514, 0.038861381946974034), (980, 0.03881041193967486), (939, 0.038777740797719014), (354, 0.03869627995437838), (1133, 0.038643243940064395), (739, 0.03856498783261766), (2041, 0.03853649570340587), (898, 0.038449475308643295), (1322, 0.03842431514340863), (746, 0.0383065001827498), (1939, 0.03829232723826918), (1486, 0.03828552051846975), (50, 0.03818248177342326), (1604, 0.03817653378914116), (89, 0.03817392285170615), (1513, 0.038050580025664034), (647, 0.03803584911391639), (614, 0.03803296988020391), (991, 0.0380201616013875), (1049, 0.037987416041992815), (1431, 0.03795576357110524), (290, 0.03793665823937868), (1795, 0.03779951850860631), (715, 0.037777527048538304), (1148, 0.03775039370611905), (79, 0.037736322484106036), (2004, 0.03760251269336156), (809, 0.03757050773597473), (1245, 0.03756841464582747), (1078, 0.03754927978950795), (1527, 0.03747568247863676), (270, 0.03740136584571509), (1819, 0.03736489387626373), (2163, 0.03735867262816916), (185, 0.037354866834872005), (156, 0.0373390951319119), (441, 0.0372866648135627), (1507, 0.037249390893918134), (258, 0.037248312400380734), (1247, 0.03723625880260186), (103, 0.037221480301848325), (1100, 0.037211995420610086), (1654, 0.037209993602897846), (826, 0.03719726036871345), (1263, 0.03708562049738368), (1585, 0.03699233938661743), (1290, 0.03696520636759029), (1022, 0.03695226224670491), (685, 0.03693668131467032), (948, 0.036923874443798826), (2076, 0.03677447829502323), (1593, 0.0367163958883546), (355, 0.03661165404671084), (1635, 0.036568208782821215), (370, 0.036481829563764834), (1783, 0.0364730291073026), (304, 0.03638042396223601), (1666, 0.03637091568579543), (1986, 0.03630507348949263), (1533, 0.03628711841318226), (2069, 0.036246492629445834), (76, 0.03620055724744977), (1799, 0.03619114844972226), (923, 0.03613306222816432), (1732, 0.03613120317062876), (371, 0.03609035671295331), (443, 0.03604586560145462), (1459, 0.03604455942559308), (2098, 0.03602691555641985), (1586, 0.035994900573589235), (21, 0.03598817238731216), (968, 0.035985246704919295), (682, 0.03594284442777966), (1002, 0.035921717926996964), (191, 0.035915139672976215), (793, 0.035915121661935424), (198, 0.035867875543090164), (358, 0.03582558930948072), (94, 0.03581799382957574), (804, 0.03581183366964427), (1515, 0.03578578057818769), (1475, 0.035681271219744425), (1084, 0.03560094898537551), (1985, 0.0355646760485605), (1135, 0.03553270306867133), (1476, 0.03551580410065455), (747, 0.03544915551059509), (194, 0.03544367249564582), (725, 0.03542507505147979), (164, 0.03541655239706204), (1006, 0.035368279919628334), (1190, 0.03534263769043153), (2128, 0.03529654643577283), (147, 0.03523486966901945), (1197, 0.03518742729941786), (429, 0.03506467816359306), (425, 0.035025506129139204), (959, 0.03495874507123373), (1146, 0.034904143162427445), (492, 0.03487055945464943), (539, 0.03484579514494504), (1414, 0.03483835892026488), (1779, 0.03483310419122127), (1814, 0.03481456856338118), (1771, 0.03479903134194744), (317, 0.03478879806723884), (2104, 0.034787442714879095), (2023, 0.03478142029749563), (1605, 0.034736587236897716), (2049, 0.03470312533510678), (854, 0.03470115032740027), (1609, 0.03469998979950276), (1889, 0.03462563851198195), (2010, 0.03458327528222024), (28, 0.034574514036101574), (719, 0.03456646644154886), (696, 0.03450786564479939), (1319, 0.03445588458145285), (133, 0.03441552662352393), (829, 0.03438691006287643), (1266, 0.03434656247572125), (2016, 0.03433593032389659), (585, 0.034324055584696665), (2084, 0.034314839699088766), (387, 0.03429933876446328), (1062, 0.0342645726003216), (1659, 0.034231318121855675), (1502, 0.03418581451646878), (1456, 0.034180992777372195), (1684, 0.03414022884143858), (818, 0.03409254990509111), (1213, 0.034084824618734536), (1330, 0.03404356645368866), (1694, 0.03397259203529231), (1256, 0.03396254291831444), (604, 0.033896713779673834), (130, 0.0338831915795757), (1077, 0.033854541562596395), (151, 0.03378910251940083), (748, 0.033788735726301186), (2187, 0.03371974810188782), (1509, 0.03370595316846119), (2147, 0.03369661007806407), (1867, 0.03368872701975551), (1582, 0.03363774198934033), (1329, 0.03362581080411725), (2048, 0.0335928892989354), (1160, 0.033587231186291075), (1765, 0.03358281817943745), (619, 0.03355217547051794), (1227, 0.03354315104860482), (59, 0.03352652939995921), (2030, 0.03350738894860379), (400, 0.03350011317610745), (1439, 0.033471577156516615), (178, 0.033460038618186846), (498, 0.03345328201214028), (1989, 0.03344772011908793), (1427, 0.0334421791124063), (1980, 0.033398438243348066), (491, 0.033389125049569), (262, 0.033347315507061485), (1640, 0.03334199500699586), (472, 0.033287670127755214), (1917, 0.03325654340405107), (162, 0.03320433629856343), (1437, 0.033166954992341034), (478, 0.03306325064905263), (630, 0.03299283137662059), (830, 0.03298317286763202), (341, 0.03292038328372687), (1716, 0.0329066849488679), (1090, 0.0328222981795344), (388, 0.03279772772936455), (1935, 0.032776226712184636), (1554, 0.032770793006555346), (1099, 0.03274099553426433), (1198, 0.03273152872775696), (2055, 0.032730239504059115), (601, 0.032650531949997064), (1793, 0.03260919982776625), (205, 0.03259810549205772), (938, 0.03258937976150031), (301, 0.03250389984868342), (529, 0.03247933766851017), (2189, 0.03243595534174161), (2161, 0.032431121548262), (1407, 0.03239644147872747), (1559, 0.03238568605675106), (833, 0.03237963004385034), (2149, 0.03235925316154706), (1942, 0.03234363222635982), (1054, 0.03234175399035454), (242, 0.03232704212593744), (159, 0.032314101543687065), (569, 0.03226637211437329), (259, 0.032254346547669385), (1758, 0.03219931812302696), (2145, 0.03216070158581726), (623, 0.03214893997199182), (1888, 0.03209258776931174), (2177, 0.03206215745861349), (1173, 0.032034764018304754), (1893, 0.032031802326060385), (1992, 0.03203038389647436), (1530, 0.031945521701139803), (1336, 0.031943526486202335), (533, 0.0319366459988236), (150, 0.03193462094037704), (987, 0.0318954533743379), (972, 0.031887065132020345), (324, 0.03185974987692167), (2106, 0.031854638639659524), (642, 0.03182261361730218), (222, 0.03182080098605346), (438, 0.03176640532472065), (1323, 0.03174843429183505), (816, 0.03174700387813431), (1367, 0.0316816199482409), (186, 0.031674440481638415), (635, 0.03167214537588438), (106, 0.03166411745604235), (2013, 0.03162027195003642), (1671, 0.03161563846403722), (145, 0.0315915094276597), (464, 0.03157899990392038), (832, 0.03156752614197541), (1556, 0.031548924997833294), (2152, 0.03153712612978301), (421, 0.03153593153684237), (277, 0.031510010592059684), (1579, 0.0314779778553568), (1834, 0.031459063443493), (1537, 0.031422652711774426), (1752, 0.03142067605414464), (58, 0.03138882815174461), (922, 0.03138696487980756), (1742, 0.03134079207233132), (527, 0.03126399501740028), (1999, 0.03124345708267049), (2103, 0.031233959234722945), (1535, 0.03115944884865935), (1128, 0.031154890484766773), (1608, 0.03111791422663376), (120, 0.031112333535525283), (1619, 0.031107073582127498), (1131, 0.03108238082385783), (480, 0.03102305324362481), (1081, 0.03097094955925391), (1080, 0.030958707281720767), (1324, 0.03093410023206979), (1251, 0.0308307195730064), (645, 0.030826913273244085), (347, 0.030823794715249916), (1360, 0.030820919201985427), (1249, 0.03081220199726879), (723, 0.030811906965513676), (2169, 0.03079567823437431), (783, 0.030778395990291547), (1491, 0.030763496627021596), (365, 0.030633724707784922), (117, 0.03058447175949118), (1381, 0.030582296868771452), (633, 0.03054547124883007), (566, 0.030544733980003822), (1626, 0.030509059713210725), (1577, 0.030484039360317256), (2027, 0.030466663201394795), (1083, 0.030449592943986938), (1115, 0.030448808200548766), (1277, 0.03039781358147291), (1418, 0.0303950641489941), (993, 0.030390969889208738), (1402, 0.030389400258489963), (7, 0.03038557522489396), (237, 0.030371075187896925), (46, 0.030370745745197773), (422, 0.03032691825786155), (2029, 0.03031935075227023), (1567, 0.030293605798613024), (1797, 0.030262124159704307), (1975, 0.0302475667763184), (382, 0.030234439320177085), (695, 0.030212476471906287), (1550, 0.03016493964874027), (128, 0.03015920195637462), (328, 0.030153609769453978), (32, 0.03014930631392418), (2166, 0.030137318347698908), (937, 0.030132857764851435), (2170, 0.030121958624894488), (743, 0.030113935385583785), (176, 0.030086706699507207), (872, 0.03007552865838918), (631, 0.030059854471704707), (1284, 0.03004602589878764), (2167, 0.030033194968927535), (518, 0.029938614556803807), (977, 0.029938173775294098), (1287, 0.029935815977042857), (1380, 0.029929420653456433), (1961, 0.029917636647449685), (390, 0.02988937957302703), (1260, 0.029874513149933897), (1552, 0.029815907232006875), (195, 0.029788985316470895), (1572, 0.02973465287666088), (2186, 0.029706931182423717), (1539, 0.029666442902262176), (184, 0.029654601954773797), (1271, 0.02965435294457973), (1824, 0.029635201428961425), (1214, 0.029591482426238176), (1171, 0.029565753663570497), (209, 0.029527083885366224), (227, 0.02950808521858688), (1734, 0.029501537775358966), (1383, 0.029413590574368903), (98, 0.029398849223187484), (1600, 0.02936187572494755), (1463, 0.02935943790415202), (764, 0.02935244218365317), (983, 0.029302831792061338), (1668, 0.02920340352069974), (281, 0.02919999370110877), (1172, 0.029160030022369988), (599, 0.029146386071550776), (805, 0.02901887509893526), (1718, 0.028985097813262663), (1051, 0.02896330375080227), (663, 0.028956656352477964), (792, 0.02894109804774941), (815, 0.028933503134276384), (921, 0.028915451381082976), (1647, 0.028906405552671825), (320, 0.028904699961974405), (1046, 0.02887405576259716), (202, 0.028871354943769207), (332, 0.02880598155113125), (500, 0.02879908534611268), (727, 0.028780637934634305), (10, 0.028760560859570523), (2142, 0.028681975173769164), (726, 0.02864719321768431), (935, 0.028596815535241946), (1327, 0.02859603696575374), (802, 0.028565759005494223), (1101, 0.028500805896659077), (757, 0.02849947635149201), (295, 0.028494838929765176), (1737, 0.02848635936846944), (629, 0.02837500134108503), (114, 0.02837390260671838), (930, 0.028367599832456927), (1297, 0.028317103332940137), (517, 0.028314106968416984), (1340, 0.02831245737333933), (61, 0.02824676224292985), (1015, 0.028223237598503315), (1412, 0.028194989091050525), (1449, 0.028190309731189644), (325, 0.028128616220540775), (1374, 0.028125291721898857), (2109, 0.028103788041805862), (140, 0.028092907202004136), (398, 0.028074579192244167), (975, 0.02804554385242774), (1566, 0.027986917867179894), (2101, 0.02797541045502045), (1825, 0.02791187355275692), (2150, 0.027902236863564293), (1700, 0.027900833059421096), (1854, 0.02788861945476067), (796, 0.027840974118893136), (241, 0.02783697508334479), (1280, 0.027815675096435677), (2014, 0.02781506328003773), (385, 0.02778669278962575), (87, 0.027732372110771043), (1141, 0.02771186620024), (468, 0.027663289538926397), (697, 0.02763523330974018), (1910, 0.027627596017277073), (1265, 0.027615923825190965), (516, 0.02761482146711642), (1707, 0.027603835279681646), (330, 0.027593222427217866), (3, 0.02746597398821934), (1831, 0.027464557144029064), (687, 0.02746269598612832), (1511, 0.027423473986687298), (1541, 0.027398374962899298), (752, 0.027368307852456596), (1699, 0.027366680305967683), (501, 0.027359752947275325), (104, 0.027337672997170975), (2124, 0.027331359047575332), (1628, 0.02729226321330553), (373, 0.027283581926828202), (189, 0.027269702371155384), (131, 0.02723616042687348), (678, 0.02723424138653415), (680, 0.02714461339285793), (1547, 0.027121696736059468), (1598, 0.027095363091992085), (467, 0.02706021479422682), (1489, 0.027041516790048098), (860, 0.027020123303615744), (305, 0.026969277716984524), (1378, 0.02694099278386569), (865, 0.02686127121657991), (1056, 0.026840491656010768), (781, 0.02683337067748081), (1929, 0.02677783905550549), (1433, 0.026776270405983942), (155, 0.026760409525017792), (165, 0.02672994479774706), (1312, 0.026725024867031502), (1653, 0.02670985709514869), (1661, 0.02669256799202504), (1632, 0.026677510548114514), (1020, 0.02666687845048775), (1223, 0.02665807148000439), (1812, 0.026635173880814572), (1796, 0.02660158363387558), (1023, 0.02655832975394137), (1142, 0.026530809430887214), (351, 0.02650504052346232), (1095, 0.026494216796154216), (1411, 0.02644613869898313), (867, 0.026399713780330365), (1406, 0.026382405148506767), (795, 0.026374585977264258), (1840, 0.026358864822181208), (417, 0.026344053284730627), (1113, 0.026246938117154728), (1594, 0.02617248388697768), (1007, 0.02614577799642215), (546, 0.026143805742316565), (1387, 0.026139972190407573), (1544, 0.026114758559854623), (423, 0.026085334566467215), (1222, 0.026082064947802235), (1126, 0.026076992990248037), (2036, 0.02607168511314899), (899, 0.026056768240413645), (1350, 0.026043083889670186), (720, 0.026018323983282094), (1943, 0.02601547897304418), (1596, 0.025988715446790177), (1206, 0.025935144380423165), (1696, 0.025886322690421376), (375, 0.02587278421893472), (1262, 0.02585867689010518), (988, 0.025848380689104278), (2009, 0.025816492527179588), (1469, 0.02578564147633911), (380, 0.025776416294685005), (1940, 0.025763711989718288), (510, 0.025760039885040227), (1498, 0.02575012599947519), (27, 0.02571441485864527), (605, 0.025704233427417525), (261, 0.025694740538637118), (1612, 0.025691029131302848), (769, 0.02567327451637235), (694, 0.02566482987691124), (874, 0.02564585888135361), (1150, 0.025632398583455545), (1088, 0.025603452956646955), (1136, 0.025591037804521453), (29, 0.025536214642831092), (1050, 0.02552610743039138), (45, 0.025509651165693235), (1777, 0.025494106000277628), (1424, 0.025489667142509262), (496, 0.0254643277196592), (868, 0.02545282023026893), (863, 0.02543731867860107), (864, 0.02543367347337132), (274, 0.025416878432808255), (761, 0.02539961403330379), (638, 0.025391432704953056), (1191, 0.02536594330304498), (2132, 0.025350005694732412), (1377, 0.02533699455983052), (1981, 0.025333337941721303), (424, 0.02529089596825728), (292, 0.0252733986154757), (1233, 0.02526287667434903), (1705, 0.02525992894609851), (575, 0.02523659375181122), (1688, 0.025227423757813956), (1719, 0.025200588880965526), (125, 0.025181446242732226), (1231, 0.025175328714432905), (1461, 0.025162341345401767), (1230, 0.02515663960752702), (171, 0.02515215667580041), (1395, 0.025122360927838427), (790, 0.025040592088951336), (1300, 0.025037880422358834), (1466, 0.025001791899163118), (759, 0.025000946742950836), (666, 0.02500080499483521), (705, 0.024950141290740406), (137, 0.024933621080291596), (235, 0.024923343199499234), (745, 0.024892768112795293), (268, 0.024875301445753045), (430, 0.024872038378686238), (982, 0.024850056661558633), (113, 0.024845080318713637), (1860, 0.024815990218416326), (1726, 0.024787347489521144), (1881, 0.024780832897226383), (1334, 0.02476393786761518), (1027, 0.024742488896159306), (929, 0.024722142510638544), (798, 0.024691131034774983), (2151, 0.02467589173806997), (1536, 0.02462533598686901), (1467, 0.024593041416754117), (1754, 0.024590769657104997), (2181, 0.024578129762662555), (271, 0.02456930626715852), (2193, 0.024559174368559915), (917, 0.024542601767961834), (1130, 0.024537175650353533), (2046, 0.024474844043763846), (1817, 0.02440326393057136), (507, 0.024399329592019767), (1663, 0.024395295052402396), (494, 0.02436306166315158), (1861, 0.02434558019706741), (1121, 0.024339275538274974), (253, 0.024338128844187307), (66, 0.024329455775561344), (676, 0.02431624202942387), (1333, 0.024304420055555366), (1212, 0.024301673092951375), (1895, 0.024278417458073482), (1665, 0.024264685046874554), (1252, 0.024262343984398253), (803, 0.024244690891115254), (1683, 0.024228598087215746), (1061, 0.024188890403044186), (208, 0.0241867538292196), (1398, 0.024179619669145523), (447, 0.024173217351041158), (2040, 0.02415862262457119), (1739, 0.024109321341071372), (1623, 0.024027900480163834), (2011, 0.024008211673634403), (1832, 0.023999345245743348), (942, 0.023991859796248096), (1129, 0.023947443029331127), (1069, 0.023932617375601754), (1301, 0.023884198789789788), (1273, 0.023825659059539282), (724, 0.02380092919187411), (848, 0.02379701375056175), (1200, 0.023782917225594967), (1846, 0.023753485589056607), (1711, 0.02373974871552697), (1289, 0.023734280455248464), (2141, 0.023731232082770462), (1446, 0.02370905606052312), (1772, 0.023686363618758925), (819, 0.023631623334458566), (944, 0.023628294975630897), (1089, 0.023609671047721537), (1770, 0.023575060580126705), (1902, 0.023574698257706524), (701, 0.02357434528429714), (475, 0.023557420498496108), (1408, 0.023541049151405175), (1833, 0.023523805826980784), (1143, 0.02351194057871687), (618, 0.02348807189488673), (1897, 0.023444318324570113), (946, 0.02341502242486345), (893, 0.023403272992556255), (88, 0.023401799371643807), (2172, 0.02333965726397906), (876, 0.02330386820033697), (664, 0.023303043934748705), (1391, 0.0232960588577487), (1158, 0.02328897529291623), (1451, 0.02328699844367644), (77, 0.023270918521956608), (954, 0.023214884797652758), (957, 0.02319835748963869), (1396, 0.02317844824580676), (1680, 0.023069146036828143), (47, 0.023068557826022594), (1862, 0.023034055935341698), (2171, 0.022998807271549137), (621, 0.02299788955911092), (1029, 0.022982610445173298), (2094, 0.02292609521627421), (129, 0.022876741804299373), (86, 0.02280431706441175), (1932, 0.022755895666490382), (1844, 0.022743484446197577), (1503, 0.022723550255245743), (827, 0.022716321160086317), (60, 0.022701573220104212), (153, 0.022688797126399773), (840, 0.022676703355728526), (1149, 0.022655775583008), (1240, 0.022643167318013836), (1188, 0.022609064334431116), (1693, 0.02260487067735755), (1042, 0.022588849366245764), (2085, 0.02257088670338911), (1176, 0.0225691722014788), (1195, 0.022539958237620825), (1918, 0.022415820062799945), (24, 0.02240935021315525), (2139, 0.022406578019832958), (1787, 0.022391650704523113), (158, 0.022386662187156244), (1253, 0.022386630616101046), (1363, 0.022383517240907723), (1316, 0.02236114512060693), (1013, 0.02234362744480047), (1496, 0.02231848742019451), (579, 0.02225846565321433), (135, 0.02224215007334776), (665, 0.022231754592245606), (392, 0.02221676105279483), (538, 0.022194534476184934), (1965, 0.02218378306246353), (427, 0.022143400143100497), (1954, 0.02211147139355929), (1820, 0.022082320045348287), (1184, 0.02207651069950286), (806, 0.022069113464518234), (890, 0.022017946147187148), (1983, 0.022017505150515062), (260, 0.021993698356336563), (2155, 0.0219909682921869), (2100, 0.021987793981044605), (1962, 0.02194814707579811), (1066, 0.021934915056094188), (401, 0.021927531427333544), (1012, 0.021884008064254536), (2156, 0.021875575856620887), (1931, 0.021861003519046573), (1892, 0.021843189952092966), (1955, 0.021816371225851755), (1717, 0.021815758944798192), (931, 0.021809565227218893), (2012, 0.02180307025538139), (523, 0.021796779132530156), (1857, 0.0217611246622142), (782, 0.02175481444820192), (80, 0.021734003890682783), (768, 0.021693385711815075), (432, 0.021687427079163768), (884, 0.02168535068106223), (2091, 0.02166841041425547), (1097, 0.02164098383080981), (14, 0.021616602815139656), (1397, 0.021594703549685748), (1916, 0.02155438258990809), (2134, 0.021549945839756862), (111, 0.021525540298505116), (2140, 0.021504703487191378), (1879, 0.021476136581159842), (346, 0.021428107165755782), (404, 0.021402833718918813), (316, 0.02139585321292255), (1571, 0.02139444419899162), (683, 0.021386860669460283), (628, 0.021380911050966366), (1182, 0.02136162414331236), (163, 0.021336159313420883), (1835, 0.02130591353637088), (1769, 0.021295647635487712), (1802, 0.021292229360115496), (1907, 0.021275804188759122), (1681, 0.021271600847702368), (1991, 0.021271405636709647), (1055, 0.021267646518146253), (201, 0.021232211546439783), (667, 0.0211863572836473), (298, 0.021172851063585834), (1565, 0.021143721070379352), (415, 0.0211236506868983), (1399, 0.021093109044488672), (2114, 0.021079976812292532), (735, 0.021075677345166983), (674, 0.021056219865456582), (1560, 0.021030075603124622), (548, 0.02102922018294836), (1310, 0.0210058467382521), (1531, 0.020952031242319872), (1933, 0.020901940497726552), (139, 0.02087771372614957), (1686, 0.02087533559284224), (1555, 0.020860018685829224), (1791, 0.020793009997324002), (1638, 0.0207730079220983), (1525, 0.02077241059788766), (1345, 0.020771640205362873), (788, 0.020762915660510223), (1307, 0.020754722673628646), (2102, 0.020731630518945568), (314, 0.020719519428471264), (2020, 0.020713263800696047), (1147, 0.02069912922337737), (1956, 0.020660498544180155), (1059, 0.020659248126441907), (1124, 0.02065518452864943), (926, 0.0206519607158477), (1441, 0.020648350094665854), (2024, 0.020621646570094687), (648, 0.020576647255957294), (847, 0.020573552852371498), (1183, 0.020555124793508402), (1194, 0.02051406817882974), (20, 0.02048578817625222), (1830, 0.020461344199121483), (836, 0.02042288420489255), (484, 0.020400888776091204), (57, 0.020336453650999856), (1682, 0.02026704927661154), (2053, 0.020258546169897994), (1836, 0.020237413520227905), (1164, 0.020220837656623858), (934, 0.020193834666344952), (1898, 0.020164995949468335), (1242, 0.020158079207313558), (1870, 0.02015765882325493), (1872, 0.020151546238519308), (554, 0.020103196801002022), (551, 0.020087909342963645), (481, 0.020063281788032128), (878, 0.020058106529246295), (1615, 0.020048394073288386), (820, 0.02004010722367788), (1357, 0.020019639816179612), (958, 0.02001035541022986), (1753, 0.01999261010127986), (969, 0.019978893342359118), (1976, 0.019915273166516465), (2099, 0.019867996510152114), (22, 0.01984912277146899), (327, 0.019843736020281125), (1934, 0.019837043925466046), (1238, 0.019792347454123248), (1203, 0.01971047109264211), (266, 0.01970178698128104), (1646, 0.01966388789097996), (1673, 0.019654724730452364), (2087, 0.01964002370773273), (1944, 0.019634389635746555), (1689, 0.01958631164802258), (763, 0.019583333712338964), (175, 0.019532410754962586), (83, 0.019515447122931826), (206, 0.01951414791099869), (372, 0.01947832783282692), (1913, 0.01945873873581492), (2197, 0.019457481650050058), (2028, 0.01945516664794557), (952, 0.01944978667946778), (1930, 0.019449067507272513), (892, 0.01939094123360399), (740, 0.019359967389329685), (118, 0.019344045283388272), (1473, 0.019324783263686297), (458, 0.019302409526188682), (1858, 0.01925029845644937), (1698, 0.019245635135352546), (269, 0.01923880279446354), (122, 0.019183854827177882), (956, 0.019182121710234413), (1457, 0.019154877917119686), (310, 0.019129570282910985), (513, 0.019095752499877022), (376, 0.019077155324159534), (1217, 0.01906256408927803), (497, 0.019032853287913595), (2088, 0.019030309745191896), (1236, 0.019007760872284337), (1157, 0.01898065684456863), (148, 0.018979873270386947), (1584, 0.018970475013868338), (1453, 0.01896949672750807), (1703, 0.018953552642806695), (657, 0.018952756460258704), (1733, 0.018933498983245606), (1211, 0.018922502705586902), (1269, 0.018918825503066623), (886, 0.018916280381992053), (729, 0.018915834541197593), (9, 0.01883649650694396), (1193, 0.018834493856596076), (1404, 0.018817129012125372), (1990, 0.018807737460143543), (920, 0.018801487281459008), (965, 0.018800452561317207), (2144, 0.018786545162460484), (1037, 0.018719552372378826), (197, 0.0186755832465833), (1946, 0.01860573305163501), (756, 0.01860514727512684), (811, 0.01859434146819603), (2075, 0.018586584627539166), (1497, 0.018578449069960156), (519, 0.018553886977184512), (204, 0.018530311745493216), (2017, 0.018511565529867727), (596, 0.01850751825368133), (26, 0.018451962466923405), (2057, 0.0184431935525468), (1520, 0.018424191369577), (1057, 0.01838222300809854), (1540, 0.018371372235269343), (1388, 0.01834200216498664), (1394, 0.018334672293924745), (787, 0.018319482344887904), (2007, 0.018305912433616112), (1335, 0.018296173639869077), (602, 0.018263681344861966), (547, 0.018241548754463058), (1664, 0.018238886804350315), (2196, 0.01823603254583822), (702, 0.018220823555783486), (2047, 0.018194704508596293), (1272, 0.018168228712109075), (891, 0.018141911728371332), (239, 0.01808998990675518), (1662, 0.01800564673877492), (1691, 0.01791952014648683), (1169, 0.01790315856009546), (452, 0.017860470873035456), (193, 0.017833997583517835), (2056, 0.017807044730811995), (307, 0.017740922195034974), (753, 0.017678930027709722), (1495, 0.017636323737060384), (34, 0.017636149194255015), (2092, 0.01761012455121488), (1368, 0.017593876343970975), (1447, 0.017532644950785728), (1448, 0.017521022907731616), (1583, 0.017514579281471206), (1648, 0.0174919279626278), (671, 0.017484180020188422), (1674, 0.017394228066815363), (471, 0.017381494335328512), (231, 0.017368868965953407), (1279, 0.017352657590793682), (2198, 0.01733187007551331), (1637, 0.01728533837215851), (384, 0.01724792256433408), (2006, 0.017239603243308987), (2072, 0.017209257152868085), (1563, 0.01719226225137154), (1035, 0.01719097069757171), (1657, 0.01717609051750758), (2123, 0.017167626478975708), (1094, 0.01715435197968806), (1634, 0.01708070834894646), (1370, 0.01707487544836901), (1276, 0.017066034840948003), (1165, 0.017006455973998937), (1268, 0.016973032621409815), (1936, 0.01696980176011486), (1471, 0.016965080310863946), (1483, 0.016959116846778827), (1953, 0.016928069658078942), (323, 0.016904458591216677), (225, 0.016890059269807065), (1859, 0.01688114489682396), (272, 0.016868277508462013), (210, 0.016866779630365914), (1606, 0.016787179928181666), (1756, 0.01677415961077757), (2031, 0.016687277274118836), (2065, 0.016686811485344698), (1645, 0.016679250639460772), (2068, 0.01665645834205461), (1303, 0.016654920941076526), (1882, 0.016593351552185043), (1670, 0.0165733385662669), (1068, 0.016573121182444014), (2105, 0.016548943539064217), (1725, 0.016528265616898994), (1317, 0.01652437223789314), (25, 0.01651806467412219), (23, 0.01651494817118996), (1792, 0.016496893442244417), (996, 0.016496536349629384), (1270, 0.016488555943943595), (1886, 0.016456228594271045), (1127, 0.01644629081486087), (252, 0.016410975914922687), (853, 0.016390143268847003), (632, 0.016345639557914154), (2080, 0.01633547518517059), (1153, 0.016328317680724975), (1574, 0.016326707505505023), (895, 0.01630069190162657), (634, 0.016269098675952724), (493, 0.016248399631505792), (1784, 0.01624617322434928), (108, 0.01623188220369369), (1841, 0.01620587500215465), (514, 0.0162048737903792), (454, 0.016195419417486267), (1806, 0.01618979563689742), (1071, 0.016184257517856345), (1744, 0.01617744238403935), (217, 0.016151480217599972), (383, 0.016131347703801747), (1866, 0.016129081272595325), (1484, 0.016109873321519294), (850, 0.01606517623203899), (889, 0.01605718199859973), (1911, 0.01605426062694093), (311, 0.016022731895683075), (2188, 0.01601537970656671), (1422, 0.016006220716343958), (1904, 0.016005767003175377), (831, 0.016004997260855247), (1155, 0.016002373524682457), (855, 0.015975174774447827), (1818, 0.015948102841971148), (1948, 0.01594458114692141), (2008, 0.01592450731223818), (1568, 0.015922873743598617), (651, 0.015919605877528074), (456, 0.015912467633440692), (1219, 0.01589152370984202), (1186, 0.015862153565346686), (1259, 0.01584836117239043), (810, 0.015845281652911263), (986, 0.015804626329991432), (433, 0.015791679408033363), (174, 0.01573386046271589), (1952, 0.015690002245421514), (192, 0.015673490753489467), (265, 0.01566927212387505), (873, 0.015659627379607993), (1959, 0.015626070168761347), (244, 0.015594705442794572), (2119, 0.015590281158864383), (1244, 0.015546252428180685), (1603, 0.015538248345794311), (1372, 0.015526682816864782), (1702, 0.015523661585675622), (985, 0.015497101779699197), (1856, 0.015475009965178059), (1479, 0.01543547004268001), (1745, 0.015405396203622756), (1676, 0.015400251495829687), (1617, 0.015396618019497477), (369, 0.015394214153751152), (1589, 0.015393926580102777), (2162, 0.015373452704407252), (302, 0.015362550520707634), (2021, 0.015360675666731476), (2079, 0.015349097688639395), (215, 0.015345714041404933), (1790, 0.015264154858213004), (2061, 0.015228447493230242), (1032, 0.015218519369657995), (5, 0.015211594719745349), (691, 0.015166230712667213), (897, 0.015127129396091468), (2067, 0.015124176673638405), (577, 0.015122212021447975), (1548, 0.015018433273962966), (611, 0.015007109844351182), (211, 0.015005479823463685), (127, 0.014995940589968603), (932, 0.014984488874044632), (1278, 0.014983728408129608), (344, 0.014910393684416559), (453, 0.014849764148610806), (1510, 0.014849101821728466), (1781, 0.014837702768922961), (286, 0.014779210316450228), (1701, 0.014764245312329886), (1573, 0.014758101407046288), (1850, 0.014757715459458351), (136, 0.014757529111404075), (78, 0.01475154849499562), (1092, 0.01474887561431902), (799, 0.014729822303149875), (2064, 0.014694217294556208), (711, 0.014660536710402995), (839, 0.014652114556001261), (1601, 0.01464601685986526), (1912, 0.01464494678833407), (181, 0.014636856533161954), (1344, 0.01462957268753571), (1138, 0.01461796197172277), (1320, 0.014595366663944627), (849, 0.014583469497171337), (1119, 0.014566576369187387), (1385, 0.014562404901732249), (654, 0.014533814649225183), (1894, 0.014501280843231355), (411, 0.014500376037276675), (331, 0.01449853143974057), (576, 0.014486505413771044), (758, 0.014483919969219983), (100, 0.014475815575342317), (2113, 0.014459558427487772), (1704, 0.014416332040652614), (1175, 0.014392179115139622), (188, 0.014379724350237207), (391, 0.01437847102370288), (56, 0.014373956212108846), (2081, 0.014361244614588126), (18, 0.014345406784050305), (1697, 0.014340756310071867), (308, 0.014337425698622747), (1349, 0.014317992009438561), (1651, 0.014309428483550435), (2131, 0.014297028781890136), (690, 0.014273607815556033), (1185, 0.014262951194781614), (823, 0.01421515361732868), (1636, 0.014200133533818209), (255, 0.014195089304792371), (240, 0.014181020699005748), (1971, 0.014180841268653951), (2073, 0.014173383459964608), (1512, 0.014168905417228959), (1264, 0.01415761808856254), (581, 0.014128269399978625), (2165, 0.014084126814062889), (879, 0.014065291733191754), (318, 0.014062148875985498), (105, 0.014053548741609315), (2191, 0.014047414311353982), (123, 0.01400964667641435), (1630, 0.014007343813366987), (887, 0.013996864460836514), (1873, 0.013996546871341066), (170, 0.013996189649320236), (1927, 0.01399052662335238), (2, 0.013970773221096593), (1109, 0.01396017264081682), (905, 0.013950427693408441), (154, 0.013949343381321342), (264, 0.013929443001388549), (640, 0.013913513326902315), (336, 0.013869458577784603), (1177, 0.013865970771776696), (733, 0.013864694860679533), (1248, 0.013843662856708785), (772, 0.013835373520801275), (2025, 0.013830796423963905), (2066, 0.01382790861721073), (1842, 0.013818498585821024), (777, 0.013766379647962197), (606, 0.013758978065113659), (448, 0.013755433072811659), (1389, 0.013716023568137215), (1151, 0.013707797520364398), (828, 0.013696005798757634), (1998, 0.013693772485264936), (933, 0.013678617815076214), (1518, 0.013661538799278517), (1041, 0.013657894669060344), (6, 0.013614627636999364), (2083, 0.013598096746900873), (333, 0.013586818338368778), (1098, 0.013581626825952552), (2154, 0.013573462811155795), (731, 0.013566659139521965), (659, 0.01356295101520582), (760, 0.013557576456053398), (1828, 0.013536654393026419), (1288, 0.013519089162845981), (1885, 0.013509667940225338), (321, 0.01350425167854856), (755, 0.013487863540212823), (924, 0.013477991265807805), (550, 0.013453511003373667), (1163, 0.013418381296163805), (506, 0.01341198176927737), (524, 0.013399574332640014), (1386, 0.013375173950377425), (2043, 0.01332660144819767), (81, 0.013325850844548168), (1019, 0.013324229339053147), (1969, 0.01332214886661386), (1945, 0.013321472915591716), (1809, 0.013313852763892799), (762, 0.013299207186387408), (1919, 0.01329118108680066), (1829, 0.013287239957732339), (2033, 0.013282917558109229), (406, 0.013281103061167282), (728, 0.013255455145564633), (1257, 0.013245186806302888), (1347, 0.013196795166779698), (1232, 0.01319270885549293), (1058, 0.013184514962271066), (2086, 0.013182169122309927), (30, 0.013157611109620021), (312, 0.013117583307700176), (1896, 0.013112443962778433), (1161, 0.01308638705773299), (999, 0.013068063341685348), (911, 0.013057055549545945), (1687, 0.013030437848354746), (1362, 0.013013512962623902), (963, 0.013011952568142238), (542, 0.013006648995123821), (54, 0.013005907507570282), (138, 0.013005091546606756), (226, 0.012978553639222285), (1285, 0.012921445680147331), (1179, 0.012892375549736532), (1951, 0.012857619881368312), (2179, 0.012856590221303834), (95, 0.012727105253495075), (1076, 0.012659038542728342), (587, 0.012650592736091926), (882, 0.012622336995132374), (1922, 0.012564538431070981), (1040, 0.01256321107325773), (2135, 0.012548495676249171), (434, 0.012544855081453535), (1900, 0.01251740681292847), (12, 0.012512265751948363), (1299, 0.012507977544502506), (1723, 0.012473832461876801), (1302, 0.012470775455930758), (904, 0.012470374472394536), (1137, 0.012391976835686968), (167, 0.012365320444324823), (981, 0.012348267546180654), (1421, 0.012301255838970265), (1878, 0.012293785320433348), (1949, 0.01223726801954935), (243, 0.012235756907516302), (1419, 0.012230243908018808), (1390, 0.012193912382219467), (1826, 0.01218684322947228), (744, 0.01215727824109954), (1043, 0.012118993410431156), (72, 0.0121113405374135), (1085, 0.012084071686062955), (595, 0.012062269221442944), (583, 0.01205633767830553), (1633, 0.012038694285444304), (1822, 0.012036076770801957), (1618, 0.012028200962289536), (964, 0.012020325794452206), (2062, 0.011924444842594903), (1255, 0.011887220087814506), (2051, 0.01187239225861467), (953, 0.01186834001863433), (1438, 0.01174918220675153), (503, 0.01174640451619837), (1341, 0.011726775773522099), (337, 0.01172561231102929), (1994, 0.011694000733874044), (65, 0.01168886235786688), (950, 0.011670921304707132), (1950, 0.01166108175265977), (1452, 0.011654564342955628), (1199, 0.011629700314286916), (1722, 0.011621720657736645), (1339, 0.011620096295699864), (1106, 0.011612638122465355), (2130, 0.011608621847122459), (287, 0.011580534249957686), (1036, 0.011567649211066962), (862, 0.011484769875510328), (718, 0.01147955846987294), (1337, 0.011463825739364258), (1863, 0.011411505537067268), (1338, 0.011402975402256571), (1331, 0.011399443092223144), (1906, 0.011361762935578286), (544, 0.011353306695072278), (1321, 0.011353065400531083), (1996, 0.011326580441593157), (675, 0.011317136182311687), (608, 0.011263471084974695), (801, 0.011260433530492303), (670, 0.011253426004808099), (196, 0.011250707552719544), (1706, 0.011213268654589664), (2038, 0.01116209769259907), (992, 0.01115487800942317), (807, 0.01114206808226498), (1869, 0.011138904097071824), (442, 0.011115323566083425), (1767, 0.011112930416197537), (362, 0.011087326767002054), (894, 0.011086388743770895), (1204, 0.011038514804547693), (910, 0.011026595979288442), (668, 0.011000738355438619), (1026, 0.010999770486102463), (1405, 0.01098146136006389), (499, 0.010975881840993669), (1445, 0.01097475365221992), (97, 0.010904774156699291), (2127, 0.010829119072378927), (1526, 0.010801102073323694), (1519, 0.010749122630849924), (289, 0.010735351101260511), (352, 0.010734793607738944), (1735, 0.010678141035804617), (1415, 0.010668656738659767), (216, 0.01065558382609586), (1995, 0.01060117515749727), (741, 0.010592097478626985), (846, 0.010590907791333152), (1031, 0.010588796172337982), (1747, 0.01058320196250874), (916, 0.010564782005896937), (1880, 0.010544881659464395), (1432, 0.010520081445261033), (896, 0.010518831047324314), (48, 0.010508677135804846), (1355, 0.010405877644757061), (947, 0.010395238719088332), (1750, 0.010383193914074662), (1884, 0.010378126566942251), (789, 0.010355917421533916), (1082, 0.010335858128054942), (2077, 0.010309477968632127), (1178, 0.01030018874117979), (970, 0.010271256758659173), (1798, 0.010268429063433544), (1815, 0.010246805195085322), (617, 0.010238553588937346), (1982, 0.010220426191445482), (2097, 0.010206267505317654), (530, 0.010202269646740566), (1116, 0.010182839342159971), (918, 0.010156580836438278), (1963, 0.010136584046124763), (559, 0.010105281032317531), (1107, 0.010073585026408012), (1430, 0.010007571144857369), (1064, 0.010002783492979062), (2160, 0.009994532413650701), (1000, 0.009954763660862597), (1243, 0.00995345207271358), (531, 0.00993977677124211), (85, 0.009904928697069472), (146, 0.00987690982429483), (2120, 0.009869797486380002), (2022, 0.009863244588281403), (912, 0.009860335158682579), (537, 0.009849375576319336), (1569, 0.00984518975333749), (213, 0.009827299649958682), (179, 0.009797109913892082), (1028, 0.009791174714940783), (1293, 0.009754170917517256), (636, 0.009694758386942798), (1103, 0.009668418120247754), (1428, 0.009636651538702898), (1545, 0.009631359694984954), (428, 0.009622150358185314), (91, 0.009605643292011046), (1413, 0.009590682665731086), (338, 0.009576660186718367), (844, 0.009573503401065536), (285, 0.009561221844486392), (1786, 0.009527152379621442), (1805, 0.00951904145794777), (1587, 0.009507249691254957), (1487, 0.009500239043542275), (1708, 0.009495795105378593), (662, 0.009485994131072626), (1274, 0.009472192333330728), (1458, 0.009417733673850308), (951, 0.00941470623264824), (2002, 0.00940071818692566), (2035, 0.009391556625455398), (1235, 0.00933743691190822), (2185, 0.009335170498648128), (2122, 0.00931059319444245), (1644, 0.009304491149892647), (2115, 0.009285900234151507), (300, 0.009247261529217036), (1145, 0.00921680501273611), (600, 0.009211379353793328), (686, 0.009128267039993154), (1864, 0.009063351131408366), (914, 0.009032890293282414), (813, 0.009010734414266156), (67, 0.00900278301654715), (1816, 0.008988357348994072), (504, 0.008977207930784614), (294, 0.008887082116037098), (251, 0.008875083317926408), (110, 0.008861619857308566), (1627, 0.008856607632927132), (961, 0.008831742159607081), (737, 0.00881236898230649), (1923, 0.00880653944316918), (1785, 0.008781407947947024), (2175, 0.008723027004324879), (1017, 0.008721838073411732), (610, 0.008705638189816636), (356, 0.008664416780629037), (1578, 0.008662511612446144), (1984, 0.00864176135594854), (881, 0.008630310217007877), (1807, 0.008608161774103427), (1416, 0.008563482084294518), (353, 0.008509424889433136), (1490, 0.008477404874093241), (669, 0.008457395598004305), (1296, 0.00844126188346608), (280, 0.008427567237175415), (1588, 0.008416769837339346), (1987, 0.008390520983606077), (1346, 0.008387193062789493), (469, 0.008366777831621324), (1114, 0.008349036247891474), (1108, 0.0083415000462513), (609, 0.008308560353013306), (2138, 0.008264158552703859), (1731, 0.008248336592884478), (2052, 0.00820693667434741), (446, 0.008206740110242043), (843, 0.008157090211591745), (1292, 0.008121406431971307), (349, 0.008104191101153136), (960, 0.008094362200437345), (74, 0.00808700118367844), (1958, 0.008079603836656924), (134, 0.007993926621396353), (824, 0.007937622099928019), (2118, 0.007895233450152778), (350, 0.007864452297977163), (293, 0.007863559298096026), (1044, 0.007859477467208024), (482, 0.007838786839621822), (1328, 0.007820716767720549), (1993, 0.007790724754153021), (49, 0.00777681899489978), (989, 0.007769186781689197), (883, 0.007754247951714255), (1167, 0.007741527032270938), (220, 0.007739318743952569), (1267, 0.007712520910301782), (1079, 0.007711511176298556), (250, 0.007700230707475303), (1865, 0.007689164122845827), (172, 0.007688706324935551), (82, 0.007657347547888902), (75, 0.007644200846859125), (402, 0.007643954944006456), (2184, 0.007618320915052228), (941, 0.007504127991117684), (786, 0.00743254700466532), (13, 0.007424201798612333), (1221, 0.0073238576620878945), (39, 0.007319596856191712), (1887, 0.007314940402755054), (2137, 0.007307836099740346), (750, 0.007286558344822641), (40, 0.00719521335781749), (1631, 0.007171752587950575), (861, 0.0071579243960087375), (1117, 0.007140926920443477), (1122, 0.0071255675653488105), (1426, 0.007125337802139837), (1353, 0.007094974204716373), (486, 0.007072797782573312), (771, 0.007061235870902346), (949, 0.007060252587746362), (1591, 0.007038975007563362), (588, 0.007014587807035854), (1521, 0.007010770547359148), (1625, 0.006938467535318903), (1782, 0.006927465621129758), (1524, 0.006909956100371552), (2044, 0.006889408353786753), (357, 0.0068855066801289), (119, 0.006878870711796175), (1599, 0.006831491274040181), (1140, 0.006819720106241311), (1170, 0.006783283274143313), (93, 0.006773469756878565), (1009, 0.006758007547947058), (470, 0.006747499886778795), (1226, 0.0067464764648793125), (1246, 0.006701261828066604), (1960, 0.00669213981229747), (871, 0.006680489631635933), (1803, 0.006645662210350563), (1400, 0.006638308586879356), (1808, 0.006632842566380419), (1973, 0.006616393781590638), (1481, 0.006594347815928327), (1801, 0.006583940705965408), (2159, 0.006582070212837429), (1938, 0.006565108076417782), (1827, 0.006529557120783486), (800, 0.006494900617541661), (1813, 0.006482996248015309), (754, 0.006460022586075351), (582, 0.006410965422449317), (650, 0.0063464994076698885), (1239, 0.0063462120784458), (1470, 0.006344373974772207), (512, 0.0063224879296724), (1462, 0.006241630088455278), (1181, 0.006237594188826741), (1401, 0.0062338623572170335), (1837, 0.00619012916725102), (641, 0.006162247116979311), (334, 0.006123640805064176), (43, 0.006094522089899329), (1205, 0.006061541318744835), (1086, 0.006052911171044378), (426, 0.0060140386872571325), (1201, 0.006002956734676435), (73, 0.005993061668464487), (1420, 0.005971278907899056), (1004, 0.005968612288551727), (2096, 0.005896688033015553), (141, 0.005891106111208653), (465, 0.0058169006523955975), (1549, 0.005810274158254802), (545, 0.0058053101551265645), (1695, 0.005797676324889393), (1118, 0.005796806506060236), (2089, 0.00579509552052757), (366, 0.0057783977957727535), (1039, 0.005753837378423149), (1134, 0.005687495221361969), (2148, 0.005650915315044493), (124, 0.005642631064412909), (1538, 0.005621294966589172), (2034, 0.005610909852981228), (1480, 0.0055907741689022565), (1075, 0.005580257109676671), (1237, 0.005579464444412333), (1494, 0.005555080625612015), (299, 0.005544353652323195), (1356, 0.005526842977950949), (257, 0.005519704718332092), (1760, 0.005512349584956951), (1920, 0.005482003041429106), (1072, 0.00548196491479582), (1751, 0.0054797821706896), (1005, 0.005477522239891855), (706, 0.005445983118573373), (11, 0.005383226286674362), (1275, 0.005380508747788761), (1602, 0.0053637053521697), (1655, 0.005327272252589682), (1580, 0.005306416699563381), (219, 0.0052957666196371675), (616, 0.005282848329970036), (714, 0.005265220050954663), (1304, 0.0052616139535565576), (1675, 0.005261406624654122), (834, 0.005242077600485997), (1529, 0.0052309865068234235), (1435, 0.005218469580511852), (1947, 0.0051541018357149845), (672, 0.005138774817930959), (267, 0.0051357814733814676), (1890, 0.005099254315752489), (1018, 0.00509921762632846), (915, 0.005068214966901071), (766, 0.005062109763453583), (1485, 0.005057990402903606), (2070, 0.005049008191989279), (1876, 0.005033766974451856), (919, 0.0050036240126472365), (1375, 0.004983308869375978), (1014, 0.004955393056004517), (624, 0.004889454691796552), (1306, 0.004835015286924505), (1454, 0.004779218384629397), (1189, 0.004761958725308924), (1488, 0.0047567288631166355), (1903, 0.004750016540824668), (276, 0.004732758001621513), (1208, 0.004691898031212674), (1162, 0.004655059775382614), (1047, 0.004649322040442306), (1359, 0.0046389311685911564), (2125, 0.00458768587986729), (646, 0.004574675350575442), (416, 0.0045121985556912944), (1315, 0.00443102331920134), (1855, 0.004385394050960106), (770, 0.004369869477403795), (2108, 0.00430009450627086), (1504, 0.004298193564236062), (1558, 0.004282440407844123), (749, 0.004248010904716088), (2190, 0.004223048126130784), (973, 0.004131358044877705), (1677, 0.004116679841917682), (1967, 0.004106477318447605), (1311, 0.004104399078920161), (466, 0.004024538555779289), (1534, 0.003973620355859836), (1045, 0.003929543671191342), (2164, 0.0038043488420260287), (1724, 0.003760938779055997), (1909, 0.0035772842350675605), (1522, 0.0035703108344724475), (560, 0.003548917541604446), (656, 0.00351161945391976), (1025, 0.003496422796060348), (1553, 0.0034857831908905617), (2143, 0.0033870394281430636), (1748, 0.003299195172682644), (1342, 0.0032718635317700116), (825, 0.00323727129490594), (1174, 0.003223935789174069), (409, 0.003184202207312013), (1192, 0.003174029816507214), (677, 0.003081201271786122), (1978, 0.0030546815616703865), (995, 0.002980908180630035), (2090, 0.0029534179664508615), (2045, 0.0029515149866501575), (955, 0.002915492084355523), (1679, 0.0028283635173316736), (1957, 0.002817469366503627), (490, 0.002792112534541671), (773, 0.0027812458545970298), (1202, 0.0027786263906696), (1030, 0.0027269292773423326), (1180, 0.0026773276063666715), (1964, 0.0026756258436250267), (885, 0.002654361510064511), (1804, 0.0026407577963679413), (817, 0.002635694640628285), (2095, 0.0026193368067002126), (1532, 0.002616154932431329), (474, 0.0025991879977242563), (1564, 0.0025909889979296454), (1551, 0.002576948470631656), (572, 0.0025703392297591653), (590, 0.0025292893686076063), (378, 0.0025127800999939776), (1460, 0.0024890036133722827), (1968, 0.002484439790141664), (212, 0.0024723744884821365), (1871, 0.002451977915160484), (224, 0.00243740244739366), (835, 0.0024348252973793575), (688, 0.002430617399261131), (681, 0.0024275697791853006), (249, 0.0024064867700852926), (2195, 0.0023472679447719322), (1775, 0.0023309914372619724), (1570, 0.0023254319850233795), (673, 0.0023237679025448744), (2071, 0.0022871268975383995), (1478, 0.0022678575467286475), (1403, 0.0022566273509284957), (69, 0.0022563380612125182), (1607, 0.0022442416239722976), (534, 0.0021919421377637424), (2158, 0.002173322845568191), (218, 0.002169348613232405), (1291, 0.00212439155723231), (1610, 0.0021018472106842804), (2032, 0.0020948648449513633), (578, 0.0020883305367595762), (1087, 0.002078718687381231), (2082, 0.002078309469793298), (1597, 0.0020581150893444894), (1093, 0.0020511736064141427), (1997, 0.0020128945272500243), (2173, 0.0020122610673158543), (903, 0.0019668925763243823), (2182, 0.0019618104817787857), (637, 0.001944119644348401), (329, 0.0019397215078527865), (487, 0.001935564151676676), (2192, 0.0019316722033128424), (1649, 0.0019228608500273451), (1729, 0.0019187474099601918), (1286, 0.0018496663765047792), (522, 0.0017631658626171914), (1, 0.0), (102, 0.0), (116, 0.0), (132, 0.0), (152, 0.0), (173, 0.0), (183, 0.0), (232, 0.0), (275, 0.0), (288, 0.0), (313, 0.0), (393, 0.0), (440, 0.0), (445, 0.0), (477, 0.0), (483, 0.0), (525, 0.0), (536, 0.0), (571, 0.0), (593, 0.0), (607, 0.0), (615, 0.0), (703, 0.0), (704, 0.0), (738, 0.0), (776, 0.0), (779, 0.0), (822, 0.0), (838, 0.0), (857, 0.0), (901, 0.0), (908, 0.0), (909, 0.0), (927, 0.0), (936, 0.0), (945, 0.0), (967, 0.0), (974, 0.0), (978, 0.0), (1021, 0.0), (1024, 0.0), (1038, 0.0), (1067, 0.0), (1110, 0.0), (1120, 0.0), (1123, 0.0), (1125, 0.0), (1139, 0.0), (1144, 0.0), (1166, 0.0), (1168, 0.0), (1216, 0.0), (1258, 0.0), (1294, 0.0), (1354, 0.0), (1365, 0.0), (1369, 0.0), (1379, 0.0), (1393, 0.0), (1410, 0.0), (1425, 0.0), (1436, 0.0), (1465, 0.0), (1499, 0.0), (1501, 0.0), (1506, 0.0), (1508, 0.0), (1523, 0.0), (1528, 0.0), (1546, 0.0), (1561, 0.0), (1595, 0.0), (1616, 0.0), (1621, 0.0), (1639, 0.0), (1650, 0.0), (1658, 0.0), (1672, 0.0), (1685, 0.0), (1690, 0.0), (1727, 0.0), (1738, 0.0), (1743, 0.0), (1757, 0.0), (1762, 0.0), (1763, 0.0), (1768, 0.0), (1778, 0.0), (1780, 0.0), (1821, 0.0), (1853, 0.0), (1877, 0.0), (1883, 0.0), (1901, 0.0), (1915, 0.0), (1928, 0.0), (1966, 0.0), (1970, 0.0), (1974, 0.0), (1979, 0.0), (2003, 0.0), (2018, 0.0), (2042, 0.0), (2050, 0.0), (2059, 0.0), (2060, 0.0), (2063, 0.0), (2074, 0.0), (2078, 0.0), (2111, 0.0), (2116, 0.0), (2117, 0.0), (2157, 0.0), (2176, 0.0), (2183, 0.0), (2194, 0.0)]\n"
          ]
        }
      ],
      "source": [
        "# sorting the movies based on their similarity score\n",
        "\n",
        "Sorted_Similar_Movies = sorted(Recommendation_Score, key = lambda x:x[1], reverse = True)\n",
        "print(Sorted_Similar_Movies)"
      ]
    },
    {
      "cell_type": "code",
      "execution_count": null,
      "metadata": {
        "colab": {
          "base_uri": "https://localhost:8080/"
        },
        "execution": {
          "iopub.status.idle": "2023-05-17T19:25:03.590615Z",
          "shell.execute_reply": "2023-05-17T19:25:03.589238Z",
          "shell.execute_reply.started": "2023-05-17T19:25:02.163985Z"
        },
        "id": "Xi7K_S3s1cyt",
        "outputId": "dc26eb13-a2eb-46e1-99de-1273260cd7b1",
        "trusted": true
      },
      "outputs": [
        {
          "name": "stdout",
          "output_type": "stream",
          "text": [
            "Top 30 Movies Suggested for you: \n",
            "\n",
            "1 . Ram Setu\n",
            "2 . Dishoom\n",
            "3 . Aayirathil Oruvan\n",
            "4 . A Flying Ja0\n",
            "5 . Fateh\n",
            "6 . Chhorii\n",
            "7 . Akaash Vani\n",
            "8 . Bhuj: The Pride of India\n",
            "9 . Rowdy Rathore\n",
            "10 . Untitled Blumhouse Productions Film\n",
            "11 . Dus\n",
            "12 . Hurdang\n",
            "13 . Selfiee\n",
            "14 . Baaghi 2\n",
            "15 . Bachchhan Paandey\n",
            "16 . Housefull 2\n",
            "17 . Kick 2\n",
            "18 . Code Name: Tiranga\n",
            "19 . Kesari\n",
            "20 . Mrs. Serial Killer\n",
            "21 . Janhit Mein Jaari\n",
            "22 . Suraj Pe Mangal Bhari\n",
            "23 . Vinaya Vidheya Rama\n",
            "24 . D Company\n",
            "25 . Phoonk\n",
            "26 . Shool\n",
            "27 . Total Dhamaal\n",
            "28 . 800\n",
            "29 . Zameen\n",
            "30 . Dhamaal\n"
          ]
        }
      ],
      "source": [
        "# print the name of similar movies based on the index\n",
        "\n",
        "print('Top 30 Movies Suggested for you: \\n')\n",
        "\n",
        "i = 1\n",
        "\n",
        "for movie in Sorted_Similar_Movies:\n",
        "    index = movie[0]\n",
        "    title_from_index = ms[ms.index==index]['movie_name'].values[0]\n",
        "    if (i<31):\n",
        "        print(i, '.',title_from_index)\n",
        "        i+=1"
      ]
    },
    {
      "cell_type": "markdown",
      "metadata": {
        "id": "MmfAAyDb1cyt"
      },
      "source": [
        "# **Top 10 Movie Recommendation System**"
      ]
    },
    {
      "cell_type": "code",
      "execution_count": null,
      "metadata": {
        "colab": {
          "base_uri": "https://localhost:8080/"
        },
        "execution": {
          "iopub.execute_input": "2023-05-17T19:25:03.593429Z",
          "iopub.status.busy": "2023-05-17T19:25:03.592758Z",
          "iopub.status.idle": "2023-05-17T19:25:08.898363Z",
          "shell.execute_reply": "2023-05-17T19:25:08.897024Z",
          "shell.execute_reply.started": "2023-05-17T19:25:03.593374Z"
        },
        "id": "a5qbAGpe1cyt",
        "outputId": "f2c8699b-02cd-4904-8699-50074a1c1af7",
        "trusted": true
      },
      "outputs": [
        {
          "name": "stdout",
          "output_type": "stream",
          "text": [
            "Enter your favorite movie name: tiger\n",
            "Top 10 Movies suggested for you : \n",
            "\n",
            "0 . ['Liger']\n",
            "1 . ['JGM (JanaGanaMana)']\n",
            "2 . ['Kabzaa']\n",
            "3 . ['Purab Aur Pachhim']\n",
            "4 . ['Tadap']\n",
            "5 . ['Khaali Peeli']\n",
            "6 . ['Aadhi Bhagavan']\n",
            "7 . ['Don']\n",
            "8 . ['Pudhu Pe0ai']\n",
            "9 . ['Hum Paanch']\n"
          ]
        }
      ],
      "source": [
        "Movie_Name = input('Enter your favorite movie name: ')\n",
        "\n",
        "list_of_all_titles = ms['movie_name'].tolist()\n",
        "\n",
        "Find_Close_Match = difflib.get_close_matches(Movie_Name, list_of_all_titles)\n",
        "\n",
        "Close_Match = Find_Close_Match[0]\n",
        "\n",
        "Index_of_Movie = ms[ms.movie_name == Close_Match]['id'].values[0]\n",
        "\n",
        "Recommendation_Score = list(enumerate(Similarity_Score[Index_of_Movie]))\n",
        "\n",
        "sorted_similar_movies = sorted(Recommendation_Score, key = lambda x:x[1], reverse = True)\n",
        "\n",
        "print('Top 10 Movies suggested for you : \\n')\n",
        "\n",
        "i = 0\n",
        "\n",
        "for movie in sorted_similar_movies:\n",
        "    index = movie[0]\n",
        "    title_from_index = ms[ms.id==index]['movie_name'].values\n",
        "    if (i<10):\n",
        "        print(i,'.',title_from_index)\n",
        "        i+=1"
      ]
    }
  ],
  "metadata": {
    "colab": {
      "provenance": []
    },
    "kernelspec": {
      "display_name": "Python 3",
      "language": "python",
      "name": "python3"
    },
    "language_info": {
      "codemirror_mode": {
        "name": "ipython",
        "version": 3
      },
      "file_extension": ".py",
      "mimetype": "text/x-python",
      "name": "python",
      "nbconvert_exporter": "python",
      "pygments_lexer": "ipython3",
      "version": "3.10.10"
    }
  },
  "nbformat": 4,
  "nbformat_minor": 0
}
